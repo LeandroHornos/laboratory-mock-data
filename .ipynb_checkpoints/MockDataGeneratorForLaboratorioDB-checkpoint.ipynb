{
 "cells": [
  {
   "cell_type": "markdown",
   "metadata": {},
   "source": [
    "<h1 style=\"color:#555; font-size:3em\">Generador de fake data para la base de datos 'Laboratorio'</h1>\n",
    "<h2 style=\"color:#555\">Curso de SQL de CoderHouse</h2>"
   ]
  },
  {
   "cell_type": "code",
   "execution_count": 1,
   "metadata": {},
   "outputs": [],
   "source": [
    "import pandas as pd\n",
    "import random\n",
    "\n",
    "from faker import Faker\n",
    "from faker.providers import person\n",
    "\n",
    "from deep_translator import GoogleTranslator"
   ]
  },
  {
   "cell_type": "code",
   "execution_count": 2,
   "metadata": {},
   "outputs": [],
   "source": [
    "# set the seed\n",
    "Faker.seed(100)\n",
    "\n",
    "# Uso el locale en español de España\n",
    "fake = Faker('es_ES')\n",
    "\n",
    "# El locale solo tiene algunas cosas, por ejemplo el lorem queda en latin\n",
    "# para los casos en que necesito explícitamente indicar que use faker en inglés\n",
    "# genero una segunda instancia de faker en ingles.\n",
    "fake_en = Faker('en_US')"
   ]
  },
  {
   "cell_type": "markdown",
   "metadata": {},
   "source": [
    "**Funciones generales**"
   ]
  },
  {
   "cell_type": "code",
   "execution_count": 17,
   "metadata": {},
   "outputs": [],
   "source": [
    "def toSpanish(text):\n",
    "    try:\n",
    "        translated = GoogleTranslator(source='auto', target='es').translate(text)\n",
    "    except Exception as e:\n",
    "        print(e)\n",
    "        return text\n",
    "    return translated"
   ]
  },
  {
   "cell_type": "markdown",
   "metadata": {},
   "source": [
    "<h2>0: NIVEL_ACCESO</h2>"
   ]
  },
  {
   "cell_type": "code",
   "execution_count": 19,
   "metadata": {},
   "outputs": [
    {
     "data": {
      "text/plain": [
       "{'ID_NIVEL_ACCESO': [1, 2, 3],\n",
       " 'NIVEL': ['C', 'B', 'A'],\n",
       " 'DESCRIPCION_NIVEL': ['Colaboración Homogénea Versátil',\n",
       "  'Soporte Bifurcado Centrado En Las Ganancias',\n",
       "  'Línea Asegurada Motivadora Distribuida']}"
      ]
     },
     "execution_count": 19,
     "metadata": {},
     "output_type": "execute_result"
    }
   ],
   "source": [
    "data = {}\n",
    "\n",
    "# Indicar en <count> el número de filas que se quiere generar\n",
    "\n",
    "count = 3\n",
    "\n",
    "data['ID_NIVEL_ACCESO'] = [n+1 for n in range(count)]\n",
    "data['NIVEL'] = [random.choice(['A','B','C']) for n in range(count)]\n",
    "data['DESCRIPCION_NIVEL'] = [toSpanish(fake.catch_phrase()).title() for n in range(count)]"
   ]
  },
  {
   "cell_type": "code",
   "execution_count": 20,
   "metadata": {},
   "outputs": [
    {
     "data": {
      "text/html": [
       "<div>\n",
       "<style scoped>\n",
       "    .dataframe tbody tr th:only-of-type {\n",
       "        vertical-align: middle;\n",
       "    }\n",
       "\n",
       "    .dataframe tbody tr th {\n",
       "        vertical-align: top;\n",
       "    }\n",
       "\n",
       "    .dataframe thead th {\n",
       "        text-align: right;\n",
       "    }\n",
       "</style>\n",
       "<table border=\"1\" class=\"dataframe\">\n",
       "  <thead>\n",
       "    <tr style=\"text-align: right;\">\n",
       "      <th></th>\n",
       "      <th>ID_NIVEL_ACCESO</th>\n",
       "      <th>NIVEL</th>\n",
       "      <th>DESCRIPCION_NIVEL</th>\n",
       "    </tr>\n",
       "  </thead>\n",
       "  <tbody>\n",
       "    <tr>\n",
       "      <th>0</th>\n",
       "      <td>1</td>\n",
       "      <td>C</td>\n",
       "      <td>Colaboración Homogénea Versátil</td>\n",
       "    </tr>\n",
       "    <tr>\n",
       "      <th>1</th>\n",
       "      <td>2</td>\n",
       "      <td>B</td>\n",
       "      <td>Soporte Bifurcado Centrado En Las Ganancias</td>\n",
       "    </tr>\n",
       "    <tr>\n",
       "      <th>2</th>\n",
       "      <td>3</td>\n",
       "      <td>A</td>\n",
       "      <td>Línea Asegurada Motivadora Distribuida</td>\n",
       "    </tr>\n",
       "  </tbody>\n",
       "</table>\n",
       "</div>"
      ],
      "text/plain": [
       "   ID_NIVEL_ACCESO NIVEL                            DESCRIPCION_NIVEL\n",
       "0                1     C              Colaboración Homogénea Versátil\n",
       "1                2     B  Soporte Bifurcado Centrado En Las Ganancias\n",
       "2                3     A       Línea Asegurada Motivadora Distribuida"
      ]
     },
     "execution_count": 20,
     "metadata": {},
     "output_type": "execute_result"
    }
   ],
   "source": [
    "df_nivel_acceso = pd.DataFrame(data)\n",
    "df_nivel_acceso"
   ]
  },
  {
   "cell_type": "markdown",
   "metadata": {},
   "source": [
    "**Salida a CSV**"
   ]
  },
  {
   "cell_type": "code",
   "execution_count": 21,
   "metadata": {},
   "outputs": [],
   "source": [
    "df_nivel_acceso.to_csv('csv/00-Nivel_Acceso.csv')"
   ]
  },
  {
   "cell_type": "markdown",
   "metadata": {},
   "source": [
    "<h2 style=\"color:#777\">1: EMPLEADO</h2>"
   ]
  },
  {
   "cell_type": "markdown",
   "metadata": {},
   "source": [
    "**Funciones**"
   ]
  },
  {
   "cell_type": "code",
   "execution_count": 5,
   "metadata": {},
   "outputs": [],
   "source": [
    "def generateFakeDNI(min=2, max=3):\n",
    "    M = fake.random_int(min, max)\n",
    "    rest = fake.numerify(text='#.###.###')\n",
    "    return (f'{M}{rest}')\n",
    "\n",
    "def generateFakeGender(nb_threshold = 0.05):\n",
    "    choice = random.uniform(0, 1)\n",
    "    \n",
    "    if(choice < nb_threshold):\n",
    "        return 'x'\n",
    "    if(choice < 0.5):\n",
    "        return 'M'\n",
    "    else:\n",
    "        return 'F'\n",
    "\n",
    "def generateProfession():\n",
    "    options = [\"Técnico Químico\", \"Ingeniero Químico\", \"Licenciado en Química\", \"Bioquímico\", \"Farmacéutico\", \"Biotecnólogo\"]\n",
    "    return random.choice(options)\n",
    "\n",
    "def generateGenderedName(gender):\n",
    "    if gender == 'M':\n",
    "        return fake.first_name_male()\n",
    "    if gender == 'F':\n",
    "        return fake.first_name_female()\n",
    "    else:\n",
    "        return fake.first_name_nonbinary()\n",
    "    \n",
    "    \n",
    "def generateEmailFromName(first_name=\"john\", last_name=\"doe\"):\n",
    "    provs = ['fakemail', 'truchomail', 'altomail','repiolamail']\n",
    "    email = f'{first_name.lower()}.{last_name.lower()}{str(fake.random_int(min=100, max=999))}@{random.choice(provs)}.com'\n",
    "    return email\n"
   ]
  },
  {
   "cell_type": "markdown",
   "metadata": {},
   "source": [
    "**Generación de datos**"
   ]
  },
  {
   "cell_type": "code",
   "execution_count": 6,
   "metadata": {},
   "outputs": [],
   "source": [
    "data = {}\n",
    "\n",
    "# Indicar en <count> el número de filas que se quiere generar\n",
    "\n",
    "count = 20\n",
    "\n",
    "# Generamos la información básica de cada empleado\n",
    "\n",
    "data['ID_EMPLEADO'] = [n+1 for n in range(count)]\n",
    "data['APELLIDO'] = [fake.last_name() for n in range(count)]\n",
    "data['DNI'] = [generateFakeDNI() for n in range(count)]\n",
    "data['GENERO'] = [generateFakeGender() for n in range(count)]\n",
    "data['TELEFONO_MOVIL'] = [fake.phone_number() for n in range(count)]\n",
    "data['FECHA_NACIMIENTO'] =[fake.date_between(start_date = \"-65y\", end_date = \"-18y\") for n in range(count)]\n",
    "data['TITULO_UNIVERSITARIO'] = [generateProfession() for n in range(count)]\n",
    "data['DIRECCION'] = [fake.address() for n in range(count)]\n",
    "data['FECHA_CONTRATACION'] =[fake.date_between(start_date = \"-10y\", end_date = \"-1y\") for n in range(count)]\n",
    "data['ID_NIVEL_ACCESO'] = [fake.random_int(min=1, max=3) for n in range(count)]"
   ]
  },
  {
   "cell_type": "code",
   "execution_count": 7,
   "metadata": {
    "scrolled": true
   },
   "outputs": [],
   "source": [
    "# Guardamos la data en un dataframe\n",
    "df_empleado = pd.DataFrame(data)"
   ]
  },
  {
   "cell_type": "markdown",
   "metadata": {},
   "source": [
    "**Información secundaria**<br>\n",
    "A continuación completamos los campos con informacón que debe ser generada a partir de la data existente. El nombre de pila se elige a partir del género, mientras que el email se construye a partir del nombre y apellido."
   ]
  },
  {
   "cell_type": "code",
   "execution_count": 8,
   "metadata": {
    "scrolled": true
   },
   "outputs": [
    {
     "data": {
      "text/html": [
       "<div>\n",
       "<style scoped>\n",
       "    .dataframe tbody tr th:only-of-type {\n",
       "        vertical-align: middle;\n",
       "    }\n",
       "\n",
       "    .dataframe tbody tr th {\n",
       "        vertical-align: top;\n",
       "    }\n",
       "\n",
       "    .dataframe thead th {\n",
       "        text-align: right;\n",
       "    }\n",
       "</style>\n",
       "<table border=\"1\" class=\"dataframe\">\n",
       "  <thead>\n",
       "    <tr style=\"text-align: right;\">\n",
       "      <th></th>\n",
       "      <th>APELLIDO</th>\n",
       "      <th>DIRECCION</th>\n",
       "      <th>DNI</th>\n",
       "      <th>EMAIL</th>\n",
       "      <th>FECHA_CONTRATACION</th>\n",
       "      <th>FECHA_NACIMIENTO</th>\n",
       "      <th>GENERO</th>\n",
       "      <th>ID_EMPLEADO</th>\n",
       "      <th>ID_NIVEL_ACCESO</th>\n",
       "      <th>NOMBRE</th>\n",
       "      <th>TELEFONO_MOVIL</th>\n",
       "      <th>TITULO_UNIVERSITARIO</th>\n",
       "    </tr>\n",
       "  </thead>\n",
       "  <tbody>\n",
       "    <tr>\n",
       "      <th>0</th>\n",
       "      <td>Cámara</td>\n",
       "      <td>Pasadizo Lucio Cuadrado 44 Piso 6 ; Álava, 18146</td>\n",
       "      <td>36.436.879</td>\n",
       "      <td>severino.cámara423@altomail.com</td>\n",
       "      <td>2015-11-30</td>\n",
       "      <td>1974-02-19</td>\n",
       "      <td>M</td>\n",
       "      <td>1</td>\n",
       "      <td>1</td>\n",
       "      <td>Severino</td>\n",
       "      <td>+34918 92 28 92</td>\n",
       "      <td>Biotecnólogo</td>\n",
       "    </tr>\n",
       "    <tr>\n",
       "      <th>1</th>\n",
       "      <td>Fernández</td>\n",
       "      <td>Cuesta Isaura Merino 21 Piso 9 ; Melilla, 59268</td>\n",
       "      <td>32.095.204</td>\n",
       "      <td>marciano.fernández943@repiolamail.com</td>\n",
       "      <td>2013-07-23</td>\n",
       "      <td>1991-04-20</td>\n",
       "      <td>M</td>\n",
       "      <td>2</td>\n",
       "      <td>3</td>\n",
       "      <td>Marciano</td>\n",
       "      <td>+34 705961751</td>\n",
       "      <td>Bioquímico</td>\n",
       "    </tr>\n",
       "    <tr>\n",
       "      <th>2</th>\n",
       "      <td>Diego</td>\n",
       "      <td>Ronda de Galo Roura 29 Piso 5 ; Girona, 07943</td>\n",
       "      <td>20.934.893</td>\n",
       "      <td>paulino.diego927@fakemail.com</td>\n",
       "      <td>2021-03-10</td>\n",
       "      <td>1963-12-24</td>\n",
       "      <td>M</td>\n",
       "      <td>3</td>\n",
       "      <td>2</td>\n",
       "      <td>Paulino</td>\n",
       "      <td>+34717 43 53 00</td>\n",
       "      <td>Ingeniero Químico</td>\n",
       "    </tr>\n",
       "    <tr>\n",
       "      <th>3</th>\n",
       "      <td>Amo</td>\n",
       "      <td>Cuesta Epifanio Fuertes 16 Apt. 61 ; Burgos, 7...</td>\n",
       "      <td>35.701.738</td>\n",
       "      <td>jacinta.amo720@fakemail.com</td>\n",
       "      <td>2012-11-05</td>\n",
       "      <td>1993-06-11</td>\n",
       "      <td>F</td>\n",
       "      <td>4</td>\n",
       "      <td>2</td>\n",
       "      <td>Jacinta</td>\n",
       "      <td>+34 748181270</td>\n",
       "      <td>Farmacéutico</td>\n",
       "    </tr>\n",
       "    <tr>\n",
       "      <th>4</th>\n",
       "      <td>Gálvez</td>\n",
       "      <td>Camino de Leonor Sáez 9 Puerta 2 ; Málaga, 08666</td>\n",
       "      <td>29.306.162</td>\n",
       "      <td>santos.gálvez114@fakemail.com</td>\n",
       "      <td>2017-12-10</td>\n",
       "      <td>1971-09-21</td>\n",
       "      <td>M</td>\n",
       "      <td>5</td>\n",
       "      <td>1</td>\n",
       "      <td>Santos</td>\n",
       "      <td>+34675 87 37 08</td>\n",
       "      <td>Bioquímico</td>\n",
       "    </tr>\n",
       "  </tbody>\n",
       "</table>\n",
       "</div>"
      ],
      "text/plain": [
       "    APELLIDO                                          DIRECCION         DNI  \\\n",
       "0     Cámara   Pasadizo Lucio Cuadrado 44 Piso 6 ; Álava, 18146  36.436.879   \n",
       "1  Fernández    Cuesta Isaura Merino 21 Piso 9 ; Melilla, 59268  32.095.204   \n",
       "2      Diego      Ronda de Galo Roura 29 Piso 5 ; Girona, 07943  20.934.893   \n",
       "3        Amo  Cuesta Epifanio Fuertes 16 Apt. 61 ; Burgos, 7...  35.701.738   \n",
       "4     Gálvez   Camino de Leonor Sáez 9 Puerta 2 ; Málaga, 08666  29.306.162   \n",
       "\n",
       "                                   EMAIL FECHA_CONTRATACION FECHA_NACIMIENTO  \\\n",
       "0        severino.cámara423@altomail.com         2015-11-30       1974-02-19   \n",
       "1  marciano.fernández943@repiolamail.com         2013-07-23       1991-04-20   \n",
       "2          paulino.diego927@fakemail.com         2021-03-10       1963-12-24   \n",
       "3            jacinta.amo720@fakemail.com         2012-11-05       1993-06-11   \n",
       "4          santos.gálvez114@fakemail.com         2017-12-10       1971-09-21   \n",
       "\n",
       "  GENERO  ID_EMPLEADO  ID_NIVEL_ACCESO    NOMBRE   TELEFONO_MOVIL  \\\n",
       "0      M            1                1  Severino  +34918 92 28 92   \n",
       "1      M            2                3  Marciano    +34 705961751   \n",
       "2      M            3                2   Paulino  +34717 43 53 00   \n",
       "3      F            4                2   Jacinta    +34 748181270   \n",
       "4      M            5                1    Santos  +34675 87 37 08   \n",
       "\n",
       "  TITULO_UNIVERSITARIO  \n",
       "0         Biotecnólogo  \n",
       "1           Bioquímico  \n",
       "2    Ingeniero Químico  \n",
       "3         Farmacéutico  \n",
       "4           Bioquímico  "
      ]
     },
     "execution_count": 8,
     "metadata": {},
     "output_type": "execute_result"
    }
   ],
   "source": [
    "# Sacamos los saltos de línea en la dirección:\n",
    "df_empleado['DIRECCION'] = df_empleado['DIRECCION'].apply(lambda x: x.replace('\\n', '; '))\n",
    "\n",
    "# Generamos el nombre sabiendo el género\n",
    "df_empleado['NOMBRE'] = df_empleado.apply(lambda row: generateGenderedName(row['GENERO']), axis=1)\n",
    "\n",
    "# General el email sabiendo nombre y appellido\n",
    "df_empleado['EMAIL'] = df_empleado.apply(lambda row: generateEmailFromName(row['NOMBRE'], row['APELLIDO']), axis=1)\n",
    "\n",
    "# Ordenamos alfabeticamente las columnas\n",
    "df_empleado = df_empleado.reindex(sorted(df_empleado.columns), axis=1)\n",
    "\n",
    "# Vemos el resultado\n",
    "df_empleado.head()"
   ]
  },
  {
   "cell_type": "markdown",
   "metadata": {},
   "source": [
    "**Salida a csv**"
   ]
  },
  {
   "cell_type": "code",
   "execution_count": 9,
   "metadata": {},
   "outputs": [],
   "source": [
    "df_empleado.to_csv('csv/01-Empleado.csv', index=False)"
   ]
  },
  {
   "cell_type": "markdown",
   "metadata": {},
   "source": [
    "<h2 style=\"color:#777\">2: PROYECTO</h2>"
   ]
  },
  {
   "cell_type": "markdown",
   "metadata": {},
   "source": [
    "**Generación de datos**"
   ]
  },
  {
   "cell_type": "code",
   "execution_count": 11,
   "metadata": {
    "scrolled": true
   },
   "outputs": [],
   "source": [
    "data = {}\n",
    "\n",
    "# Indicar en <count> el número de filas que se quiere generar\n",
    "count = 5\n",
    "\n",
    "# Generamos la información básica de cada proyecto\n",
    "data['ID_PROYECTO'] = [n+1 for n in range(count)]\n",
    "data['NOMBRE_PROYECTO'] = [toSpanish(fake.bs()).title() for n in range(count)]\n",
    "data['FECHA_CREACION'] =[fake.date_between(start_date = \"-10y\", end_date = \"now\") for n in range(count)]\n",
    "\n",
    "data['DESCRIPCION'] = [toSpanish(fake_en.paragraph(nb_sentences=10)) for n in range(count)]"
   ]
  },
  {
   "cell_type": "code",
   "execution_count": 12,
   "metadata": {},
   "outputs": [
    {
     "data": {
      "text/html": [
       "<div>\n",
       "<style scoped>\n",
       "    .dataframe tbody tr th:only-of-type {\n",
       "        vertical-align: middle;\n",
       "    }\n",
       "\n",
       "    .dataframe tbody tr th {\n",
       "        vertical-align: top;\n",
       "    }\n",
       "\n",
       "    .dataframe thead th {\n",
       "        text-align: right;\n",
       "    }\n",
       "</style>\n",
       "<table border=\"1\" class=\"dataframe\">\n",
       "  <thead>\n",
       "    <tr style=\"text-align: right;\">\n",
       "      <th></th>\n",
       "      <th>ID_PROYECTO</th>\n",
       "      <th>NOMBRE_PROYECTO</th>\n",
       "      <th>FECHA_CREACION</th>\n",
       "      <th>DESCRIPCION</th>\n",
       "    </tr>\n",
       "  </thead>\n",
       "  <tbody>\n",
       "    <tr>\n",
       "      <th>0</th>\n",
       "      <td>1</td>\n",
       "      <td>Reinventar La Convergencia Distribuida</td>\n",
       "      <td>2020-08-17</td>\n",
       "      <td>Equipo aunque mil millones de rendimiento. Seg...</td>\n",
       "    </tr>\n",
       "    <tr>\n",
       "      <th>1</th>\n",
       "      <td>2</td>\n",
       "      <td>Envisioneer Back-End Modelos</td>\n",
       "      <td>2014-01-17</td>\n",
       "      <td>El periódico científico determina el momento d...</td>\n",
       "    </tr>\n",
       "    <tr>\n",
       "      <th>2</th>\n",
       "      <td>3</td>\n",
       "      <td>Crear Estrategias De Canales De Ladrillos Y Clics</td>\n",
       "      <td>2012-07-01</td>\n",
       "      <td>La necesidad familiar podría sangre. Mira la p...</td>\n",
       "    </tr>\n",
       "    <tr>\n",
       "      <th>3</th>\n",
       "      <td>4</td>\n",
       "      <td>Entregar Elementos De Acción Estratégicos</td>\n",
       "      <td>2015-05-09</td>\n",
       "      <td>Conferencia tradicional del sistema de estilo ...</td>\n",
       "    </tr>\n",
       "    <tr>\n",
       "      <th>4</th>\n",
       "      <td>5</td>\n",
       "      <td>Impulsar El Comercio Electrónico De Clase Mundial</td>\n",
       "      <td>2014-10-01</td>\n",
       "      <td>Experto celular correr hombre volar primavera ...</td>\n",
       "    </tr>\n",
       "  </tbody>\n",
       "</table>\n",
       "</div>"
      ],
      "text/plain": [
       "   ID_PROYECTO                                    NOMBRE_PROYECTO  \\\n",
       "0            1             Reinventar La Convergencia Distribuida   \n",
       "1            2                       Envisioneer Back-End Modelos   \n",
       "2            3  Crear Estrategias De Canales De Ladrillos Y Clics   \n",
       "3            4          Entregar Elementos De Acción Estratégicos   \n",
       "4            5  Impulsar El Comercio Electrónico De Clase Mundial   \n",
       "\n",
       "  FECHA_CREACION                                        DESCRIPCION  \n",
       "0     2020-08-17  Equipo aunque mil millones de rendimiento. Seg...  \n",
       "1     2014-01-17  El periódico científico determina el momento d...  \n",
       "2     2012-07-01  La necesidad familiar podría sangre. Mira la p...  \n",
       "3     2015-05-09  Conferencia tradicional del sistema de estilo ...  \n",
       "4     2014-10-01  Experto celular correr hombre volar primavera ...  "
      ]
     },
     "execution_count": 12,
     "metadata": {},
     "output_type": "execute_result"
    }
   ],
   "source": [
    "# Guardamos la data en un dataframe\n",
    "df_proyecto = pd.DataFrame(data)\n",
    "df_proyecto.head()"
   ]
  },
  {
   "cell_type": "code",
   "execution_count": 13,
   "metadata": {},
   "outputs": [],
   "source": [
    "df_proyecto.to_csv('csv/02-Proyecto.csv', index=False)"
   ]
  },
  {
   "cell_type": "markdown",
   "metadata": {},
   "source": [
    "<h2 style=\"color:#777\">3: SUSTANCIA</h2>"
   ]
  },
  {
   "cell_type": "markdown",
   "metadata": {},
   "source": [
    "**Funciones**"
   ]
  },
  {
   "cell_type": "code",
   "execution_count": 40,
   "metadata": {},
   "outputs": [
    {
     "data": {
      "text/plain": [
       "'cccccccccCSccFcccccCcccOc'"
      ]
     },
     "execution_count": 40,
     "metadata": {},
     "output_type": "execute_result"
    }
   ],
   "source": [
    "def generateSmiles(threshold=0.3):\n",
    "    atoms = ['C','n','o','O','s','S','Cl','Br','I','F','(c)','(C)','(n)','(o)','(O)','(s)','(S)']\n",
    "    length = fake.random_int(min=10, max=30)\n",
    "    smiles_list = []\n",
    "    for n in range(length):\n",
    "        choice = random.uniform(0,1)\n",
    "        if choice < threshold:\n",
    "            smiles_list.append(random.choice(atoms))\n",
    "        else:\n",
    "            smiles_list.append('c')\n",
    "    smiles = ''.join(smiles_list)\n",
    "    return(smiles)\n",
    "\n",
    "generateSmiles()"
   ]
  },
  {
   "cell_type": "code",
   "execution_count": 55,
   "metadata": {},
   "outputs": [],
   "source": [
    "filename = 'sustancias.txt'\n",
    "\n",
    "with open(filename, encoding='utf-8') as file:\n",
    "    susts = file.readlines()\n",
    "    susts = [sust.rstrip() for sust in susts]\n",
    "\n",
    "\n",
    "data = {}\n",
    "\n",
    "# Foreing Keys\n",
    "id_nivel_acceso = list(df_nivel_acceso['ID_NIVEL_ACCESO'])\n",
    "\n",
    "# Indicar en <count> el número de filas que se quiere generar\n",
    "count = 50\n",
    "\n",
    "sustancias = [random.choice(susts) for n in range(count)]\n",
    "# Genero la data\n",
    "\n",
    "data['ID_SUSTANCIA'] = [n+1 for n in range(count)]\n",
    "data['ID_NIVEL_ACCESO'] = [random.choice(id_nivel_acceso) for n in range(count)]\n",
    "data['NOMBRE_COMUN'] = sustancias\n",
    "data['NRO_CAS'] = [fake.numerify(text='##-###-###') for n in range(count)]\n",
    "data['NOMBRE_IUPAC'] = [sust.lower().replace(' ','-') for sust in sustancias]\n",
    "data['SMILES'] = [generateSmiles() for n in range(count) ]\n",
    "data['PESO_MOLECULAR'] = [ float(fake.random_int(min=100, max=700) + random.uniform(0,1)) for n in range(count)  ]"
   ]
  },
  {
   "cell_type": "code",
   "execution_count": 56,
   "metadata": {},
   "outputs": [
    {
     "data": {
      "text/html": [
       "<div>\n",
       "<style scoped>\n",
       "    .dataframe tbody tr th:only-of-type {\n",
       "        vertical-align: middle;\n",
       "    }\n",
       "\n",
       "    .dataframe tbody tr th {\n",
       "        vertical-align: top;\n",
       "    }\n",
       "\n",
       "    .dataframe thead th {\n",
       "        text-align: right;\n",
       "    }\n",
       "</style>\n",
       "<table border=\"1\" class=\"dataframe\">\n",
       "  <thead>\n",
       "    <tr style=\"text-align: right;\">\n",
       "      <th></th>\n",
       "      <th>ID_SUSTANCIA</th>\n",
       "      <th>ID_NIVEL_ACCESO</th>\n",
       "      <th>NOMBRE_COMUN</th>\n",
       "      <th>NRO_CAS</th>\n",
       "      <th>NOMBRE_IUPAC</th>\n",
       "      <th>SMILES</th>\n",
       "      <th>PESO_MOLECULAR</th>\n",
       "    </tr>\n",
       "  </thead>\n",
       "  <tbody>\n",
       "    <tr>\n",
       "      <th>0</th>\n",
       "      <td>1</td>\n",
       "      <td>1</td>\n",
       "      <td>Cloroformo</td>\n",
       "      <td>82-606-874</td>\n",
       "      <td>cloroformo</td>\n",
       "      <td>ccClcncccccccocccc(S)ccc(C)(o)cc</td>\n",
       "      <td>250.481652</td>\n",
       "    </tr>\n",
       "    <tr>\n",
       "      <th>1</th>\n",
       "      <td>2</td>\n",
       "      <td>3</td>\n",
       "      <td>Cloruro de Magnesio</td>\n",
       "      <td>78-015-448</td>\n",
       "      <td>cloruro-de-magnesio</td>\n",
       "      <td>cOSccClccF(C)ccc</td>\n",
       "      <td>226.651598</td>\n",
       "    </tr>\n",
       "    <tr>\n",
       "      <th>2</th>\n",
       "      <td>3</td>\n",
       "      <td>1</td>\n",
       "      <td>Nitrato de Calcio</td>\n",
       "      <td>39-048-205</td>\n",
       "      <td>nitrato-de-calcio</td>\n",
       "      <td>c(n)ClCl(O)(s)cScc(C)cccccc(n)ccoc</td>\n",
       "      <td>558.459114</td>\n",
       "    </tr>\n",
       "    <tr>\n",
       "      <th>3</th>\n",
       "      <td>4</td>\n",
       "      <td>2</td>\n",
       "      <td>Carbonato de Magnesio</td>\n",
       "      <td>77-949-308</td>\n",
       "      <td>carbonato-de-magnesio</td>\n",
       "      <td>cCl(n)ccccc(O)cccOc(o)cccco(o)c</td>\n",
       "      <td>246.423368</td>\n",
       "    </tr>\n",
       "    <tr>\n",
       "      <th>4</th>\n",
       "      <td>5</td>\n",
       "      <td>1</td>\n",
       "      <td>Estearato de Sodio</td>\n",
       "      <td>69-112-916</td>\n",
       "      <td>estearato-de-sodio</td>\n",
       "      <td>Cc(n)c(o)ccBrcOc(C)</td>\n",
       "      <td>298.120956</td>\n",
       "    </tr>\n",
       "  </tbody>\n",
       "</table>\n",
       "</div>"
      ],
      "text/plain": [
       "   ID_SUSTANCIA  ID_NIVEL_ACCESO           NOMBRE_COMUN     NRO_CAS  \\\n",
       "0             1                1             Cloroformo  82-606-874   \n",
       "1             2                3    Cloruro de Magnesio  78-015-448   \n",
       "2             3                1      Nitrato de Calcio  39-048-205   \n",
       "3             4                2  Carbonato de Magnesio  77-949-308   \n",
       "4             5                1     Estearato de Sodio  69-112-916   \n",
       "\n",
       "            NOMBRE_IUPAC                              SMILES  PESO_MOLECULAR  \n",
       "0             cloroformo    ccClcncccccccocccc(S)ccc(C)(o)cc      250.481652  \n",
       "1    cloruro-de-magnesio                    cOSccClccF(C)ccc      226.651598  \n",
       "2      nitrato-de-calcio  c(n)ClCl(O)(s)cScc(C)cccccc(n)ccoc      558.459114  \n",
       "3  carbonato-de-magnesio     cCl(n)ccccc(O)cccOc(o)cccco(o)c      246.423368  \n",
       "4     estearato-de-sodio                 Cc(n)c(o)ccBrcOc(C)      298.120956  "
      ]
     },
     "execution_count": 56,
     "metadata": {},
     "output_type": "execute_result"
    }
   ],
   "source": [
    "df_sustancia = pd.DataFrame(data)\n",
    "df_sustancia.head()"
   ]
  },
  {
   "cell_type": "code",
   "execution_count": 57,
   "metadata": {},
   "outputs": [],
   "source": [
    "df_sustancia.to_csv('csv/03-Sustancia.csv', index=False)"
   ]
  },
  {
   "cell_type": "code",
   "execution_count": null,
   "metadata": {},
   "outputs": [],
   "source": []
  }
 ],
 "metadata": {
  "kernelspec": {
   "display_name": "Python 3 (ipykernel)",
   "language": "python",
   "name": "python3"
  },
  "language_info": {
   "codemirror_mode": {
    "name": "ipython",
    "version": 3
   },
   "file_extension": ".py",
   "mimetype": "text/x-python",
   "name": "python",
   "nbconvert_exporter": "python",
   "pygments_lexer": "ipython3",
   "version": "3.9.7"
  }
 },
 "nbformat": 4,
 "nbformat_minor": 2
}

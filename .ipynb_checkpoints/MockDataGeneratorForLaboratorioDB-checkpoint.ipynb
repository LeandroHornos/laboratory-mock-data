{
 "cells": [
  {
   "cell_type": "markdown",
   "metadata": {},
   "source": [
    "<h1 style=\"color:#555; font-size:3em\">Generador de fake data para la base de datos 'Laboratorio'</h1>\n",
    "<h2 style=\"color:#555\">Curso de SQL de CoderHouse</h2>"
   ]
  },
  {
   "cell_type": "markdown",
   "metadata": {},
   "source": [
    "AUTOR: LEANDRO HORNOS"
   ]
  },
  {
   "cell_type": "markdown",
   "metadata": {},
   "source": [
    "Este notebook contiene el código para generar data ficticia, con el fin de rellenar de información la base de datos MySQL del proyecto final del curso de SQL de CoderHouse, 2022. <br>\n",
    "Para generar los datos se utiliza la librería Faker, la cual cuenta con la capacidad de generar un gran abanico de datos inventados en distintos idiomas. Dado que algunas funciones no están disponibles en español (por ejemplo el lorem), se utiliza el traductor de Google mediante la librería Deep Translator para pasar del inglés al español. Tener en cuenta que se requiere una conexión a internet para ejecutar el código por la necesidad de usar el servicio de traducción de Google. <br>\n",
    "Los scripts pueden ser lentos dependiendo de la velocidad de conexión a internet y la cantidad de texto a traducir."
   ]
  },
  {
   "cell_type": "code",
   "execution_count": 1,
   "metadata": {},
   "outputs": [],
   "source": [
    "import pandas as pd\n",
    "import datetime\n",
    "import random\n",
    "\n",
    "from faker import Faker\n",
    "from faker.providers import person\n",
    "\n",
    "from deep_translator import GoogleTranslator"
   ]
  },
  {
   "cell_type": "code",
   "execution_count": 2,
   "metadata": {},
   "outputs": [],
   "source": [
    "# set the seed\n",
    "Faker.seed(100)\n",
    "\n",
    "# Uso el locale en español de España\n",
    "fake = Faker('es_ES')\n",
    "\n",
    "# El locale solo tiene algunas cosas, por ejemplo el lorem queda en latin\n",
    "# para los casos en que necesito explícitamente indicar que use faker en inglés\n",
    "# genero una segunda instancia de faker en ingles.\n",
    "fake_en = Faker('en_US')"
   ]
  },
  {
   "cell_type": "markdown",
   "metadata": {},
   "source": [
    "**Funciones generales**"
   ]
  },
  {
   "cell_type": "code",
   "execution_count": 3,
   "metadata": {},
   "outputs": [],
   "source": [
    "def toSpanish(text):\n",
    "    try:\n",
    "        translated = GoogleTranslator(source='auto', target='es').translate(text)\n",
    "    except Exception as e:\n",
    "        print(e)\n",
    "        return text\n",
    "    return translated"
   ]
  },
  {
   "cell_type": "markdown",
   "metadata": {},
   "source": [
    "<h2>0: NIVEL_ACCESO</h2>"
   ]
  },
  {
   "cell_type": "code",
   "execution_count": 4,
   "metadata": {},
   "outputs": [],
   "source": [
    "def generateTableDf_NIVEL_ACCESO(count=3):\n",
    "    data = {}\n",
    "\n",
    "    # Generamos los datos\n",
    "\n",
    "    print('Generando datos...')\n",
    "\n",
    "    data['ID_NIVEL_ACCESO'] = [n+1 for n in range(count)]\n",
    "    data['NIVEL'] = [random.choice(['A','B','C']) for n in range(count)]\n",
    "    data['DESCRIPCION_NIVEL'] = [toSpanish(fake.catch_phrase()).title() for n in range(count)]\n",
    "\n",
    "    print('Listo')\n",
    "    \n",
    "    # Guardamos la data en un dataframe de pandas\n",
    "    df = pd.DataFrame(data)\n",
    "    \n",
    "    return df"
   ]
  },
  {
   "cell_type": "code",
   "execution_count": 5,
   "metadata": {},
   "outputs": [],
   "source": [
    "# df_nivel_aceso = generateTableDf_NIVEL_ACCESO()\n",
    "# df_nivel_acceso.head()"
   ]
  },
  {
   "cell_type": "markdown",
   "metadata": {},
   "source": [
    "**Salida a CSV**"
   ]
  },
  {
   "cell_type": "code",
   "execution_count": 6,
   "metadata": {},
   "outputs": [],
   "source": [
    "# df_nivel_acceso.to_csv('csv/00-Nivel_Acceso.csv')"
   ]
  },
  {
   "cell_type": "code",
   "execution_count": 7,
   "metadata": {},
   "outputs": [
    {
     "data": {
      "text/html": [
       "<div>\n",
       "<style scoped>\n",
       "    .dataframe tbody tr th:only-of-type {\n",
       "        vertical-align: middle;\n",
       "    }\n",
       "\n",
       "    .dataframe tbody tr th {\n",
       "        vertical-align: top;\n",
       "    }\n",
       "\n",
       "    .dataframe thead th {\n",
       "        text-align: right;\n",
       "    }\n",
       "</style>\n",
       "<table border=\"1\" class=\"dataframe\">\n",
       "  <thead>\n",
       "    <tr style=\"text-align: right;\">\n",
       "      <th></th>\n",
       "      <th>Unnamed: 0</th>\n",
       "      <th>ID_NIVEL_ACCESO</th>\n",
       "      <th>NIVEL</th>\n",
       "      <th>DESCRIPCION_NIVEL</th>\n",
       "    </tr>\n",
       "  </thead>\n",
       "  <tbody>\n",
       "    <tr>\n",
       "      <th>0</th>\n",
       "      <td>0</td>\n",
       "      <td>1</td>\n",
       "      <td>A</td>\n",
       "      <td>Circuito Sensible Al Contexto Ampliado</td>\n",
       "    </tr>\n",
       "    <tr>\n",
       "      <th>1</th>\n",
       "      <td>1</td>\n",
       "      <td>2</td>\n",
       "      <td>C</td>\n",
       "      <td>Hub Ergonómico Habilitado Para Rejilla</td>\n",
       "    </tr>\n",
       "    <tr>\n",
       "      <th>2</th>\n",
       "      <td>2</td>\n",
       "      <td>3</td>\n",
       "      <td>B</td>\n",
       "      <td>Base De Datos Incremental Autohabilitada</td>\n",
       "    </tr>\n",
       "  </tbody>\n",
       "</table>\n",
       "</div>"
      ],
      "text/plain": [
       "   Unnamed: 0  ID_NIVEL_ACCESO NIVEL                         DESCRIPCION_NIVEL\n",
       "0           0                1     A    Circuito Sensible Al Contexto Ampliado\n",
       "1           1                2     C    Hub Ergonómico Habilitado Para Rejilla\n",
       "2           2                3     B  Base De Datos Incremental Autohabilitada"
      ]
     },
     "execution_count": 7,
     "metadata": {},
     "output_type": "execute_result"
    }
   ],
   "source": [
    "df_nivel_acceso = pd.read_csv('csv/00-Nivel_Acceso.csv')\n",
    "df_nivel_acceso.head()"
   ]
  },
  {
   "cell_type": "markdown",
   "metadata": {},
   "source": [
    "<h2 style=\"color:#777\">1: EMPLEADO</h2>"
   ]
  },
  {
   "cell_type": "markdown",
   "metadata": {},
   "source": [
    "**Funciones**"
   ]
  },
  {
   "cell_type": "code",
   "execution_count": 8,
   "metadata": {},
   "outputs": [],
   "source": [
    "def generateFakeDNI(min=2, max=3):\n",
    "    M = fake.random_int(min, max)\n",
    "    rest = fake.numerify(text='#.###.###')\n",
    "    return (f'{M}{rest}')\n",
    "\n",
    "def generateFakeGender(nb_threshold = 0.05):\n",
    "    choice = random.uniform(0, 1)\n",
    "    \n",
    "    if(choice < nb_threshold):\n",
    "        return 'x'\n",
    "    if(choice < 0.5):\n",
    "        return 'M'\n",
    "    else:\n",
    "        return 'F'\n",
    "\n",
    "def generateProfession():\n",
    "    options = [\"Técnico Químico\", \"Ingeniero Químico\", \"Licenciado en Química\", \"Bioquímico\", \"Farmacéutico\", \"Biotecnólogo\"]\n",
    "    return random.choice(options)\n",
    "\n",
    "def generateGenderedName(gender):\n",
    "    if gender == 'M':\n",
    "        return fake.first_name_male()\n",
    "    if gender == 'F':\n",
    "        return fake.first_name_female()\n",
    "    else:\n",
    "        return fake.first_name_nonbinary()\n",
    "    \n",
    "def generateEmailFromName(first_name=\"john\", last_name=\"doe\"):\n",
    "    provs = ['fakemail', 'truchomail', 'altomail','repiolamail']\n",
    "    email = f'{first_name.lower()}.{last_name.lower()}{str(fake.random_int(min=100, max=999))}@{random.choice(provs)}.com'\n",
    "    return email\n"
   ]
  },
  {
   "cell_type": "markdown",
   "metadata": {},
   "source": [
    "**Generación de datos**"
   ]
  },
  {
   "cell_type": "code",
   "execution_count": 9,
   "metadata": {},
   "outputs": [],
   "source": [
    "def generateTableDf_EMPLEADO(count=20):\n",
    "    data = {}\n",
    "    # Generamos la información básica de cada empleado\n",
    "\n",
    "    print('Generando datos...')\n",
    "\n",
    "    data['ID_EMPLEADO'] = [n+1 for n in range(count)]\n",
    "    data['APELLIDO'] = [fake.last_name() for n in range(count)]\n",
    "    data['DNI'] = [generateFakeDNI() for n in range(count)]\n",
    "    data['GENERO'] = [generateFakeGender() for n in range(count)]\n",
    "    data['TELEFONO_MOVIL'] = [fake.phone_number() for n in range(count)]\n",
    "    data['FECHA_NACIMIENTO'] =[fake.date_between(start_date = \"-65y\", end_date = \"-18y\") for n in range(count)]\n",
    "    data['TITULO_UNIVERSITARIO'] = [generateProfession() for n in range(count)]\n",
    "    data['DIRECCION'] = [fake.address() for n in range(count)]\n",
    "    data['FECHA_CONTRATACION'] =[fake.date_between(start_date = \"-10y\", end_date = \"-1y\") for n in range(count)]\n",
    "    data['ID_NIVEL_ACCESO'] = [fake.random_int(min=1, max=3) for n in range(count)]\n",
    "    \n",
    "    print('Listo')\n",
    "    \n",
    "    # Guardamos la data en un dataframe\n",
    "    df = pd.DataFrame(data)\n",
    "    \n",
    "    # Sacamos los saltos de línea \\n en la dirección:\n",
    "    df['DIRECCION'] = df['DIRECCION'].apply(lambda x: x.replace('\\n', '; '))\n",
    "\n",
    "    # Generamos el nombre sabiendo el género\n",
    "    df['NOMBRE'] = df.apply(lambda row: generateGenderedName(row['GENERO']), axis=1)\n",
    "\n",
    "    # General el email sabiendo nombre y appellido\n",
    "    df['EMAIL'] = df.apply(lambda row: generateEmailFromName(row['NOMBRE'], row['APELLIDO']), axis=1)\n",
    "\n",
    "    # Ordenamos alfabeticamente las columnas\n",
    "    df = df.reindex(sorted(df_empleado.columns), axis=1)\n",
    "\n",
    "    return df"
   ]
  },
  {
   "cell_type": "code",
   "execution_count": 10,
   "metadata": {},
   "outputs": [],
   "source": [
    "# df_empleado = generateTableDf_EMPLEADO()\n",
    "# df_empleado.head()"
   ]
  },
  {
   "cell_type": "markdown",
   "metadata": {},
   "source": [
    "**Salida a csv**"
   ]
  },
  {
   "cell_type": "code",
   "execution_count": 11,
   "metadata": {},
   "outputs": [],
   "source": [
    "# df_empleado.to_csv('csv/01-Empleado.csv', index=False)"
   ]
  },
  {
   "cell_type": "code",
   "execution_count": 12,
   "metadata": {},
   "outputs": [
    {
     "data": {
      "text/html": [
       "<div>\n",
       "<style scoped>\n",
       "    .dataframe tbody tr th:only-of-type {\n",
       "        vertical-align: middle;\n",
       "    }\n",
       "\n",
       "    .dataframe tbody tr th {\n",
       "        vertical-align: top;\n",
       "    }\n",
       "\n",
       "    .dataframe thead th {\n",
       "        text-align: right;\n",
       "    }\n",
       "</style>\n",
       "<table border=\"1\" class=\"dataframe\">\n",
       "  <thead>\n",
       "    <tr style=\"text-align: right;\">\n",
       "      <th></th>\n",
       "      <th>APELLIDO</th>\n",
       "      <th>DIRECCION</th>\n",
       "      <th>DNI</th>\n",
       "      <th>FECHA_CONTRATACION</th>\n",
       "      <th>FECHA_NACIMIENTO</th>\n",
       "      <th>GENERO</th>\n",
       "      <th>ID_EMPLEADO</th>\n",
       "      <th>ID_NIVEL_ACCESO</th>\n",
       "      <th>TELEFONO_MOVIL</th>\n",
       "      <th>TITULO_UNIVERSITARIO</th>\n",
       "    </tr>\n",
       "  </thead>\n",
       "  <tbody>\n",
       "    <tr>\n",
       "      <th>0</th>\n",
       "      <td>Paredes</td>\n",
       "      <td>Ronda de Ezequiel Bautista 650; Lleida, 68717</td>\n",
       "      <td>31.537.919</td>\n",
       "      <td>2016-03-09</td>\n",
       "      <td>1968-11-06</td>\n",
       "      <td>F</td>\n",
       "      <td>1</td>\n",
       "      <td>2</td>\n",
       "      <td>+34 734 981 403</td>\n",
       "      <td>Biotecnólogo</td>\n",
       "    </tr>\n",
       "    <tr>\n",
       "      <th>1</th>\n",
       "      <td>Vega</td>\n",
       "      <td>Via Felicia Alberto 9; Córdoba, 77386</td>\n",
       "      <td>23.649.495</td>\n",
       "      <td>2015-12-29</td>\n",
       "      <td>1967-07-07</td>\n",
       "      <td>M</td>\n",
       "      <td>2</td>\n",
       "      <td>1</td>\n",
       "      <td>+34936 811 967</td>\n",
       "      <td>Ingeniero Químico</td>\n",
       "    </tr>\n",
       "    <tr>\n",
       "      <th>2</th>\n",
       "      <td>Dominguez</td>\n",
       "      <td>Rambla Carlito Soriano 957 Apt. 73 ; Guipúzcoa...</td>\n",
       "      <td>29.158.589</td>\n",
       "      <td>2013-02-27</td>\n",
       "      <td>1988-03-28</td>\n",
       "      <td>F</td>\n",
       "      <td>3</td>\n",
       "      <td>3</td>\n",
       "      <td>+34726123446</td>\n",
       "      <td>Ingeniero Químico</td>\n",
       "    </tr>\n",
       "    <tr>\n",
       "      <th>3</th>\n",
       "      <td>Ramón</td>\n",
       "      <td>Via de Gervasio Sevilla 665 Puerta 5 ; Albacet...</td>\n",
       "      <td>28.982.034</td>\n",
       "      <td>2015-03-03</td>\n",
       "      <td>1961-12-12</td>\n",
       "      <td>F</td>\n",
       "      <td>4</td>\n",
       "      <td>3</td>\n",
       "      <td>+34986 294 324</td>\n",
       "      <td>Técnico Químico</td>\n",
       "    </tr>\n",
       "    <tr>\n",
       "      <th>4</th>\n",
       "      <td>Figuerola</td>\n",
       "      <td>Plaza de Máximo Abril 44 Piso 7 ; Zamora, 73597</td>\n",
       "      <td>39.144.146</td>\n",
       "      <td>2017-03-19</td>\n",
       "      <td>1997-12-07</td>\n",
       "      <td>F</td>\n",
       "      <td>5</td>\n",
       "      <td>1</td>\n",
       "      <td>+34687086014</td>\n",
       "      <td>Biotecnólogo</td>\n",
       "    </tr>\n",
       "  </tbody>\n",
       "</table>\n",
       "</div>"
      ],
      "text/plain": [
       "    APELLIDO                                          DIRECCION         DNI  \\\n",
       "0    Paredes      Ronda de Ezequiel Bautista 650; Lleida, 68717  31.537.919   \n",
       "1       Vega              Via Felicia Alberto 9; Córdoba, 77386  23.649.495   \n",
       "2  Dominguez  Rambla Carlito Soriano 957 Apt. 73 ; Guipúzcoa...  29.158.589   \n",
       "3      Ramón  Via de Gervasio Sevilla 665 Puerta 5 ; Albacet...  28.982.034   \n",
       "4  Figuerola    Plaza de Máximo Abril 44 Piso 7 ; Zamora, 73597  39.144.146   \n",
       "\n",
       "  FECHA_CONTRATACION FECHA_NACIMIENTO GENERO  ID_EMPLEADO  ID_NIVEL_ACCESO  \\\n",
       "0         2016-03-09       1968-11-06      F            1                2   \n",
       "1         2015-12-29       1967-07-07      M            2                1   \n",
       "2         2013-02-27       1988-03-28      F            3                3   \n",
       "3         2015-03-03       1961-12-12      F            4                3   \n",
       "4         2017-03-19       1997-12-07      F            5                1   \n",
       "\n",
       "    TELEFONO_MOVIL TITULO_UNIVERSITARIO  \n",
       "0  +34 734 981 403         Biotecnólogo  \n",
       "1   +34936 811 967    Ingeniero Químico  \n",
       "2     +34726123446    Ingeniero Químico  \n",
       "3   +34986 294 324      Técnico Químico  \n",
       "4     +34687086014         Biotecnólogo  "
      ]
     },
     "execution_count": 12,
     "metadata": {},
     "output_type": "execute_result"
    }
   ],
   "source": [
    "df_empleado = pd.read_csv('csv/01-Empleado.csv')\n",
    "df_empleado.head()"
   ]
  },
  {
   "cell_type": "markdown",
   "metadata": {},
   "source": [
    "<h2 style=\"color:#777\">2: PROYECTO</h2>"
   ]
  },
  {
   "cell_type": "code",
   "execution_count": 13,
   "metadata": {},
   "outputs": [],
   "source": [
    "def generateProjectTitle():\n",
    "    phrase = toSpanish(fake.catch_phrase())\n",
    "    words = phrase.split()\n",
    "    title =(f'{words[0]} {words[-1]}').title()\n",
    "    return title"
   ]
  },
  {
   "cell_type": "markdown",
   "metadata": {},
   "source": [
    "**Generación de datos**"
   ]
  },
  {
   "cell_type": "code",
   "execution_count": 14,
   "metadata": {
    "scrolled": true
   },
   "outputs": [],
   "source": [
    "def generateTableDf_PROYECTO(count=5):\n",
    "    data = {}\n",
    "\n",
    "    # Generamos la información básica de cada proyecto\n",
    "    print('Generando datos...')\n",
    "\n",
    "    data['ID_PROYECTO'] = [n+1 for n in range(count)]\n",
    "    data['NOMBRE_PROYECTO'] = [generateProjectTitle() for n in range(count)]\n",
    "    data['FECHA_CREACION'] =[fake.date_between(start_date = \"-10y\", end_date = \"now\") for n in range(count)]\n",
    "    data['DESCRIPCION'] = [toSpanish(fake_en.paragraph(nb_sentences=3)) for n in range(count)]\n",
    "\n",
    "    print('Listo')\n",
    "    \n",
    "    #Guardamos los datos en un dataframe\n",
    "    df = pd.DataFrame(data)\n",
    "    \n",
    "    return df"
   ]
  },
  {
   "cell_type": "code",
   "execution_count": 15,
   "metadata": {},
   "outputs": [],
   "source": [
    "# Guardamos la data en un dataframe\n",
    "# df_proyecto = generateTableDf_PROYECTO()\n",
    "# df_proyecto.head()"
   ]
  },
  {
   "cell_type": "code",
   "execution_count": 16,
   "metadata": {},
   "outputs": [],
   "source": [
    "# df_proyecto.to_csv('csv/02-Proyecto.csv', index=False)"
   ]
  },
  {
   "cell_type": "code",
   "execution_count": 17,
   "metadata": {},
   "outputs": [
    {
     "data": {
      "text/html": [
       "<div>\n",
       "<style scoped>\n",
       "    .dataframe tbody tr th:only-of-type {\n",
       "        vertical-align: middle;\n",
       "    }\n",
       "\n",
       "    .dataframe tbody tr th {\n",
       "        vertical-align: top;\n",
       "    }\n",
       "\n",
       "    .dataframe thead th {\n",
       "        text-align: right;\n",
       "    }\n",
       "</style>\n",
       "<table border=\"1\" class=\"dataframe\">\n",
       "  <thead>\n",
       "    <tr style=\"text-align: right;\">\n",
       "      <th></th>\n",
       "      <th>ID_PROYECTO</th>\n",
       "      <th>NOMBRE_PROYECTO</th>\n",
       "      <th>FECHA_CREACION</th>\n",
       "      <th>DESCRIPCION</th>\n",
       "    </tr>\n",
       "  </thead>\n",
       "  <tbody>\n",
       "    <tr>\n",
       "      <th>0</th>\n",
       "      <td>1</td>\n",
       "      <td>Capacidad Equipo</td>\n",
       "      <td>2016-12-05</td>\n",
       "      <td>El árbol de estudio de letras calientes recibe...</td>\n",
       "    </tr>\n",
       "    <tr>\n",
       "      <th>1</th>\n",
       "      <td>2</td>\n",
       "      <td>Solución Reducido</td>\n",
       "      <td>2022-04-14</td>\n",
       "      <td>Donde ingresa el elemento de regla de preocupa...</td>\n",
       "    </tr>\n",
       "    <tr>\n",
       "      <th>2</th>\n",
       "      <td>3</td>\n",
       "      <td>Alianza Objetos</td>\n",
       "      <td>2016-10-14</td>\n",
       "      <td>Tarea republicana cambio entorno taza banco es...</td>\n",
       "    </tr>\n",
       "    <tr>\n",
       "      <th>3</th>\n",
       "      <td>4</td>\n",
       "      <td>Emulación Generación</td>\n",
       "      <td>2014-05-09</td>\n",
       "      <td>El soporte del libro parece médico en sí mismo...</td>\n",
       "    </tr>\n",
       "    <tr>\n",
       "      <th>4</th>\n",
       "      <td>5</td>\n",
       "      <td>Monitoreo Multicanal</td>\n",
       "      <td>2018-05-26</td>\n",
       "      <td>Viejo minuto costo feliz entrenamiento propiet...</td>\n",
       "    </tr>\n",
       "  </tbody>\n",
       "</table>\n",
       "</div>"
      ],
      "text/plain": [
       "   ID_PROYECTO       NOMBRE_PROYECTO FECHA_CREACION  \\\n",
       "0            1      Capacidad Equipo     2016-12-05   \n",
       "1            2     Solución Reducido     2022-04-14   \n",
       "2            3       Alianza Objetos     2016-10-14   \n",
       "3            4  Emulación Generación     2014-05-09   \n",
       "4            5  Monitoreo Multicanal     2018-05-26   \n",
       "\n",
       "                                         DESCRIPCION  \n",
       "0  El árbol de estudio de letras calientes recibe...  \n",
       "1  Donde ingresa el elemento de regla de preocupa...  \n",
       "2  Tarea republicana cambio entorno taza banco es...  \n",
       "3  El soporte del libro parece médico en sí mismo...  \n",
       "4  Viejo minuto costo feliz entrenamiento propiet...  "
      ]
     },
     "execution_count": 17,
     "metadata": {},
     "output_type": "execute_result"
    }
   ],
   "source": [
    "df_proyecto = pd.read_csv('csv/02-Proyecto.csv')\n",
    "df_proyecto.head()"
   ]
  },
  {
   "cell_type": "markdown",
   "metadata": {},
   "source": [
    "<h2 style=\"color:#777\">3: SUSTANCIA</h2>"
   ]
  },
  {
   "cell_type": "markdown",
   "metadata": {},
   "source": [
    "**Funciones**"
   ]
  },
  {
   "cell_type": "code",
   "execution_count": 18,
   "metadata": {},
   "outputs": [],
   "source": [
    "def generateSmiles(threshold=0.3):\n",
    "    atoms = ['C','n','o','O','s','S','Cl','Br','I','F','(c)','(C)','(n)','(o)','(O)','(s)','(S)']\n",
    "    length = fake.random_int(min=10, max=30)\n",
    "    smiles_list = []\n",
    "    for n in range(length):\n",
    "        choice = random.uniform(0,1)\n",
    "        if choice < threshold:\n",
    "            smiles_list.append(random.choice(atoms))\n",
    "        else:\n",
    "            smiles_list.append('c')\n",
    "    smiles = ''.join(smiles_list)\n",
    "    return(smiles)\n"
   ]
  },
  {
   "cell_type": "markdown",
   "metadata": {},
   "source": [
    "**Generación de datos**"
   ]
  },
  {
   "cell_type": "code",
   "execution_count": 19,
   "metadata": {},
   "outputs": [],
   "source": [
    "def generateTableDf_SUSTANCIA(susts, fkeys, count=50):\n",
    "    data = {}\n",
    "\n",
    "    # Foreing Keys\n",
    "    id_nivel_acceso = fkeys['ID_NIVEL_ACCESO']\n",
    "\n",
    "    sustancias = [random.choice(susts) for n in range(count)]\n",
    "\n",
    "    # Generamos la data\n",
    "\n",
    "    print('Generando datos...')\n",
    "\n",
    "    data['ID_SUSTANCIA'] = [n+1 for n in range(count)]\n",
    "    data['ID_NIVEL_ACCESO'] = [random.choice(id_nivel_acceso) for n in range(count)]\n",
    "    data['NOMBRE_COMUN'] = sustancias\n",
    "    data['NRO_CAS'] = [fake.numerify(text='##-###-###') for n in range(count)]\n",
    "    data['NOMBRE_IUPAC'] = [sust.lower().replace(' ','-') for sust in sustancias]\n",
    "    data['SMILES'] = [generateSmiles() for n in range(count) ]\n",
    "    data['PESO_MOLECULAR'] = [ float(fake.random_int(min=100, max=700) + random.uniform(0,1)) for n in range(count)  ]\n",
    "\n",
    "    print('Listo')\n",
    "    \n",
    "    #Guardamos la data en un dataframe\n",
    "    df = pd.DataFrame(data)\n",
    "    \n",
    "    return df"
   ]
  },
  {
   "cell_type": "code",
   "execution_count": 20,
   "metadata": {},
   "outputs": [],
   "source": [
    "# Para los nombres de las sustancias uso una lista de productos\n",
    "# obtenida de una distribuidora química, la que se encuentra en un\n",
    "# archivo de texto, con una sustancia por línea. \n",
    "# Importamos las sustacias a una lista\n",
    "\n",
    "filename = 'sustancias.txt'\n",
    "\n",
    "with open(filename, encoding='utf-8') as file:\n",
    "    susts = file.readlines()\n",
    "    susts = [sust.rstrip() for sust in susts]\n",
    "    \n",
    "fkeys = {'ID_NIVEL_ACCESO': list(df_nivel_acceso['ID_NIVEL_ACCESO'])}"
   ]
  },
  {
   "cell_type": "code",
   "execution_count": 21,
   "metadata": {},
   "outputs": [],
   "source": [
    "#Guardamos la data en un dataframe\n",
    "# df_sustancia = generateTableDf_SUSTANCIA(susts, fkeys)\n",
    "# df_sustancia.head()"
   ]
  },
  {
   "cell_type": "code",
   "execution_count": 22,
   "metadata": {},
   "outputs": [],
   "source": [
    "# Exportamos a csv\n",
    "# df_sustancia.to_csv('csv/03-Sustancia.csv', index=False)"
   ]
  },
  {
   "cell_type": "code",
   "execution_count": 23,
   "metadata": {},
   "outputs": [
    {
     "data": {
      "text/html": [
       "<div>\n",
       "<style scoped>\n",
       "    .dataframe tbody tr th:only-of-type {\n",
       "        vertical-align: middle;\n",
       "    }\n",
       "\n",
       "    .dataframe tbody tr th {\n",
       "        vertical-align: top;\n",
       "    }\n",
       "\n",
       "    .dataframe thead th {\n",
       "        text-align: right;\n",
       "    }\n",
       "</style>\n",
       "<table border=\"1\" class=\"dataframe\">\n",
       "  <thead>\n",
       "    <tr style=\"text-align: right;\">\n",
       "      <th></th>\n",
       "      <th>ID_SUSTANCIA</th>\n",
       "      <th>ID_NIVEL_ACCESO</th>\n",
       "      <th>NOMBRE_COMUN</th>\n",
       "      <th>NRO_CAS</th>\n",
       "      <th>NOMBRE_IUPAC</th>\n",
       "      <th>SMILES</th>\n",
       "      <th>PESO_MOLECULAR</th>\n",
       "    </tr>\n",
       "  </thead>\n",
       "  <tbody>\n",
       "    <tr>\n",
       "      <th>0</th>\n",
       "      <td>1</td>\n",
       "      <td>1</td>\n",
       "      <td>Alcohol Bencilico</td>\n",
       "      <td>28-125-394</td>\n",
       "      <td>alcohol-bencilico</td>\n",
       "      <td>cnIccc(O)cccc</td>\n",
       "      <td>446.161328</td>\n",
       "    </tr>\n",
       "    <tr>\n",
       "      <th>1</th>\n",
       "      <td>2</td>\n",
       "      <td>2</td>\n",
       "      <td>Bicarbonato de Sodio</td>\n",
       "      <td>02-270-431</td>\n",
       "      <td>bicarbonato-de-sodio</td>\n",
       "      <td>(c)ccccccssocccoccc(S)cnc(O)c</td>\n",
       "      <td>118.560761</td>\n",
       "    </tr>\n",
       "    <tr>\n",
       "      <th>2</th>\n",
       "      <td>3</td>\n",
       "      <td>1</td>\n",
       "      <td>Carbonato de Litio</td>\n",
       "      <td>13-450-361</td>\n",
       "      <td>carbonato-de-litio</td>\n",
       "      <td>ncc(o)ccccccccClcc(S)cc(n)ccc</td>\n",
       "      <td>228.671910</td>\n",
       "    </tr>\n",
       "    <tr>\n",
       "      <th>3</th>\n",
       "      <td>4</td>\n",
       "      <td>3</td>\n",
       "      <td>Pirofosfato Acido de Sodio</td>\n",
       "      <td>52-049-502</td>\n",
       "      <td>pirofosfato-acido-de-sodio</td>\n",
       "      <td>ccccnScc(S)c(o)cc(C)ccccccccc</td>\n",
       "      <td>636.926749</td>\n",
       "    </tr>\n",
       "    <tr>\n",
       "      <th>4</th>\n",
       "      <td>5</td>\n",
       "      <td>1</td>\n",
       "      <td>Acetona</td>\n",
       "      <td>09-535-890</td>\n",
       "      <td>acetona</td>\n",
       "      <td>nccc(o)c(C)cc(C)(o)cO</td>\n",
       "      <td>401.940669</td>\n",
       "    </tr>\n",
       "  </tbody>\n",
       "</table>\n",
       "</div>"
      ],
      "text/plain": [
       "   ID_SUSTANCIA  ID_NIVEL_ACCESO                NOMBRE_COMUN     NRO_CAS  \\\n",
       "0             1                1           Alcohol Bencilico  28-125-394   \n",
       "1             2                2        Bicarbonato de Sodio  02-270-431   \n",
       "2             3                1          Carbonato de Litio  13-450-361   \n",
       "3             4                3  Pirofosfato Acido de Sodio  52-049-502   \n",
       "4             5                1                     Acetona  09-535-890   \n",
       "\n",
       "                 NOMBRE_IUPAC                         SMILES  PESO_MOLECULAR  \n",
       "0           alcohol-bencilico                  cnIccc(O)cccc      446.161328  \n",
       "1        bicarbonato-de-sodio  (c)ccccccssocccoccc(S)cnc(O)c      118.560761  \n",
       "2          carbonato-de-litio  ncc(o)ccccccccClcc(S)cc(n)ccc      228.671910  \n",
       "3  pirofosfato-acido-de-sodio  ccccnScc(S)c(o)cc(C)ccccccccc      636.926749  \n",
       "4                     acetona          nccc(o)c(C)cc(C)(o)cO      401.940669  "
      ]
     },
     "execution_count": 23,
     "metadata": {},
     "output_type": "execute_result"
    }
   ],
   "source": [
    "df_sustancia = pd.read_csv('csv/03-Sustancia.csv')\n",
    "df_sustancia.head()"
   ]
  },
  {
   "cell_type": "markdown",
   "metadata": {},
   "source": [
    "<h2 style=\"color:#777\">4: EXPERIMENTO</h2>"
   ]
  },
  {
   "cell_type": "markdown",
   "metadata": {},
   "source": [
    "**Funciones**"
   ]
  },
  {
   "cell_type": "code",
   "execution_count": 24,
   "metadata": {},
   "outputs": [],
   "source": [
    "def calculateEndTime(start):\n",
    "    end = start + datetime.timedelta(days=1)\n",
    "    return end\n",
    "    "
   ]
  },
  {
   "cell_type": "markdown",
   "metadata": {},
   "source": [
    "**Generación de datos**"
   ]
  },
  {
   "cell_type": "code",
   "execution_count": 25,
   "metadata": {},
   "outputs": [],
   "source": [
    "def generateTableDf_EXPERIMENTO(fkeys, count=50):\n",
    "    data = {}\n",
    "\n",
    "    # Generamos la data principal\n",
    "\n",
    "    print('Generando datos...')\n",
    "\n",
    "    data['ID_EXPERIMENTO'] = [n+1 for n in range(count)]\n",
    "    data['ID_PROYECTO'] = [ random.choice( fkeys['ID_PROYECTO'] ) for n in range(count)]\n",
    "    data['TITULO_EXPERIMENTO'] =[ toSpanish( fake.bs() ).title() for n in range(count)]\n",
    "    data['OBJETIVO'] = [toSpanish( fake_en.paragraph( nb_sentences=3 ) ) for n in range(count)]\n",
    "    data['DESCRIPCION_EXPERIMENTO'] = [ toSpanish( fake_en.paragraph( nb_sentences=3 ) ) for n in range(count)]\n",
    "    data['CONCLUSION'] = [ toSpanish( fake_en.paragraph( nb_sentences=3 ) ) for n in range(count)]\n",
    "    data['FECHA_INICIO'] =  [ fake.date_time_between( start_date = \"-10y\", end_date = \"now\" ) for n in range(count)]\n",
    "\n",
    "    print('Listo')\n",
    "    \n",
    "    # Guardamos la data en un dataframe\n",
    "    df = pd.DataFrame(data)\n",
    "    \n",
    "    # Se calcula la fecha de finalización como un día después del inicio\n",
    "    df['FECHA_FINALIZACION'] = df['FECHA_INICIO'].apply(calculateEndTime)\n",
    "    \n",
    "    return df"
   ]
  },
  {
   "cell_type": "code",
   "execution_count": 26,
   "metadata": {},
   "outputs": [],
   "source": [
    "fkeys={'ID_PROYECTO' : list(df_proyecto['ID_PROYECTO']) }"
   ]
  },
  {
   "cell_type": "code",
   "execution_count": 27,
   "metadata": {},
   "outputs": [],
   "source": [
    "# df_experimento = generateTableDf_EXPERIMENTO(fkeys)\n",
    "# df_experimento.head()"
   ]
  },
  {
   "cell_type": "code",
   "execution_count": 28,
   "metadata": {},
   "outputs": [],
   "source": [
    "# Exportamos a csv\n",
    "# df_experimento.to_csv('csv/04-Experimento.csv', index=False)"
   ]
  },
  {
   "cell_type": "code",
   "execution_count": 29,
   "metadata": {},
   "outputs": [
    {
     "data": {
      "text/html": [
       "<div>\n",
       "<style scoped>\n",
       "    .dataframe tbody tr th:only-of-type {\n",
       "        vertical-align: middle;\n",
       "    }\n",
       "\n",
       "    .dataframe tbody tr th {\n",
       "        vertical-align: top;\n",
       "    }\n",
       "\n",
       "    .dataframe thead th {\n",
       "        text-align: right;\n",
       "    }\n",
       "</style>\n",
       "<table border=\"1\" class=\"dataframe\">\n",
       "  <thead>\n",
       "    <tr style=\"text-align: right;\">\n",
       "      <th></th>\n",
       "      <th>ID_EXPERIMENTO</th>\n",
       "      <th>ID_PROYECTO</th>\n",
       "      <th>TITULO_EXPERIMENTO</th>\n",
       "      <th>OBJETIVO</th>\n",
       "      <th>DESCRIPCION_EXPERIMENTO</th>\n",
       "      <th>CONCLUSION</th>\n",
       "      <th>FECHA_INICIO</th>\n",
       "      <th>FECHA_FINALIZACION</th>\n",
       "    </tr>\n",
       "  </thead>\n",
       "  <tbody>\n",
       "    <tr>\n",
       "      <th>0</th>\n",
       "      <td>1</td>\n",
       "      <td>5</td>\n",
       "      <td>Generar Ricos E-Tailers</td>\n",
       "      <td>Especialmente miembro de reclamo temprano. Act...</td>\n",
       "      <td>Desarrollar evitar lejos total en lugar de rel...</td>\n",
       "      <td>Ciudad de factor oscuro de la comunidad intern...</td>\n",
       "      <td>2016-06-15 14:08:37</td>\n",
       "      <td>2016-06-16 14:08:37</td>\n",
       "    </tr>\n",
       "    <tr>\n",
       "      <th>1</th>\n",
       "      <td>2</td>\n",
       "      <td>4</td>\n",
       "      <td>Acelerar Las Cadenas De Suministro Listas Para...</td>\n",
       "      <td>Lucha contra la preocupación de los fondos peq...</td>\n",
       "      <td>Misma cuatro diseños hablan piel posible. Es q...</td>\n",
       "      <td>El sujeto debe probar la dirección del camino.</td>\n",
       "      <td>2020-01-14 22:13:36</td>\n",
       "      <td>2020-01-15 22:13:36</td>\n",
       "    </tr>\n",
       "    <tr>\n",
       "      <th>2</th>\n",
       "      <td>3</td>\n",
       "      <td>1</td>\n",
       "      <td>Monetizar Sinergias Llave En Mano</td>\n",
       "      <td>Sujeto abogado ataque varios políticos. Tenga ...</td>\n",
       "      <td>Mujer también esposa que árbol. Explique el ni...</td>\n",
       "      <td>Simple esperanza particular idea teoría preocu...</td>\n",
       "      <td>2013-04-24 13:10:27</td>\n",
       "      <td>2013-04-25 13:10:27</td>\n",
       "    </tr>\n",
       "    <tr>\n",
       "      <th>3</th>\n",
       "      <td>4</td>\n",
       "      <td>1</td>\n",
       "      <td>Maximizar Nichos Dinámicos</td>\n",
       "      <td>Base de tareas de la misión que. Soporte bolsa...</td>\n",
       "      <td>Olvídese del nombre disponible del país de prá...</td>\n",
       "      <td>Red de posición de práctica de campaña de regl...</td>\n",
       "      <td>2021-02-09 19:33:07</td>\n",
       "      <td>2021-02-10 19:33:07</td>\n",
       "    </tr>\n",
       "    <tr>\n",
       "      <th>4</th>\n",
       "      <td>5</td>\n",
       "      <td>1</td>\n",
       "      <td>Escalar Soluciones Extensibles</td>\n",
       "      <td>Congreso bastante religioso. No mejora el rend...</td>\n",
       "      <td>Buena compañía significa ayuda. Atrapa la hora...</td>\n",
       "      <td>Así cada mano da a lo largo de la derecha. Esp...</td>\n",
       "      <td>2021-11-21 15:45:52</td>\n",
       "      <td>2021-11-22 15:45:52</td>\n",
       "    </tr>\n",
       "  </tbody>\n",
       "</table>\n",
       "</div>"
      ],
      "text/plain": [
       "   ID_EXPERIMENTO  ID_PROYECTO  \\\n",
       "0               1            5   \n",
       "1               2            4   \n",
       "2               3            1   \n",
       "3               4            1   \n",
       "4               5            1   \n",
       "\n",
       "                                  TITULO_EXPERIMENTO  \\\n",
       "0                            Generar Ricos E-Tailers   \n",
       "1  Acelerar Las Cadenas De Suministro Listas Para...   \n",
       "2                  Monetizar Sinergias Llave En Mano   \n",
       "3                         Maximizar Nichos Dinámicos   \n",
       "4                     Escalar Soluciones Extensibles   \n",
       "\n",
       "                                            OBJETIVO  \\\n",
       "0  Especialmente miembro de reclamo temprano. Act...   \n",
       "1  Lucha contra la preocupación de los fondos peq...   \n",
       "2  Sujeto abogado ataque varios políticos. Tenga ...   \n",
       "3  Base de tareas de la misión que. Soporte bolsa...   \n",
       "4  Congreso bastante religioso. No mejora el rend...   \n",
       "\n",
       "                             DESCRIPCION_EXPERIMENTO  \\\n",
       "0  Desarrollar evitar lejos total en lugar de rel...   \n",
       "1  Misma cuatro diseños hablan piel posible. Es q...   \n",
       "2  Mujer también esposa que árbol. Explique el ni...   \n",
       "3  Olvídese del nombre disponible del país de prá...   \n",
       "4  Buena compañía significa ayuda. Atrapa la hora...   \n",
       "\n",
       "                                          CONCLUSION         FECHA_INICIO  \\\n",
       "0  Ciudad de factor oscuro de la comunidad intern...  2016-06-15 14:08:37   \n",
       "1     El sujeto debe probar la dirección del camino.  2020-01-14 22:13:36   \n",
       "2  Simple esperanza particular idea teoría preocu...  2013-04-24 13:10:27   \n",
       "3  Red de posición de práctica de campaña de regl...  2021-02-09 19:33:07   \n",
       "4  Así cada mano da a lo largo de la derecha. Esp...  2021-11-21 15:45:52   \n",
       "\n",
       "    FECHA_FINALIZACION  \n",
       "0  2016-06-16 14:08:37  \n",
       "1  2020-01-15 22:13:36  \n",
       "2  2013-04-25 13:10:27  \n",
       "3  2021-02-10 19:33:07  \n",
       "4  2021-11-22 15:45:52  "
      ]
     },
     "execution_count": 29,
     "metadata": {},
     "output_type": "execute_result"
    }
   ],
   "source": [
    "df_experimento = pd.read_csv('csv/04-Experimento.csv')\n",
    "df_experimento.head()"
   ]
  },
  {
   "cell_type": "markdown",
   "metadata": {},
   "source": [
    "<h2 style=\"color:#777\">5: EQUIPAMIENTO</h2>"
   ]
  },
  {
   "cell_type": "code",
   "execution_count": 35,
   "metadata": {},
   "outputs": [],
   "source": [
    "def generateTableDf_EQUIPAMIENTO(fkeys, count=20):\n",
    "    data = {}\n",
    "\n",
    "    id_nivel_acceso = fkeys['ID_NIVEL_ACCESO']\n",
    "    \n",
    "    equipos = [\n",
    "        'Agitador Magnético',\n",
    "        'Agitador Mecánico',\n",
    "        'Manto Calefactor',\n",
    "        'pHmetro',\n",
    "        'Balón 3 bocas 100ml',\n",
    "        'Balón 3 bocas 250ml',\n",
    "        'Balón 3 bocas 500ml',\n",
    "        'Balón 3 bocas 1000ml',\n",
    "        'Termómetro electrónico',\n",
    "        'Refrigerante recto',\n",
    "        'Viscosímetro',\n",
    "        'Densímetro',\n",
    "        'HPLC',\n",
    "        'GC',\n",
    "        'Espectrofotómetro',\n",
    "        'Balanza analítica',\n",
    "        'Balanza granataria'    \n",
    "    ]\n",
    "\n",
    "    marcas = [\n",
    "        'Garófalo S.A.',\n",
    "        'Truch Instrumental',\n",
    "        'Phalopa Inc.',\n",
    "        'Juliet Pakard',\n",
    "        'Sorny',\n",
    "        'Sheneral Electric',\n",
    "        'Supergood Chemical Solutions',\n",
    "        'Cositorto Labware Enterprise'\n",
    "    ]\n",
    "\n",
    "    print('Generando Datos...')\n",
    "\n",
    "    data['ID_EQUIPAMIENTO'] =  [ n+1 for n in range(count) ]\n",
    "    data['ID_NIVEL_ACCESO'] = [ random.choice(id_nivel_acceso) for n in range(count) ]\n",
    "    data['NOMBRE_EQUIPO'] = [ random.choice(equipos) for n in range(count) ]\n",
    "    data['DESCRIPCION'] = [ \n",
    "        toSpanish( fake_en.paragraph(nb_sentences=2) ) \n",
    "        for n in range(count) \n",
    "    ]\n",
    "    data['MARCA'] = [ random.choice(marcas) for n in range(count) ]\n",
    "    data['MODELO'] = [ fake.numerify(text='#####-####') for n in range(count) ]\n",
    "\n",
    "    print('listo')\n",
    "    \n",
    "    #Guardamos los datos en un dataframe\n",
    "    df = pd.DataFrame(data)\n",
    "    \n",
    "    return df"
   ]
  },
  {
   "cell_type": "code",
   "execution_count": 36,
   "metadata": {},
   "outputs": [],
   "source": [
    "fkeys = {'ID_NIVEL_ACCESO' : list( df_nivel_acceso['ID_NIVEL_ACCESO'] ) }"
   ]
  },
  {
   "cell_type": "code",
   "execution_count": 38,
   "metadata": {},
   "outputs": [],
   "source": [
    "# df_equipamiento = generateTableDf_EQUIPAMIENTO(fkeys,count=2)\n",
    "# df_equipamiento.head()"
   ]
  },
  {
   "cell_type": "code",
   "execution_count": 39,
   "metadata": {},
   "outputs": [],
   "source": [
    "# Exportamos a csv\n",
    "# df_equipamiento.to_csv('csv/05-Equipamiento.csv', index=False)"
   ]
  },
  {
   "cell_type": "code",
   "execution_count": 40,
   "metadata": {},
   "outputs": [
    {
     "data": {
      "text/html": [
       "<div>\n",
       "<style scoped>\n",
       "    .dataframe tbody tr th:only-of-type {\n",
       "        vertical-align: middle;\n",
       "    }\n",
       "\n",
       "    .dataframe tbody tr th {\n",
       "        vertical-align: top;\n",
       "    }\n",
       "\n",
       "    .dataframe thead th {\n",
       "        text-align: right;\n",
       "    }\n",
       "</style>\n",
       "<table border=\"1\" class=\"dataframe\">\n",
       "  <thead>\n",
       "    <tr style=\"text-align: right;\">\n",
       "      <th></th>\n",
       "      <th>ID_EQUIPAMIENTO</th>\n",
       "      <th>ID_NIVEL_ACCESO</th>\n",
       "      <th>NOMBRE_EQUIPO</th>\n",
       "      <th>DESCRIPCION</th>\n",
       "      <th>MARCA</th>\n",
       "      <th>MODELO</th>\n",
       "    </tr>\n",
       "  </thead>\n",
       "  <tbody>\n",
       "    <tr>\n",
       "      <th>0</th>\n",
       "      <td>1</td>\n",
       "      <td>1</td>\n",
       "      <td>Espectrofotómetro</td>\n",
       "      <td>Éxito internacional reducir control movimiento...</td>\n",
       "      <td>Garófalo S.A.</td>\n",
       "      <td>08473-4050</td>\n",
       "    </tr>\n",
       "    <tr>\n",
       "      <th>1</th>\n",
       "      <td>2</td>\n",
       "      <td>1</td>\n",
       "      <td>Balón 3 bocas 250ml</td>\n",
       "      <td>Ejecute la posición de nivel de reflejo. A lo ...</td>\n",
       "      <td>Sorny</td>\n",
       "      <td>74812-6630</td>\n",
       "    </tr>\n",
       "    <tr>\n",
       "      <th>2</th>\n",
       "      <td>3</td>\n",
       "      <td>1</td>\n",
       "      <td>GC</td>\n",
       "      <td>Ver piso por qué llamar.</td>\n",
       "      <td>Sheneral Electric</td>\n",
       "      <td>38025-3466</td>\n",
       "    </tr>\n",
       "    <tr>\n",
       "      <th>3</th>\n",
       "      <td>4</td>\n",
       "      <td>3</td>\n",
       "      <td>HPLC</td>\n",
       "      <td>Mañana indicar ver.</td>\n",
       "      <td>Cositorto Labware Enterprise</td>\n",
       "      <td>69024-5264</td>\n",
       "    </tr>\n",
       "    <tr>\n",
       "      <th>4</th>\n",
       "      <td>5</td>\n",
       "      <td>3</td>\n",
       "      <td>HPLC</td>\n",
       "      <td>Campo mí tres desde entonces pero varios. Crea...</td>\n",
       "      <td>Garófalo S.A.</td>\n",
       "      <td>50429-5719</td>\n",
       "    </tr>\n",
       "  </tbody>\n",
       "</table>\n",
       "</div>"
      ],
      "text/plain": [
       "   ID_EQUIPAMIENTO  ID_NIVEL_ACCESO        NOMBRE_EQUIPO  \\\n",
       "0                1                1    Espectrofotómetro   \n",
       "1                2                1  Balón 3 bocas 250ml   \n",
       "2                3                1                   GC   \n",
       "3                4                3                 HPLC   \n",
       "4                5                3                 HPLC   \n",
       "\n",
       "                                         DESCRIPCION  \\\n",
       "0  Éxito internacional reducir control movimiento...   \n",
       "1  Ejecute la posición de nivel de reflejo. A lo ...   \n",
       "2                           Ver piso por qué llamar.   \n",
       "3                                Mañana indicar ver.   \n",
       "4  Campo mí tres desde entonces pero varios. Crea...   \n",
       "\n",
       "                          MARCA      MODELO  \n",
       "0                 Garófalo S.A.  08473-4050  \n",
       "1                         Sorny  74812-6630  \n",
       "2             Sheneral Electric  38025-3466  \n",
       "3  Cositorto Labware Enterprise  69024-5264  \n",
       "4                 Garófalo S.A.  50429-5719  "
      ]
     },
     "execution_count": 40,
     "metadata": {},
     "output_type": "execute_result"
    }
   ],
   "source": [
    "df_equipamiento = pd.read_csv('csv/05-Equipamiento.csv')\n",
    "df_equipamiento.head()"
   ]
  },
  {
   "cell_type": "code",
   "execution_count": null,
   "metadata": {},
   "outputs": [],
   "source": []
  }
 ],
 "metadata": {
  "kernelspec": {
   "display_name": "Python 3 (ipykernel)",
   "language": "python",
   "name": "python3"
  },
  "language_info": {
   "codemirror_mode": {
    "name": "ipython",
    "version": 3
   },
   "file_extension": ".py",
   "mimetype": "text/x-python",
   "name": "python",
   "nbconvert_exporter": "python",
   "pygments_lexer": "ipython3",
   "version": "3.9.7"
  }
 },
 "nbformat": 4,
 "nbformat_minor": 2
}

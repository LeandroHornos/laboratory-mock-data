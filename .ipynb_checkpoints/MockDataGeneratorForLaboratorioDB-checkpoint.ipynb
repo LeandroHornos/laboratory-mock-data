{
 "cells": [
  {
   "cell_type": "markdown",
   "metadata": {},
   "source": [
    "<h1 style=\"color:#555; font-size:3em\">Generador de fake data para la base de datos 'Laboratorio'</h1>\n",
    "<h2 style=\"color:#555\">Curso de SQL de CoderHouse</h2>"
   ]
  },
  {
   "cell_type": "markdown",
   "metadata": {},
   "source": [
    "AUTOR: LEANDRO HORNOS"
   ]
  },
  {
   "cell_type": "markdown",
   "metadata": {},
   "source": [
    "Este notebook contiene el código para generar data ficticia, con el fin de rellenar de información la base de datos MySQL del proyecto final del curso de SQL de CoderHouse, 2022. <br>\n",
    "Para generar los datos se utiliza la librería Faker, la cual cuenta con la capacidad de generar un gran abanico de datos inventados en distintos idiomas. Dado que algunas funciones no están disponibles en español (por ejemplo el lorem), se utiliza el traductor de Google mediante la librería Deep Translator para pasar del inglés al español. Tener en cuenta que se requiere una conexión a internet para ejecutar el código por la necesidad de usar el servicio de traducción de Google. <br>\n",
    "Los scripts pueden ser lentos dependiendo de la velocidad de conexión a internet y la cantidad de texto a traducir."
   ]
  },
  {
   "cell_type": "code",
   "execution_count": 1,
   "metadata": {},
   "outputs": [],
   "source": [
    "import pandas as pd\n",
    "from datetime import datetime, timedelta\n",
    "import time\n",
    "import random\n",
    "\n",
    "from faker import Faker\n",
    "from faker.providers import person\n",
    "\n",
    "from deep_translator import GoogleTranslator"
   ]
  },
  {
   "cell_type": "code",
   "execution_count": 2,
   "metadata": {},
   "outputs": [],
   "source": [
    "# set the seed\n",
    "Faker.seed(100)\n",
    "\n",
    "# Uso el locale en español de España\n",
    "fake = Faker('es_ES')\n",
    "\n",
    "# El locale solo tiene algunas cosas, por ejemplo el lorem queda en latin\n",
    "# para los casos en que necesito explícitamente indicar que use faker en inglés\n",
    "# genero una segunda instancia de faker en ingles.\n",
    "fake_en = Faker('en_US')"
   ]
  },
  {
   "cell_type": "code",
   "execution_count": 3,
   "metadata": {},
   "outputs": [],
   "source": [
    "# Encierro la lógica de la generación de cada tabla\n",
    "# en una función que devuelve un dataframe.\n",
    "# El template de la función es:\n",
    "\n",
    "def generateTableDf_TABLENAME(count=100):\n",
    "    data = {}\n",
    "    \n",
    "    df = pd.DataFrame(data)\n",
    "    \n",
    "    return df"
   ]
  },
  {
   "cell_type": "markdown",
   "metadata": {},
   "source": [
    "**Funciones generales**"
   ]
  },
  {
   "cell_type": "code",
   "execution_count": 4,
   "metadata": {},
   "outputs": [],
   "source": [
    "def toSpanish(text):\n",
    "    try:\n",
    "        translated = GoogleTranslator(source='auto', target='es').translate(text)\n",
    "    except Exception as e:\n",
    "        print(e)\n",
    "        return text\n",
    "    return translated\n",
    "\n",
    "def generateParentChildPairs(parentList, childrenList, offspring=2):\n",
    "    \n",
    "    # Eliminamos los duplicados\n",
    "    \n",
    "    if len( parentList ) != len( set(parentList) ):\n",
    "        print('Cuidado, la lista padre contiene duplicados.'\n",
    "             'Solo se utilizarán los valores únicos')\n",
    "        \n",
    "        parentList = list( set(parentList) )\n",
    "        \n",
    "        \n",
    "    if len( childrenList ) != len( set(childrenList) ):\n",
    "        print('Cuidado, la lista de hijos contiene duplicados.'\n",
    "            'Solo se utilizarán los valores únicos')\n",
    "        \n",
    "        childrenList = list( set(childrenList) )\n",
    "        \n",
    "    # Un elemento de la lista parent no puede tener más\n",
    "    # hijos únicos que el total de elementos en la lista children\n",
    "    \n",
    "    if offspring > len(childrenList):\n",
    "        limit = len(childrenList)\n",
    "        \n",
    "        print('Se han indicado más hijos por padre que el número '\n",
    "             'de elementos únicos en la lista de hijos. Se utiliza '\n",
    "             'el total de elementos de la lista children.')\n",
    "    else:\n",
    "        limit = offspring\n",
    "        \n",
    "    # Creo una lista para almacenar los pares\n",
    "    pairs = []\n",
    "\n",
    "    for parent in parentList:\n",
    "        \n",
    "        # Hago esto para generar una copia de la lista\n",
    "        # y poder modificarla sin afectar original\n",
    "        candidates = list(childrenList)\n",
    "\n",
    "        for n in range(limit):\n",
    "            index = random.randint(0, len(candidates)-1 )\n",
    "            child = candidates.pop(index)\n",
    "            pairs.append( (parent, child) )\n",
    "    \n",
    "    print(f'Se han generado {len(pairs)} pares de elementos.')\n",
    "    return pairs\n",
    "\n",
    "        "
   ]
  },
  {
   "cell_type": "markdown",
   "metadata": {},
   "source": [
    "<h2>1: NIVEL_ACCESO</h2>"
   ]
  },
  {
   "cell_type": "code",
   "execution_count": 5,
   "metadata": {},
   "outputs": [],
   "source": [
    "def generateTableDf_NIVEL_ACCESO(count=3):\n",
    "    data = {}\n",
    "\n",
    "    # Generamos los datos\n",
    "\n",
    "    print('Generando datos...')\n",
    "\n",
    "    data['ID_NIVEL_ACCESO'] = [n+1 for n in range(count)]\n",
    "    data['NIVEL'] = [random.choice(['A','B','C']) for n in range(count)]\n",
    "    data['DESCRIPCION_NIVEL'] = [toSpanish(fake.catch_phrase()).title() for n in range(count)]\n",
    "\n",
    "    print('Listo')\n",
    "    \n",
    "    # Guardamos la data en un dataframe de pandas\n",
    "    df = pd.DataFrame(data)\n",
    "    \n",
    "    return df"
   ]
  },
  {
   "cell_type": "code",
   "execution_count": 6,
   "metadata": {},
   "outputs": [],
   "source": [
    "# df_nivel_acceso = generateTableDf_NIVEL_ACCESO()\n",
    "# df_nivel_acceso.head()"
   ]
  },
  {
   "cell_type": "markdown",
   "metadata": {},
   "source": [
    "**Salida a CSV**"
   ]
  },
  {
   "cell_type": "code",
   "execution_count": 7,
   "metadata": {},
   "outputs": [],
   "source": [
    "# df_nivel_acceso.to_csv('csv/01-Nivel_acceso.csv', index=False)"
   ]
  },
  {
   "cell_type": "code",
   "execution_count": 8,
   "metadata": {},
   "outputs": [
    {
     "data": {
      "text/html": [
       "<div>\n",
       "<style scoped>\n",
       "    .dataframe tbody tr th:only-of-type {\n",
       "        vertical-align: middle;\n",
       "    }\n",
       "\n",
       "    .dataframe tbody tr th {\n",
       "        vertical-align: top;\n",
       "    }\n",
       "\n",
       "    .dataframe thead th {\n",
       "        text-align: right;\n",
       "    }\n",
       "</style>\n",
       "<table border=\"1\" class=\"dataframe\">\n",
       "  <thead>\n",
       "    <tr style=\"text-align: right;\">\n",
       "      <th></th>\n",
       "      <th>ID_NIVEL_ACCESO</th>\n",
       "      <th>NIVEL</th>\n",
       "      <th>DESCRIPCION_NIVEL</th>\n",
       "    </tr>\n",
       "  </thead>\n",
       "  <tbody>\n",
       "    <tr>\n",
       "      <th>0</th>\n",
       "      <td>1</td>\n",
       "      <td>A</td>\n",
       "      <td>Inteligencia Artificial Operativa Habilitada P...</td>\n",
       "    </tr>\n",
       "    <tr>\n",
       "      <th>1</th>\n",
       "      <td>2</td>\n",
       "      <td>A</td>\n",
       "      <td>Núcleo De Recursos Humanos Multiplataforma</td>\n",
       "    </tr>\n",
       "    <tr>\n",
       "      <th>2</th>\n",
       "      <td>3</td>\n",
       "      <td>B</td>\n",
       "      <td>Interfaz Asimilada Impulsada Por El Cliente</td>\n",
       "    </tr>\n",
       "  </tbody>\n",
       "</table>\n",
       "</div>"
      ],
      "text/plain": [
       "   ID_NIVEL_ACCESO NIVEL                                  DESCRIPCION_NIVEL\n",
       "0                1     A  Inteligencia Artificial Operativa Habilitada P...\n",
       "1                2     A         Núcleo De Recursos Humanos Multiplataforma\n",
       "2                3     B        Interfaz Asimilada Impulsada Por El Cliente"
      ]
     },
     "execution_count": 8,
     "metadata": {},
     "output_type": "execute_result"
    }
   ],
   "source": [
    "df_nivel_acceso = pd.read_csv('csv/01-Nivel_acceso.csv')\n",
    "df_nivel_acceso.head()"
   ]
  },
  {
   "cell_type": "markdown",
   "metadata": {},
   "source": [
    "<h2 style=\"color:#777\">2: EMPLEADO</h2>"
   ]
  },
  {
   "cell_type": "markdown",
   "metadata": {},
   "source": [
    "**Funciones**"
   ]
  },
  {
   "cell_type": "code",
   "execution_count": 9,
   "metadata": {},
   "outputs": [],
   "source": [
    "def generateFakeDNI(min=2, max=3):\n",
    "    M = fake.random_int(min, max)\n",
    "    rest = fake.numerify(text='#.###.###')\n",
    "    return (f'{M}{rest}')\n",
    "\n",
    "def generateFakeGender(nb_threshold = 0.05):\n",
    "    choice = random.uniform(0, 1)\n",
    "    \n",
    "    if(choice < nb_threshold):\n",
    "        return 'x'\n",
    "    if(choice < 0.5):\n",
    "        return 'M'\n",
    "    else:\n",
    "        return 'F'\n",
    "\n",
    "def generateProfession():\n",
    "    options = [\"Técnico Químico\", \"Ingeniero Químico\", \"Licenciado en Química\", \"Bioquímico\", \"Farmacéutico\", \"Biotecnólogo\"]\n",
    "    return random.choice(options)\n",
    "\n",
    "def generateGenderedName(gender):\n",
    "    if gender == 'M':\n",
    "        return fake.first_name_male()\n",
    "    if gender == 'F':\n",
    "        return fake.first_name_female()\n",
    "    else:\n",
    "        return fake.first_name_nonbinary()\n",
    "    \n",
    "def generateEmailFromName(first_name=\"john\", last_name=\"doe\"):\n",
    "    provs = ['fakemail', 'truchomail', 'altomail','repiolamail']\n",
    "    email = f'{first_name.lower()}.{last_name.lower()}{str(fake.random_int(min=100, max=999))}@{random.choice(provs)}.com'\n",
    "    return email\n"
   ]
  },
  {
   "cell_type": "markdown",
   "metadata": {},
   "source": [
    "**Generación de datos**"
   ]
  },
  {
   "cell_type": "code",
   "execution_count": 10,
   "metadata": {},
   "outputs": [],
   "source": [
    "def generateTableDf_EMPLEADO(count=20):\n",
    "    data = {}\n",
    "    # Generamos la información básica de cada empleado\n",
    "\n",
    "    print('Generando datos...')\n",
    "\n",
    "    data['ID_EMPLEADO'] = [n+1 for n in range(count)]\n",
    "    data['APELLIDO'] = [fake.last_name() for n in range(count)]\n",
    "    data['DNI'] = [generateFakeDNI() for n in range(count)]\n",
    "    data['GENERO'] = [generateFakeGender() for n in range(count)]\n",
    "    data['TELEFONO_MOVIL'] = [fake.phone_number() for n in range(count)]\n",
    "    data['FECHA_NACIMIENTO'] =[fake.date_between(start_date = \"-65y\", end_date = \"-18y\") for n in range(count)]\n",
    "    data['TITULO_UNIVERSITARIO'] = [generateProfession() for n in range(count)]\n",
    "    data['DIRECCION'] = [fake.address() for n in range(count)]\n",
    "    data['FECHA_CONTRATACION'] =[fake.date_between(start_date = \"-10y\", end_date = \"-1y\") for n in range(count)]\n",
    "    data['ID_NIVEL_ACCESO'] = [fake.random_int(min=1, max=3) for n in range(count)]\n",
    "    \n",
    "    print('Listo')\n",
    "    \n",
    "    # Guardamos la data en un dataframe\n",
    "    df = pd.DataFrame(data)\n",
    "    \n",
    "    # Sacamos los saltos de línea \\n en la dirección:\n",
    "    df['DIRECCION'] = df['DIRECCION'].apply(lambda x: x.replace('\\n', '; '))\n",
    "\n",
    "    # Generamos el nombre sabiendo el género\n",
    "    df['NOMBRE'] = df.apply(lambda row: generateGenderedName(row['GENERO']), axis=1)\n",
    "\n",
    "    # General el email sabiendo nombre y appellido\n",
    "    df['EMAIL'] = df.apply(lambda row: generateEmailFromName(row['NOMBRE'], row['APELLIDO']), axis=1)\n",
    "\n",
    "    # Ordenamos alfabeticamente las columnas\n",
    "    df = df.reindex(sorted(df_empleado.columns), axis=1)\n",
    "\n",
    "    return df"
   ]
  },
  {
   "cell_type": "code",
   "execution_count": 11,
   "metadata": {},
   "outputs": [],
   "source": [
    "# df_empleado = generateTableDf_EMPLEADO()\n",
    "# df_empleado.head()"
   ]
  },
  {
   "cell_type": "markdown",
   "metadata": {},
   "source": [
    "**Salida a csv**"
   ]
  },
  {
   "cell_type": "code",
   "execution_count": 12,
   "metadata": {},
   "outputs": [],
   "source": [
    "# df_empleado.to_csv('csv/02-Empleado.csv', index=False)"
   ]
  },
  {
   "cell_type": "code",
   "execution_count": 13,
   "metadata": {},
   "outputs": [
    {
     "data": {
      "text/html": [
       "<div>\n",
       "<style scoped>\n",
       "    .dataframe tbody tr th:only-of-type {\n",
       "        vertical-align: middle;\n",
       "    }\n",
       "\n",
       "    .dataframe tbody tr th {\n",
       "        vertical-align: top;\n",
       "    }\n",
       "\n",
       "    .dataframe thead th {\n",
       "        text-align: right;\n",
       "    }\n",
       "</style>\n",
       "<table border=\"1\" class=\"dataframe\">\n",
       "  <thead>\n",
       "    <tr style=\"text-align: right;\">\n",
       "      <th></th>\n",
       "      <th>APELLIDO</th>\n",
       "      <th>DIRECCION</th>\n",
       "      <th>DNI</th>\n",
       "      <th>FECHA_CONTRATACION</th>\n",
       "      <th>FECHA_NACIMIENTO</th>\n",
       "      <th>GENERO</th>\n",
       "      <th>ID_EMPLEADO</th>\n",
       "      <th>ID_NIVEL_ACCESO</th>\n",
       "      <th>TELEFONO_MOVIL</th>\n",
       "      <th>TITULO_UNIVERSITARIO</th>\n",
       "    </tr>\n",
       "  </thead>\n",
       "  <tbody>\n",
       "    <tr>\n",
       "      <th>0</th>\n",
       "      <td>Paredes</td>\n",
       "      <td>Ronda de Ezequiel Bautista 650; Lleida, 68717</td>\n",
       "      <td>31.537.919</td>\n",
       "      <td>2016-03-09</td>\n",
       "      <td>1968-11-06</td>\n",
       "      <td>F</td>\n",
       "      <td>1</td>\n",
       "      <td>2</td>\n",
       "      <td>+34 734 981 403</td>\n",
       "      <td>Biotecnólogo</td>\n",
       "    </tr>\n",
       "    <tr>\n",
       "      <th>1</th>\n",
       "      <td>Vega</td>\n",
       "      <td>Via Felicia Alberto 9; Córdoba, 77386</td>\n",
       "      <td>23.649.495</td>\n",
       "      <td>2015-12-29</td>\n",
       "      <td>1967-07-07</td>\n",
       "      <td>M</td>\n",
       "      <td>2</td>\n",
       "      <td>1</td>\n",
       "      <td>+34936 811 967</td>\n",
       "      <td>Ingeniero Químico</td>\n",
       "    </tr>\n",
       "    <tr>\n",
       "      <th>2</th>\n",
       "      <td>Dominguez</td>\n",
       "      <td>Rambla Carlito Soriano 957 Apt. 73 ; Guipúzcoa...</td>\n",
       "      <td>29.158.589</td>\n",
       "      <td>2013-02-27</td>\n",
       "      <td>1988-03-28</td>\n",
       "      <td>F</td>\n",
       "      <td>3</td>\n",
       "      <td>3</td>\n",
       "      <td>+34726123446</td>\n",
       "      <td>Ingeniero Químico</td>\n",
       "    </tr>\n",
       "    <tr>\n",
       "      <th>3</th>\n",
       "      <td>Ramón</td>\n",
       "      <td>Via de Gervasio Sevilla 665 Puerta 5 ; Albacet...</td>\n",
       "      <td>28.982.034</td>\n",
       "      <td>2015-03-03</td>\n",
       "      <td>1961-12-12</td>\n",
       "      <td>F</td>\n",
       "      <td>4</td>\n",
       "      <td>3</td>\n",
       "      <td>+34986 294 324</td>\n",
       "      <td>Técnico Químico</td>\n",
       "    </tr>\n",
       "    <tr>\n",
       "      <th>4</th>\n",
       "      <td>Figuerola</td>\n",
       "      <td>Plaza de Máximo Abril 44 Piso 7 ; Zamora, 73597</td>\n",
       "      <td>39.144.146</td>\n",
       "      <td>2017-03-19</td>\n",
       "      <td>1997-12-07</td>\n",
       "      <td>F</td>\n",
       "      <td>5</td>\n",
       "      <td>1</td>\n",
       "      <td>+34687086014</td>\n",
       "      <td>Biotecnólogo</td>\n",
       "    </tr>\n",
       "  </tbody>\n",
       "</table>\n",
       "</div>"
      ],
      "text/plain": [
       "    APELLIDO                                          DIRECCION         DNI  \\\n",
       "0    Paredes      Ronda de Ezequiel Bautista 650; Lleida, 68717  31.537.919   \n",
       "1       Vega              Via Felicia Alberto 9; Córdoba, 77386  23.649.495   \n",
       "2  Dominguez  Rambla Carlito Soriano 957 Apt. 73 ; Guipúzcoa...  29.158.589   \n",
       "3      Ramón  Via de Gervasio Sevilla 665 Puerta 5 ; Albacet...  28.982.034   \n",
       "4  Figuerola    Plaza de Máximo Abril 44 Piso 7 ; Zamora, 73597  39.144.146   \n",
       "\n",
       "  FECHA_CONTRATACION FECHA_NACIMIENTO GENERO  ID_EMPLEADO  ID_NIVEL_ACCESO  \\\n",
       "0         2016-03-09       1968-11-06      F            1                2   \n",
       "1         2015-12-29       1967-07-07      M            2                1   \n",
       "2         2013-02-27       1988-03-28      F            3                3   \n",
       "3         2015-03-03       1961-12-12      F            4                3   \n",
       "4         2017-03-19       1997-12-07      F            5                1   \n",
       "\n",
       "    TELEFONO_MOVIL TITULO_UNIVERSITARIO  \n",
       "0  +34 734 981 403         Biotecnólogo  \n",
       "1   +34936 811 967    Ingeniero Químico  \n",
       "2     +34726123446    Ingeniero Químico  \n",
       "3   +34986 294 324      Técnico Químico  \n",
       "4     +34687086014         Biotecnólogo  "
      ]
     },
     "execution_count": 13,
     "metadata": {},
     "output_type": "execute_result"
    }
   ],
   "source": [
    "df_empleado = pd.read_csv('csv/02-Empleado.csv')\n",
    "df_empleado.head()"
   ]
  },
  {
   "cell_type": "markdown",
   "metadata": {},
   "source": [
    "<h2 style=\"color:#777\">3: PROYECTO</h2>"
   ]
  },
  {
   "cell_type": "code",
   "execution_count": 14,
   "metadata": {},
   "outputs": [],
   "source": [
    "def generateProjectTitle():\n",
    "    phrase = toSpanish(fake.catch_phrase())\n",
    "    words = phrase.split()\n",
    "    title =(f'{words[0]} {words[-1]}').title()\n",
    "    return title"
   ]
  },
  {
   "cell_type": "markdown",
   "metadata": {},
   "source": [
    "**Generación de datos**"
   ]
  },
  {
   "cell_type": "code",
   "execution_count": 15,
   "metadata": {
    "scrolled": true
   },
   "outputs": [],
   "source": [
    "def generateTableDf_PROYECTO(count=5):\n",
    "    data = {}\n",
    "\n",
    "    # Generamos la información básica de cada proyecto\n",
    "    print('Generando datos...')\n",
    "\n",
    "    data['ID_PROYECTO'] = [n+1 for n in range(count)]\n",
    "    data['NOMBRE_PROYECTO'] = [generateProjectTitle() for n in range(count)]\n",
    "    data['FECHA_CREACION'] =[fake.date_between(start_date = \"-10y\", end_date = \"now\") for n in range(count)]\n",
    "    data['DESCRIPCION'] = [toSpanish(fake_en.paragraph(nb_sentences=3)) for n in range(count)]\n",
    "\n",
    "    print('Listo')\n",
    "    \n",
    "    #Guardamos los datos en un dataframe\n",
    "    df = pd.DataFrame(data)\n",
    "    \n",
    "    return df"
   ]
  },
  {
   "cell_type": "code",
   "execution_count": 16,
   "metadata": {},
   "outputs": [],
   "source": [
    "# Guardamos la data en un dataframe\n",
    "# df_proyecto = generateTableDf_PROYECTO()\n",
    "# df_proyecto.head()"
   ]
  },
  {
   "cell_type": "code",
   "execution_count": 17,
   "metadata": {},
   "outputs": [],
   "source": [
    "# df_proyecto.to_csv('csv/03-Proyecto.csv', index=False)"
   ]
  },
  {
   "cell_type": "code",
   "execution_count": 18,
   "metadata": {},
   "outputs": [
    {
     "data": {
      "text/html": [
       "<div>\n",
       "<style scoped>\n",
       "    .dataframe tbody tr th:only-of-type {\n",
       "        vertical-align: middle;\n",
       "    }\n",
       "\n",
       "    .dataframe tbody tr th {\n",
       "        vertical-align: top;\n",
       "    }\n",
       "\n",
       "    .dataframe thead th {\n",
       "        text-align: right;\n",
       "    }\n",
       "</style>\n",
       "<table border=\"1\" class=\"dataframe\">\n",
       "  <thead>\n",
       "    <tr style=\"text-align: right;\">\n",
       "      <th></th>\n",
       "      <th>ID_PROYECTO</th>\n",
       "      <th>NOMBRE_PROYECTO</th>\n",
       "      <th>FECHA_CREACION</th>\n",
       "      <th>DESCRIPCION</th>\n",
       "    </tr>\n",
       "  </thead>\n",
       "  <tbody>\n",
       "    <tr>\n",
       "      <th>0</th>\n",
       "      <td>1</td>\n",
       "      <td>Capacidad Equipo</td>\n",
       "      <td>2016-12-05</td>\n",
       "      <td>El árbol de estudio de letras calientes recibe...</td>\n",
       "    </tr>\n",
       "    <tr>\n",
       "      <th>1</th>\n",
       "      <td>2</td>\n",
       "      <td>Solución Reducido</td>\n",
       "      <td>2022-04-14</td>\n",
       "      <td>Donde ingresa el elemento de regla de preocupa...</td>\n",
       "    </tr>\n",
       "    <tr>\n",
       "      <th>2</th>\n",
       "      <td>3</td>\n",
       "      <td>Alianza Objetos</td>\n",
       "      <td>2016-10-14</td>\n",
       "      <td>Tarea republicana cambio entorno taza banco es...</td>\n",
       "    </tr>\n",
       "    <tr>\n",
       "      <th>3</th>\n",
       "      <td>4</td>\n",
       "      <td>Emulación Generación</td>\n",
       "      <td>2014-05-09</td>\n",
       "      <td>El soporte del libro parece médico en sí mismo...</td>\n",
       "    </tr>\n",
       "    <tr>\n",
       "      <th>4</th>\n",
       "      <td>5</td>\n",
       "      <td>Monitoreo Multicanal</td>\n",
       "      <td>2018-05-26</td>\n",
       "      <td>Viejo minuto costo feliz entrenamiento propiet...</td>\n",
       "    </tr>\n",
       "  </tbody>\n",
       "</table>\n",
       "</div>"
      ],
      "text/plain": [
       "   ID_PROYECTO       NOMBRE_PROYECTO FECHA_CREACION  \\\n",
       "0            1      Capacidad Equipo     2016-12-05   \n",
       "1            2     Solución Reducido     2022-04-14   \n",
       "2            3       Alianza Objetos     2016-10-14   \n",
       "3            4  Emulación Generación     2014-05-09   \n",
       "4            5  Monitoreo Multicanal     2018-05-26   \n",
       "\n",
       "                                         DESCRIPCION  \n",
       "0  El árbol de estudio de letras calientes recibe...  \n",
       "1  Donde ingresa el elemento de regla de preocupa...  \n",
       "2  Tarea republicana cambio entorno taza banco es...  \n",
       "3  El soporte del libro parece médico en sí mismo...  \n",
       "4  Viejo minuto costo feliz entrenamiento propiet...  "
      ]
     },
     "execution_count": 18,
     "metadata": {},
     "output_type": "execute_result"
    }
   ],
   "source": [
    "df_proyecto = pd.read_csv('csv/03-Proyecto.csv')\n",
    "df_proyecto.head()"
   ]
  },
  {
   "cell_type": "markdown",
   "metadata": {},
   "source": [
    "<h2 style=\"color:#777\">4: EXPERIMENTO</h2>"
   ]
  },
  {
   "cell_type": "markdown",
   "metadata": {},
   "source": [
    "**Funciones**"
   ]
  },
  {
   "cell_type": "code",
   "execution_count": 19,
   "metadata": {},
   "outputs": [],
   "source": [
    "def calculateEndTime(start, days=1):\n",
    "    end = start + timedelta(days=days)\n",
    "    return end\n",
    "    "
   ]
  },
  {
   "cell_type": "markdown",
   "metadata": {},
   "source": [
    "**Generación de datos**"
   ]
  },
  {
   "cell_type": "code",
   "execution_count": 20,
   "metadata": {},
   "outputs": [],
   "source": [
    "def generateTableDf_EXPERIMENTO(fkeys, count=50):\n",
    "    data = {}\n",
    "\n",
    "    # Generamos la data principal\n",
    "\n",
    "    print('Generando datos...')\n",
    "\n",
    "    data['ID_EXPERIMENTO'] = [n+1 for n in range(count)]\n",
    "    data['ID_PROYECTO'] = [ random.choice( fkeys['ID_PROYECTO'] ) for n in range(count) ]\n",
    "    data['TITULO_EXPERIMENTO'] =[ toSpanish( fake.bs() ).title() for n in range(count) ]\n",
    "    data['OBJETIVO'] = [toSpanish( fake_en.paragraph( nb_sentences=3 ) ) for n in range(count) ]\n",
    "    data['DESCRIPCION_EXPERIMENTO'] = [ toSpanish( fake_en.paragraph( nb_sentences=3 ) ) for n in range(count)]\n",
    "    data['CONCLUSION'] = [ toSpanish( fake_en.paragraph( nb_sentences=3 ) ) for n in range(count)]\n",
    "    data['FECHA_INICIO'] =  [ fake.date_time_between( start_date = \"-10y\", end_date = \"now\" ) for n in range(count)]\n",
    "\n",
    "    print('Listo')\n",
    "    \n",
    "    # Guardamos la data en un dataframe\n",
    "    df = pd.DataFrame(data)\n",
    "    \n",
    "    # Se calcula la fecha de finalización como un día después del inicio\n",
    "    df['FECHA_FINALIZACION'] = df['FECHA_INICIO'].apply(calculateEndTime)\n",
    "    \n",
    "    return df"
   ]
  },
  {
   "cell_type": "code",
   "execution_count": 21,
   "metadata": {},
   "outputs": [],
   "source": [
    "fkeys={'ID_PROYECTO' : list(df_proyecto['ID_PROYECTO']) }"
   ]
  },
  {
   "cell_type": "code",
   "execution_count": 22,
   "metadata": {},
   "outputs": [],
   "source": [
    "# df_experimento = generateTableDf_EXPERIMENTO(fkeys, count=2)\n",
    "# df_experimento.head()"
   ]
  },
  {
   "cell_type": "code",
   "execution_count": 23,
   "metadata": {},
   "outputs": [],
   "source": [
    "# Exportamos a csv\n",
    "# df_experimento.to_csv('csv/04-Experimento.csv', index=False)"
   ]
  },
  {
   "cell_type": "code",
   "execution_count": 24,
   "metadata": {},
   "outputs": [
    {
     "data": {
      "text/html": [
       "<div>\n",
       "<style scoped>\n",
       "    .dataframe tbody tr th:only-of-type {\n",
       "        vertical-align: middle;\n",
       "    }\n",
       "\n",
       "    .dataframe tbody tr th {\n",
       "        vertical-align: top;\n",
       "    }\n",
       "\n",
       "    .dataframe thead th {\n",
       "        text-align: right;\n",
       "    }\n",
       "</style>\n",
       "<table border=\"1\" class=\"dataframe\">\n",
       "  <thead>\n",
       "    <tr style=\"text-align: right;\">\n",
       "      <th></th>\n",
       "      <th>ID_EXPERIMENTO</th>\n",
       "      <th>ID_PROYECTO</th>\n",
       "      <th>TITULO_EXPERIMENTO</th>\n",
       "      <th>OBJETIVO</th>\n",
       "      <th>DESCRIPCION_EXPERIMENTO</th>\n",
       "      <th>CONCLUSION</th>\n",
       "      <th>FECHA_INICIO</th>\n",
       "      <th>FECHA_FINALIZACION</th>\n",
       "    </tr>\n",
       "  </thead>\n",
       "  <tbody>\n",
       "    <tr>\n",
       "      <th>0</th>\n",
       "      <td>1</td>\n",
       "      <td>5</td>\n",
       "      <td>Generar Ricos E-Tailers</td>\n",
       "      <td>Especialmente miembro de reclamo temprano. Act...</td>\n",
       "      <td>Desarrollar evitar lejos total en lugar de rel...</td>\n",
       "      <td>Ciudad de factor oscuro de la comunidad intern...</td>\n",
       "      <td>2016-06-15 14:08:37</td>\n",
       "      <td>2016-06-16 14:08:37</td>\n",
       "    </tr>\n",
       "    <tr>\n",
       "      <th>1</th>\n",
       "      <td>2</td>\n",
       "      <td>4</td>\n",
       "      <td>Acelerar Las Cadenas De Suministro Listas Para...</td>\n",
       "      <td>Lucha contra la preocupación de los fondos peq...</td>\n",
       "      <td>Misma cuatro diseños hablan piel posible. Es q...</td>\n",
       "      <td>El sujeto debe probar la dirección del camino.</td>\n",
       "      <td>2020-01-14 22:13:36</td>\n",
       "      <td>2020-01-15 22:13:36</td>\n",
       "    </tr>\n",
       "    <tr>\n",
       "      <th>2</th>\n",
       "      <td>3</td>\n",
       "      <td>1</td>\n",
       "      <td>Monetizar Sinergias Llave En Mano</td>\n",
       "      <td>Sujeto abogado ataque varios políticos. Tenga ...</td>\n",
       "      <td>Mujer también esposa que árbol. Explique el ni...</td>\n",
       "      <td>Simple esperanza particular idea teoría preocu...</td>\n",
       "      <td>2013-04-24 13:10:27</td>\n",
       "      <td>2013-04-25 13:10:27</td>\n",
       "    </tr>\n",
       "    <tr>\n",
       "      <th>3</th>\n",
       "      <td>4</td>\n",
       "      <td>1</td>\n",
       "      <td>Maximizar Nichos Dinámicos</td>\n",
       "      <td>Base de tareas de la misión que. Soporte bolsa...</td>\n",
       "      <td>Olvídese del nombre disponible del país de prá...</td>\n",
       "      <td>Red de posición de práctica de campaña de regl...</td>\n",
       "      <td>2021-02-09 19:33:07</td>\n",
       "      <td>2021-02-10 19:33:07</td>\n",
       "    </tr>\n",
       "    <tr>\n",
       "      <th>4</th>\n",
       "      <td>5</td>\n",
       "      <td>1</td>\n",
       "      <td>Escalar Soluciones Extensibles</td>\n",
       "      <td>Congreso bastante religioso. No mejora el rend...</td>\n",
       "      <td>Buena compañía significa ayuda. Atrapa la hora...</td>\n",
       "      <td>Así cada mano da a lo largo de la derecha. Esp...</td>\n",
       "      <td>2021-11-21 15:45:52</td>\n",
       "      <td>2021-11-22 15:45:52</td>\n",
       "    </tr>\n",
       "  </tbody>\n",
       "</table>\n",
       "</div>"
      ],
      "text/plain": [
       "   ID_EXPERIMENTO  ID_PROYECTO  \\\n",
       "0               1            5   \n",
       "1               2            4   \n",
       "2               3            1   \n",
       "3               4            1   \n",
       "4               5            1   \n",
       "\n",
       "                                  TITULO_EXPERIMENTO  \\\n",
       "0                            Generar Ricos E-Tailers   \n",
       "1  Acelerar Las Cadenas De Suministro Listas Para...   \n",
       "2                  Monetizar Sinergias Llave En Mano   \n",
       "3                         Maximizar Nichos Dinámicos   \n",
       "4                     Escalar Soluciones Extensibles   \n",
       "\n",
       "                                            OBJETIVO  \\\n",
       "0  Especialmente miembro de reclamo temprano. Act...   \n",
       "1  Lucha contra la preocupación de los fondos peq...   \n",
       "2  Sujeto abogado ataque varios políticos. Tenga ...   \n",
       "3  Base de tareas de la misión que. Soporte bolsa...   \n",
       "4  Congreso bastante religioso. No mejora el rend...   \n",
       "\n",
       "                             DESCRIPCION_EXPERIMENTO  \\\n",
       "0  Desarrollar evitar lejos total en lugar de rel...   \n",
       "1  Misma cuatro diseños hablan piel posible. Es q...   \n",
       "2  Mujer también esposa que árbol. Explique el ni...   \n",
       "3  Olvídese del nombre disponible del país de prá...   \n",
       "4  Buena compañía significa ayuda. Atrapa la hora...   \n",
       "\n",
       "                                          CONCLUSION         FECHA_INICIO  \\\n",
       "0  Ciudad de factor oscuro de la comunidad intern...  2016-06-15 14:08:37   \n",
       "1     El sujeto debe probar la dirección del camino.  2020-01-14 22:13:36   \n",
       "2  Simple esperanza particular idea teoría preocu...  2013-04-24 13:10:27   \n",
       "3  Red de posición de práctica de campaña de regl...  2021-02-09 19:33:07   \n",
       "4  Así cada mano da a lo largo de la derecha. Esp...  2021-11-21 15:45:52   \n",
       "\n",
       "    FECHA_FINALIZACION  \n",
       "0  2016-06-16 14:08:37  \n",
       "1  2020-01-15 22:13:36  \n",
       "2  2013-04-25 13:10:27  \n",
       "3  2021-02-10 19:33:07  \n",
       "4  2021-11-22 15:45:52  "
      ]
     },
     "execution_count": 24,
     "metadata": {},
     "output_type": "execute_result"
    }
   ],
   "source": [
    "df_experimento = pd.read_csv('csv/04-Experimento.csv')\n",
    "df_experimento.head()"
   ]
  },
  {
   "cell_type": "markdown",
   "metadata": {},
   "source": [
    "<h2 style=\"color:#777\">5: SUSTANCIA</h2>"
   ]
  },
  {
   "cell_type": "markdown",
   "metadata": {},
   "source": [
    "**Funciones**"
   ]
  },
  {
   "cell_type": "code",
   "execution_count": 25,
   "metadata": {},
   "outputs": [],
   "source": [
    "def generateSmiles(threshold=0.3):\n",
    "    atoms = ['C','n','o','O','s','S','Cl','Br','I','F','(c)','(C)','(n)','(o)','(O)','(s)','(S)']\n",
    "    length = fake.random_int(min=10, max=30)\n",
    "    smiles_list = []\n",
    "    for n in range(length):\n",
    "        choice = random.uniform(0,1)\n",
    "        if choice < threshold:\n",
    "            smiles_list.append(random.choice(atoms))\n",
    "        else:\n",
    "            smiles_list.append('c')\n",
    "    smiles = ''.join(smiles_list)\n",
    "    return(smiles)\n"
   ]
  },
  {
   "cell_type": "markdown",
   "metadata": {},
   "source": [
    "**Generación de datos**"
   ]
  },
  {
   "cell_type": "code",
   "execution_count": 26,
   "metadata": {},
   "outputs": [],
   "source": [
    "def generateTableDf_SUSTANCIA(susts, fkeys, count=50):\n",
    "    data = {}\n",
    "\n",
    "    # Foreing Keys\n",
    "    id_nivel_acceso = fkeys['ID_NIVEL_ACCESO']\n",
    "\n",
    "    sustancias = [random.choice(susts) for n in range(count)]\n",
    "\n",
    "    # Generamos la data\n",
    "\n",
    "    print('Generando datos...')\n",
    "\n",
    "    data['ID_SUSTANCIA'] = [n+1 for n in range(count)]\n",
    "    data['ID_NIVEL_ACCESO'] = [random.choice(id_nivel_acceso) for n in range(count)]\n",
    "    data['NOMBRE_COMUN'] = sustancias\n",
    "    data['NRO_CAS'] = [fake.numerify(text='##-###-###') for n in range(count)]\n",
    "    data['NOMBRE_IUPAC'] = [sust.lower().replace(' ','-') for sust in sustancias]\n",
    "    data['SMILES'] = [generateSmiles() for n in range(count) ]\n",
    "    data['PESO_MOLECULAR'] = [ float(fake.random_int(min=100, max=700) + random.uniform(0,1)) for n in range(count)  ]\n",
    "\n",
    "    print('Listo')\n",
    "    \n",
    "    #Guardamos la data en un dataframe\n",
    "    df = pd.DataFrame(data)\n",
    "    \n",
    "    return df"
   ]
  },
  {
   "cell_type": "code",
   "execution_count": 27,
   "metadata": {},
   "outputs": [],
   "source": [
    "# Para los nombres de las sustancias uso una lista de productos\n",
    "# obtenida de una distribuidora química, la que se encuentra en un\n",
    "# archivo de texto, con una sustancia por línea. \n",
    "# Importamos las sustacias a una lista\n",
    "\n",
    "filename = 'sustancias.txt'\n",
    "\n",
    "with open(filename, encoding='utf-8') as file:\n",
    "    susts = file.readlines()\n",
    "    susts = [sust.rstrip() for sust in susts]\n",
    "    \n",
    "fkeys = {'ID_NIVEL_ACCESO': list(df_nivel_acceso['ID_NIVEL_ACCESO'])}"
   ]
  },
  {
   "cell_type": "code",
   "execution_count": 28,
   "metadata": {},
   "outputs": [],
   "source": [
    "#Guardamos la data en un dataframe\n",
    "# df_sustancia = generateTableDf_SUSTANCIA(susts, fkeys)\n",
    "# df_sustancia.head()"
   ]
  },
  {
   "cell_type": "code",
   "execution_count": 29,
   "metadata": {},
   "outputs": [],
   "source": [
    "# Exportamos a csv\n",
    "# df_sustancia.to_csv('csv/05-Sustancia.csv', index=False)"
   ]
  },
  {
   "cell_type": "code",
   "execution_count": 30,
   "metadata": {},
   "outputs": [
    {
     "data": {
      "text/html": [
       "<div>\n",
       "<style scoped>\n",
       "    .dataframe tbody tr th:only-of-type {\n",
       "        vertical-align: middle;\n",
       "    }\n",
       "\n",
       "    .dataframe tbody tr th {\n",
       "        vertical-align: top;\n",
       "    }\n",
       "\n",
       "    .dataframe thead th {\n",
       "        text-align: right;\n",
       "    }\n",
       "</style>\n",
       "<table border=\"1\" class=\"dataframe\">\n",
       "  <thead>\n",
       "    <tr style=\"text-align: right;\">\n",
       "      <th></th>\n",
       "      <th>ID_SUSTANCIA</th>\n",
       "      <th>ID_NIVEL_ACCESO</th>\n",
       "      <th>NOMBRE_COMUN</th>\n",
       "      <th>NRO_CAS</th>\n",
       "      <th>NOMBRE_IUPAC</th>\n",
       "      <th>SMILES</th>\n",
       "      <th>PESO_MOLECULAR</th>\n",
       "    </tr>\n",
       "  </thead>\n",
       "  <tbody>\n",
       "    <tr>\n",
       "      <th>0</th>\n",
       "      <td>1</td>\n",
       "      <td>1</td>\n",
       "      <td>Alcohol Bencilico</td>\n",
       "      <td>28-125-394</td>\n",
       "      <td>alcohol-bencilico</td>\n",
       "      <td>cnIccc(O)cccc</td>\n",
       "      <td>446.161328</td>\n",
       "    </tr>\n",
       "    <tr>\n",
       "      <th>1</th>\n",
       "      <td>2</td>\n",
       "      <td>2</td>\n",
       "      <td>Bicarbonato de Sodio</td>\n",
       "      <td>02-270-431</td>\n",
       "      <td>bicarbonato-de-sodio</td>\n",
       "      <td>(c)ccccccssocccoccc(S)cnc(O)c</td>\n",
       "      <td>118.560761</td>\n",
       "    </tr>\n",
       "    <tr>\n",
       "      <th>2</th>\n",
       "      <td>3</td>\n",
       "      <td>1</td>\n",
       "      <td>Carbonato de Litio</td>\n",
       "      <td>13-450-361</td>\n",
       "      <td>carbonato-de-litio</td>\n",
       "      <td>ncc(o)ccccccccClcc(S)cc(n)ccc</td>\n",
       "      <td>228.671910</td>\n",
       "    </tr>\n",
       "    <tr>\n",
       "      <th>3</th>\n",
       "      <td>4</td>\n",
       "      <td>3</td>\n",
       "      <td>Pirofosfato Acido de Sodio</td>\n",
       "      <td>52-049-502</td>\n",
       "      <td>pirofosfato-acido-de-sodio</td>\n",
       "      <td>ccccnScc(S)c(o)cc(C)ccccccccc</td>\n",
       "      <td>636.926749</td>\n",
       "    </tr>\n",
       "    <tr>\n",
       "      <th>4</th>\n",
       "      <td>5</td>\n",
       "      <td>1</td>\n",
       "      <td>Acetona</td>\n",
       "      <td>09-535-890</td>\n",
       "      <td>acetona</td>\n",
       "      <td>nccc(o)c(C)cc(C)(o)cO</td>\n",
       "      <td>401.940669</td>\n",
       "    </tr>\n",
       "  </tbody>\n",
       "</table>\n",
       "</div>"
      ],
      "text/plain": [
       "   ID_SUSTANCIA  ID_NIVEL_ACCESO                NOMBRE_COMUN     NRO_CAS  \\\n",
       "0             1                1           Alcohol Bencilico  28-125-394   \n",
       "1             2                2        Bicarbonato de Sodio  02-270-431   \n",
       "2             3                1          Carbonato de Litio  13-450-361   \n",
       "3             4                3  Pirofosfato Acido de Sodio  52-049-502   \n",
       "4             5                1                     Acetona  09-535-890   \n",
       "\n",
       "                 NOMBRE_IUPAC                         SMILES  PESO_MOLECULAR  \n",
       "0           alcohol-bencilico                  cnIccc(O)cccc      446.161328  \n",
       "1        bicarbonato-de-sodio  (c)ccccccssocccoccc(S)cnc(O)c      118.560761  \n",
       "2          carbonato-de-litio  ncc(o)ccccccccClcc(S)cc(n)ccc      228.671910  \n",
       "3  pirofosfato-acido-de-sodio  ccccnScc(S)c(o)cc(C)ccccccccc      636.926749  \n",
       "4                     acetona          nccc(o)c(C)cc(C)(o)cO      401.940669  "
      ]
     },
     "execution_count": 30,
     "metadata": {},
     "output_type": "execute_result"
    }
   ],
   "source": [
    "df_sustancia = pd.read_csv('csv/05-Sustancia.csv')\n",
    "df_sustancia.head()"
   ]
  },
  {
   "cell_type": "markdown",
   "metadata": {},
   "source": [
    "<h2 style=\"color:#777\">6: EQUIPAMIENTO</h2>"
   ]
  },
  {
   "cell_type": "code",
   "execution_count": 31,
   "metadata": {},
   "outputs": [],
   "source": [
    "def generateTableDf_EQUIPAMIENTO(fkeys, count=20):\n",
    "    data = {}\n",
    "\n",
    "    id_nivel_acceso = fkeys['ID_NIVEL_ACCESO']\n",
    "    \n",
    "    equipos = [\n",
    "        'Agitador Magnético',\n",
    "        'Agitador Mecánico',\n",
    "        'Manto Calefactor',\n",
    "        'pHmetro',\n",
    "        'Balón 3 bocas 100ml',\n",
    "        'Balón 3 bocas 250ml',\n",
    "        'Balón 3 bocas 500ml',\n",
    "        'Balón 3 bocas 1000ml',\n",
    "        'Termómetro electrónico',\n",
    "        'Refrigerante recto',\n",
    "        'Viscosímetro',\n",
    "        'Densímetro',\n",
    "        'HPLC',\n",
    "        'GC',\n",
    "        'Espectrofotómetro',\n",
    "        'Balanza analítica',\n",
    "        'Balanza granataria'    \n",
    "    ]\n",
    "\n",
    "    marcas = [\n",
    "        'Garófalo S.A.',\n",
    "        'Truch Instrumental',\n",
    "        'Phalopa Inc.',\n",
    "        'Juliet Pakard',\n",
    "        'Sorny',\n",
    "        'Sheneral Electric',\n",
    "        'Supergood Chemical Solutions',\n",
    "        'Cositorto Labware Enterprise'\n",
    "    ]\n",
    "\n",
    "    print('Generando Datos...')\n",
    "\n",
    "    data['ID_EQUIPAMIENTO'] =  [ n+1 for n in range(count) ]\n",
    "    data['ID_NIVEL_ACCESO'] = [ random.choice(id_nivel_acceso) for n in range(count) ]\n",
    "    data['NOMBRE_EQUIPO'] = [ random.choice(equipos) for n in range(count) ]\n",
    "    data['DESCRIPCION'] = [ \n",
    "        toSpanish( fake_en.paragraph(nb_sentences=2) ) \n",
    "        for n in range(count) \n",
    "    ]\n",
    "    data['MARCA'] = [ random.choice(marcas) for n in range(count) ]\n",
    "    data['MODELO'] = [ fake.numerify(text='#####-####') for n in range(count) ]\n",
    "\n",
    "    print('listo')\n",
    "    \n",
    "    #Guardamos los datos en un dataframe\n",
    "    df = pd.DataFrame(data)\n",
    "    \n",
    "    return df"
   ]
  },
  {
   "cell_type": "code",
   "execution_count": 32,
   "metadata": {},
   "outputs": [],
   "source": [
    "fkeys = {'ID_NIVEL_ACCESO' : list( df_nivel_acceso['ID_NIVEL_ACCESO'] ) }"
   ]
  },
  {
   "cell_type": "code",
   "execution_count": 33,
   "metadata": {},
   "outputs": [],
   "source": [
    "# df_equipamiento = generateTableDf_EQUIPAMIENTO(fkeys,count=2)\n",
    "# df_equipamiento.head()"
   ]
  },
  {
   "cell_type": "code",
   "execution_count": 34,
   "metadata": {},
   "outputs": [],
   "source": [
    "# Exportamos a csv\n",
    "# df_equipamiento.to_csv('csv/06-Equipamiento.csv', index=False)"
   ]
  },
  {
   "cell_type": "code",
   "execution_count": 35,
   "metadata": {},
   "outputs": [
    {
     "data": {
      "text/html": [
       "<div>\n",
       "<style scoped>\n",
       "    .dataframe tbody tr th:only-of-type {\n",
       "        vertical-align: middle;\n",
       "    }\n",
       "\n",
       "    .dataframe tbody tr th {\n",
       "        vertical-align: top;\n",
       "    }\n",
       "\n",
       "    .dataframe thead th {\n",
       "        text-align: right;\n",
       "    }\n",
       "</style>\n",
       "<table border=\"1\" class=\"dataframe\">\n",
       "  <thead>\n",
       "    <tr style=\"text-align: right;\">\n",
       "      <th></th>\n",
       "      <th>ID_EQUIPAMIENTO</th>\n",
       "      <th>ID_NIVEL_ACCESO</th>\n",
       "      <th>NOMBRE_EQUIPO</th>\n",
       "      <th>DESCRIPCION</th>\n",
       "      <th>MARCA</th>\n",
       "      <th>MODELO</th>\n",
       "    </tr>\n",
       "  </thead>\n",
       "  <tbody>\n",
       "    <tr>\n",
       "      <th>0</th>\n",
       "      <td>1</td>\n",
       "      <td>1</td>\n",
       "      <td>Espectrofotómetro</td>\n",
       "      <td>Éxito internacional reducir control movimiento...</td>\n",
       "      <td>Garófalo S.A.</td>\n",
       "      <td>08473-4050</td>\n",
       "    </tr>\n",
       "    <tr>\n",
       "      <th>1</th>\n",
       "      <td>2</td>\n",
       "      <td>1</td>\n",
       "      <td>Balón 3 bocas 250ml</td>\n",
       "      <td>Ejecute la posición de nivel de reflejo. A lo ...</td>\n",
       "      <td>Sorny</td>\n",
       "      <td>74812-6630</td>\n",
       "    </tr>\n",
       "    <tr>\n",
       "      <th>2</th>\n",
       "      <td>3</td>\n",
       "      <td>1</td>\n",
       "      <td>GC</td>\n",
       "      <td>Ver piso por qué llamar.</td>\n",
       "      <td>Sheneral Electric</td>\n",
       "      <td>38025-3466</td>\n",
       "    </tr>\n",
       "    <tr>\n",
       "      <th>3</th>\n",
       "      <td>4</td>\n",
       "      <td>3</td>\n",
       "      <td>HPLC</td>\n",
       "      <td>Mañana indicar ver.</td>\n",
       "      <td>Cositorto Labware Enterprise</td>\n",
       "      <td>69024-5264</td>\n",
       "    </tr>\n",
       "    <tr>\n",
       "      <th>4</th>\n",
       "      <td>5</td>\n",
       "      <td>3</td>\n",
       "      <td>HPLC</td>\n",
       "      <td>Campo mí tres desde entonces pero varios. Crea...</td>\n",
       "      <td>Garófalo S.A.</td>\n",
       "      <td>50429-5719</td>\n",
       "    </tr>\n",
       "  </tbody>\n",
       "</table>\n",
       "</div>"
      ],
      "text/plain": [
       "   ID_EQUIPAMIENTO  ID_NIVEL_ACCESO        NOMBRE_EQUIPO  \\\n",
       "0                1                1    Espectrofotómetro   \n",
       "1                2                1  Balón 3 bocas 250ml   \n",
       "2                3                1                   GC   \n",
       "3                4                3                 HPLC   \n",
       "4                5                3                 HPLC   \n",
       "\n",
       "                                         DESCRIPCION  \\\n",
       "0  Éxito internacional reducir control movimiento...   \n",
       "1  Ejecute la posición de nivel de reflejo. A lo ...   \n",
       "2                           Ver piso por qué llamar.   \n",
       "3                                Mañana indicar ver.   \n",
       "4  Campo mí tres desde entonces pero varios. Crea...   \n",
       "\n",
       "                          MARCA      MODELO  \n",
       "0                 Garófalo S.A.  08473-4050  \n",
       "1                         Sorny  74812-6630  \n",
       "2             Sheneral Electric  38025-3466  \n",
       "3  Cositorto Labware Enterprise  69024-5264  \n",
       "4                 Garófalo S.A.  50429-5719  "
      ]
     },
     "execution_count": 35,
     "metadata": {},
     "output_type": "execute_result"
    }
   ],
   "source": [
    "df_equipamiento = pd.read_csv('csv/06-Equipamiento.csv')\n",
    "df_equipamiento.head()"
   ]
  },
  {
   "cell_type": "markdown",
   "metadata": {},
   "source": [
    "<h2 style=\"color:#777\">7: DOCUMENTO</h2>"
   ]
  },
  {
   "cell_type": "code",
   "execution_count": 36,
   "metadata": {},
   "outputs": [],
   "source": [
    "def generateDocUrl(spanish=False):\n",
    "    extensions = [\n",
    "        '.docx',\n",
    "        '.xls',\n",
    "        '.txt',\n",
    "        '.pdf',\n",
    "        '.pptx'\n",
    "    ]\n",
    "    \n",
    "    providers = [\n",
    "        'madstorage.com',\n",
    "        'amazondrive.',\n",
    "        'gigaupload.com',\n",
    "        'dropbasket.net'\n",
    "    ]\n",
    "    \n",
    "    suburls = [\n",
    "        '/usr/storage/',\n",
    "        '/drive/files/',\n",
    "        '/api/getfiles/'\n",
    "    ]\n",
    "    \n",
    "    if spanish:\n",
    "        filename = toSpanish(fake.catch_phrase()).replace(' ','-').lower()\n",
    "        print('listo')\n",
    "    else:\n",
    "        filename = fake.catch_phrase().replace(' ','-').lower()\n",
    "    \n",
    "    e = random.choice(extensions)\n",
    "    p = random.choice(providers)\n",
    "    s = random.choice(suburls)\n",
    "    \n",
    "    url = f'https://{p}{s}{filename}{e}'\n",
    "    return url\n",
    "    \n"
   ]
  },
  {
   "cell_type": "code",
   "execution_count": 37,
   "metadata": {},
   "outputs": [],
   "source": [
    "def generateTableDf_DOCUMENTO(fkeys, count=100):\n",
    "    data = {}\n",
    "    \n",
    "    cats = ['Reporte','Presentacion','Informe','Protocolo','Resultado de análisis']\n",
    "    \n",
    "    print('Generating data...')\n",
    "    \n",
    "    data['ID_DOCUMENTO'] =  [ n+1 for n in range(count) ]\n",
    "    data['ID_EXPERIMENTO'] = [ random.choice( fkeys['ID_EXPERIMENTO'] ) for n in range(count) ]\n",
    "    data['CATEGORIA'] = [ random.choice( cats ) for n in range(count) ]\n",
    "    data['NOMBRE_DOCUMENTO'] = [ fake.catch_phrase() for n in range(count) ]\n",
    "    data['URL'] = [ generateDocUrl() for n in range(count) ]\n",
    "    \n",
    "    print('listo')\n",
    "    \n",
    "    df = pd.DataFrame(data)\n",
    "    \n",
    "    return df"
   ]
  },
  {
   "cell_type": "code",
   "execution_count": 38,
   "metadata": {},
   "outputs": [],
   "source": [
    "fkeys = { 'ID_EXPERIMENTO': list( df_experimento['ID_EXPERIMENTO'] ) }"
   ]
  },
  {
   "cell_type": "code",
   "execution_count": 39,
   "metadata": {},
   "outputs": [],
   "source": [
    "# df_documento = generateTableDf_DOCUMENTO(fkeys)\n",
    "# df_documento.head()"
   ]
  },
  {
   "cell_type": "code",
   "execution_count": 40,
   "metadata": {},
   "outputs": [],
   "source": [
    "# Exportamos a csv\n",
    "# df_documento.to_csv('csv/07-Documento.csv', index=False)"
   ]
  },
  {
   "cell_type": "code",
   "execution_count": 41,
   "metadata": {},
   "outputs": [
    {
     "data": {
      "text/html": [
       "<div>\n",
       "<style scoped>\n",
       "    .dataframe tbody tr th:only-of-type {\n",
       "        vertical-align: middle;\n",
       "    }\n",
       "\n",
       "    .dataframe tbody tr th {\n",
       "        vertical-align: top;\n",
       "    }\n",
       "\n",
       "    .dataframe thead th {\n",
       "        text-align: right;\n",
       "    }\n",
       "</style>\n",
       "<table border=\"1\" class=\"dataframe\">\n",
       "  <thead>\n",
       "    <tr style=\"text-align: right;\">\n",
       "      <th></th>\n",
       "      <th>ID_DOCUMENTO</th>\n",
       "      <th>ID_EXPERIMENTO</th>\n",
       "      <th>CATEGORIA</th>\n",
       "      <th>NOMBRE_DOCUMENTO</th>\n",
       "      <th>URL</th>\n",
       "    </tr>\n",
       "  </thead>\n",
       "  <tbody>\n",
       "    <tr>\n",
       "      <th>0</th>\n",
       "      <td>1</td>\n",
       "      <td>11</td>\n",
       "      <td>Presentacion</td>\n",
       "      <td>Polarized impactful task-force</td>\n",
       "      <td>https://gigaupload.com/api/getfiles/organic-re...</td>\n",
       "    </tr>\n",
       "    <tr>\n",
       "      <th>1</th>\n",
       "      <td>2</td>\n",
       "      <td>35</td>\n",
       "      <td>Presentacion</td>\n",
       "      <td>Centralized bandwidth-monitored framework</td>\n",
       "      <td>https://gigaupload.com/usr/storage/inverse-bac...</td>\n",
       "    </tr>\n",
       "    <tr>\n",
       "      <th>2</th>\n",
       "      <td>3</td>\n",
       "      <td>7</td>\n",
       "      <td>Informe</td>\n",
       "      <td>Streamlined intermediate extranet</td>\n",
       "      <td>https://gigaupload.com/usr/storage/mandatory-r...</td>\n",
       "    </tr>\n",
       "    <tr>\n",
       "      <th>3</th>\n",
       "      <td>4</td>\n",
       "      <td>34</td>\n",
       "      <td>Protocolo</td>\n",
       "      <td>Front-line tertiary structure</td>\n",
       "      <td>https://madstorage.com/drive/files/stand-alone...</td>\n",
       "    </tr>\n",
       "    <tr>\n",
       "      <th>4</th>\n",
       "      <td>5</td>\n",
       "      <td>9</td>\n",
       "      <td>Resultado de análisis</td>\n",
       "      <td>Optional zero administration migration</td>\n",
       "      <td>https://gigaupload.com/api/getfiles/ergonomic-...</td>\n",
       "    </tr>\n",
       "  </tbody>\n",
       "</table>\n",
       "</div>"
      ],
      "text/plain": [
       "   ID_DOCUMENTO  ID_EXPERIMENTO              CATEGORIA  \\\n",
       "0             1              11           Presentacion   \n",
       "1             2              35           Presentacion   \n",
       "2             3               7                Informe   \n",
       "3             4              34              Protocolo   \n",
       "4             5               9  Resultado de análisis   \n",
       "\n",
       "                            NOMBRE_DOCUMENTO  \\\n",
       "0             Polarized impactful task-force   \n",
       "1  Centralized bandwidth-monitored framework   \n",
       "2          Streamlined intermediate extranet   \n",
       "3              Front-line tertiary structure   \n",
       "4     Optional zero administration migration   \n",
       "\n",
       "                                                 URL  \n",
       "0  https://gigaupload.com/api/getfiles/organic-re...  \n",
       "1  https://gigaupload.com/usr/storage/inverse-bac...  \n",
       "2  https://gigaupload.com/usr/storage/mandatory-r...  \n",
       "3  https://madstorage.com/drive/files/stand-alone...  \n",
       "4  https://gigaupload.com/api/getfiles/ergonomic-...  "
      ]
     },
     "execution_count": 41,
     "metadata": {},
     "output_type": "execute_result"
    }
   ],
   "source": [
    "df_documento = pd.read_csv('csv/07-Documento.csv')\n",
    "df_documento.head()"
   ]
  },
  {
   "cell_type": "markdown",
   "metadata": {},
   "source": [
    "<h2 style=\"color:#777\">8: MUESTRA</h2>"
   ]
  },
  {
   "cell_type": "code",
   "execution_count": 42,
   "metadata": {},
   "outputs": [],
   "source": [
    "def generateTableDf_MUESTRA(fkeys, count=100):\n",
    "    \n",
    "    clases = ['Muestra de proceso', 'Materia Prima', 'Producto Elaborado']\n",
    "    data = {}\n",
    "    \n",
    "    print('Generando datos...  ')\n",
    "    \n",
    "    data['ID_MUESTRA'] = [ n+1 for n in range(count) ]\n",
    "    data['ID_EXPERIMENTO'] = [ random.choice( fkeys['ID_EXPERIMENTO'] ) for n in range(count) ]\n",
    "    data['ID_EMPLEADO'] = [ random.choice( fkeys['ID_EMPLEADO'] ) for n in range(count) ]\n",
    "    data['CODIGO_MUESTRA'] = [fake.numerify(text='###-###-###') for n in range(count) ]\n",
    "    data['DESCRIPCION_MUESTRA'] = [fake_en.paragraph() for n in range(count) ]\n",
    "    data['CLASE_MUESTRA'] =  [ random.choice( clases ) for n in range(count) ]\n",
    "    data['FECHA_MUESTREO'] =  [ fake.date_time_between( start_date = \"-10y\", end_date = \"now\" ) for n in range(count) ]\n",
    "    \n",
    "    print('Listo...')\n",
    "    \n",
    "    df = pd.DataFrame(data)\n",
    "    \n",
    "    return df"
   ]
  },
  {
   "cell_type": "code",
   "execution_count": 43,
   "metadata": {},
   "outputs": [],
   "source": [
    "fkeys = { \n",
    "    'ID_EXPERIMENTO': list( df_experimento['ID_EXPERIMENTO'] ),\n",
    "    'ID_EMPLEADO': list( df_empleado['ID_EMPLEADO'] ),\n",
    "        }"
   ]
  },
  {
   "cell_type": "code",
   "execution_count": 44,
   "metadata": {},
   "outputs": [],
   "source": [
    "# df_muestra = generateTableDf_MUESTRA(fkeys)\n",
    "# df_muestra.head()"
   ]
  },
  {
   "cell_type": "code",
   "execution_count": 45,
   "metadata": {},
   "outputs": [],
   "source": [
    "# df_muestra.to_csv('csv/08-Muestra.csv', index=False)"
   ]
  },
  {
   "cell_type": "code",
   "execution_count": 46,
   "metadata": {
    "scrolled": true
   },
   "outputs": [
    {
     "data": {
      "text/html": [
       "<div>\n",
       "<style scoped>\n",
       "    .dataframe tbody tr th:only-of-type {\n",
       "        vertical-align: middle;\n",
       "    }\n",
       "\n",
       "    .dataframe tbody tr th {\n",
       "        vertical-align: top;\n",
       "    }\n",
       "\n",
       "    .dataframe thead th {\n",
       "        text-align: right;\n",
       "    }\n",
       "</style>\n",
       "<table border=\"1\" class=\"dataframe\">\n",
       "  <thead>\n",
       "    <tr style=\"text-align: right;\">\n",
       "      <th></th>\n",
       "      <th>ID_MUESTRA</th>\n",
       "      <th>ID_EXPERIMENTO</th>\n",
       "      <th>ID_EMPLEADO</th>\n",
       "      <th>CODIGO_MUESTRA</th>\n",
       "      <th>DESCRIPCION_MUESTRA</th>\n",
       "      <th>CLASE_MUESTRA</th>\n",
       "      <th>FECHA_MUESTREO</th>\n",
       "    </tr>\n",
       "  </thead>\n",
       "  <tbody>\n",
       "    <tr>\n",
       "      <th>0</th>\n",
       "      <td>1</td>\n",
       "      <td>31</td>\n",
       "      <td>15</td>\n",
       "      <td>624-389-800</td>\n",
       "      <td>Strategy weight probably ball let. Budget how ...</td>\n",
       "      <td>Materia Prima</td>\n",
       "      <td>2015-03-19 08:26:52</td>\n",
       "    </tr>\n",
       "    <tr>\n",
       "      <th>1</th>\n",
       "      <td>2</td>\n",
       "      <td>34</td>\n",
       "      <td>4</td>\n",
       "      <td>133-012-416</td>\n",
       "      <td>Personal region much education from. Able pret...</td>\n",
       "      <td>Producto Elaborado</td>\n",
       "      <td>2012-10-25 02:10:09</td>\n",
       "    </tr>\n",
       "    <tr>\n",
       "      <th>2</th>\n",
       "      <td>3</td>\n",
       "      <td>10</td>\n",
       "      <td>16</td>\n",
       "      <td>561-282-243</td>\n",
       "      <td>Against question not should. Section but opera...</td>\n",
       "      <td>Producto Elaborado</td>\n",
       "      <td>2017-08-27 16:38:28</td>\n",
       "    </tr>\n",
       "    <tr>\n",
       "      <th>3</th>\n",
       "      <td>4</td>\n",
       "      <td>2</td>\n",
       "      <td>2</td>\n",
       "      <td>501-755-469</td>\n",
       "      <td>Argue place fall security garden black none fa...</td>\n",
       "      <td>Producto Elaborado</td>\n",
       "      <td>2017-10-11 00:28:27</td>\n",
       "    </tr>\n",
       "    <tr>\n",
       "      <th>4</th>\n",
       "      <td>5</td>\n",
       "      <td>5</td>\n",
       "      <td>14</td>\n",
       "      <td>416-640-140</td>\n",
       "      <td>Commercial boy ten. A choice deal consumer feel.</td>\n",
       "      <td>Materia Prima</td>\n",
       "      <td>2014-01-10 14:26:22</td>\n",
       "    </tr>\n",
       "  </tbody>\n",
       "</table>\n",
       "</div>"
      ],
      "text/plain": [
       "   ID_MUESTRA  ID_EXPERIMENTO  ID_EMPLEADO CODIGO_MUESTRA  \\\n",
       "0           1              31           15    624-389-800   \n",
       "1           2              34            4    133-012-416   \n",
       "2           3              10           16    561-282-243   \n",
       "3           4               2            2    501-755-469   \n",
       "4           5               5           14    416-640-140   \n",
       "\n",
       "                                 DESCRIPCION_MUESTRA       CLASE_MUESTRA  \\\n",
       "0  Strategy weight probably ball let. Budget how ...       Materia Prima   \n",
       "1  Personal region much education from. Able pret...  Producto Elaborado   \n",
       "2  Against question not should. Section but opera...  Producto Elaborado   \n",
       "3  Argue place fall security garden black none fa...  Producto Elaborado   \n",
       "4   Commercial boy ten. A choice deal consumer feel.       Materia Prima   \n",
       "\n",
       "        FECHA_MUESTREO  \n",
       "0  2015-03-19 08:26:52  \n",
       "1  2012-10-25 02:10:09  \n",
       "2  2017-08-27 16:38:28  \n",
       "3  2017-10-11 00:28:27  \n",
       "4  2014-01-10 14:26:22  "
      ]
     },
     "execution_count": 46,
     "metadata": {},
     "output_type": "execute_result"
    }
   ],
   "source": [
    "df_muestra = pd.read_csv('csv/08-Muestra.csv')\n",
    "df_muestra.head()"
   ]
  },
  {
   "cell_type": "markdown",
   "metadata": {},
   "source": [
    "<h2 style=\"color:#777\">9: STOCK_SUSTANCIAS</h2>"
   ]
  },
  {
   "cell_type": "code",
   "execution_count": 47,
   "metadata": {},
   "outputs": [],
   "source": [
    "def generateTableDf_STOCK_SUSTANCIAS( fkeys, count=200 ):\n",
    "    data = {}\n",
    "    \n",
    "    ubicaciones = ['Depósito A', 'Depósito B', 'Bajomesada', 'Estante']\n",
    "    unidades = ['g', 'kg', 'ml', 'l']\n",
    "    marcas = ['WW Chemicals', 'Forza Pharmaceuticals', 'Química El Cholo', 'Simba Arlich', 'Merke' ]\n",
    "    \n",
    "    data['ID_STOCK_SUSTANCIAS'] = [ n+1 for n in range(count) ]\n",
    "    data['ID_SUSTANCIA'] = [ random.choice( fkeys['ID_SUSTANCIA'] ) for n in range(count) ]\n",
    "    data['UBICACION'] = [ random.choice(ubicaciones) for n in range(count) ]\n",
    "    data['CANTIDAD'] = [ fake.random_int(min=50, max=500) for n in range(count) ]\n",
    "    data['UNIDAD'] = [ random.choice(unidades) for n in range(count) ]\n",
    "    data['PUREZA'] = [ float(fake.random_int(min=5, max=99) + random.uniform(0,1)) for n in range(count) ]\n",
    "    data['MARCA'] = [ random.choice(marcas) for n in range(count) ]\n",
    "    data['FECHA_INGRESO'] = [ fake.date_between( start_date=\"-10y\", end_date=\"-1y\" ) for n in range(count) ]\n",
    "    \n",
    "    df = pd.DataFrame(data)\n",
    "    \n",
    "        # Se calcula la fecha de finalización como un día después del inicio\n",
    "    df['FECHA_CADUCIDAD'] = df['FECHA_INGRESO'].apply( lambda x : calculateEndTime(x, days=730) )\n",
    "    \n",
    "    return df"
   ]
  },
  {
   "cell_type": "code",
   "execution_count": 48,
   "metadata": {},
   "outputs": [],
   "source": [
    "fkeys = {\n",
    "    'ID_SUSTANCIA': list( df_sustancia['ID_SUSTANCIA'] )\n",
    "}"
   ]
  },
  {
   "cell_type": "code",
   "execution_count": 49,
   "metadata": {
    "scrolled": false
   },
   "outputs": [],
   "source": [
    "# df_stock_sustancias = generateTableDf_STOCK_SUSTANCIAS(fkeys)\n",
    "# df_stock_sustancias.head()"
   ]
  },
  {
   "cell_type": "code",
   "execution_count": 50,
   "metadata": {},
   "outputs": [],
   "source": [
    "# Exportamos a csv\n",
    "# df_stock_sustancias.to_csv('csv/09-Stock_sustancias.csv', index=False)"
   ]
  },
  {
   "cell_type": "code",
   "execution_count": 51,
   "metadata": {
    "scrolled": true
   },
   "outputs": [
    {
     "data": {
      "text/html": [
       "<div>\n",
       "<style scoped>\n",
       "    .dataframe tbody tr th:only-of-type {\n",
       "        vertical-align: middle;\n",
       "    }\n",
       "\n",
       "    .dataframe tbody tr th {\n",
       "        vertical-align: top;\n",
       "    }\n",
       "\n",
       "    .dataframe thead th {\n",
       "        text-align: right;\n",
       "    }\n",
       "</style>\n",
       "<table border=\"1\" class=\"dataframe\">\n",
       "  <thead>\n",
       "    <tr style=\"text-align: right;\">\n",
       "      <th></th>\n",
       "      <th>ID_STOCK_SUSTANCIAS</th>\n",
       "      <th>ID_SUSTANCIA</th>\n",
       "      <th>UBICACION</th>\n",
       "      <th>CANTIDAD</th>\n",
       "      <th>UNIDAD</th>\n",
       "      <th>MARCA</th>\n",
       "      <th>FECHA_INGRESO</th>\n",
       "      <th>FECHA_CADUCIDAD</th>\n",
       "    </tr>\n",
       "  </thead>\n",
       "  <tbody>\n",
       "    <tr>\n",
       "      <th>0</th>\n",
       "      <td>1</td>\n",
       "      <td>12</td>\n",
       "      <td>Bajomesada</td>\n",
       "      <td>470</td>\n",
       "      <td>l</td>\n",
       "      <td>Merke</td>\n",
       "      <td>2012-07-12</td>\n",
       "      <td>2014-07-12</td>\n",
       "    </tr>\n",
       "    <tr>\n",
       "      <th>1</th>\n",
       "      <td>2</td>\n",
       "      <td>42</td>\n",
       "      <td>Depósito A</td>\n",
       "      <td>199</td>\n",
       "      <td>kg</td>\n",
       "      <td>WW Chemicals</td>\n",
       "      <td>2017-03-19</td>\n",
       "      <td>2019-03-19</td>\n",
       "    </tr>\n",
       "    <tr>\n",
       "      <th>2</th>\n",
       "      <td>3</td>\n",
       "      <td>10</td>\n",
       "      <td>Estante</td>\n",
       "      <td>438</td>\n",
       "      <td>g</td>\n",
       "      <td>WW Chemicals</td>\n",
       "      <td>2016-09-18</td>\n",
       "      <td>2018-09-18</td>\n",
       "    </tr>\n",
       "    <tr>\n",
       "      <th>3</th>\n",
       "      <td>4</td>\n",
       "      <td>4</td>\n",
       "      <td>Depósito A</td>\n",
       "      <td>265</td>\n",
       "      <td>ml</td>\n",
       "      <td>Química El Cholo</td>\n",
       "      <td>2014-04-06</td>\n",
       "      <td>2016-04-05</td>\n",
       "    </tr>\n",
       "    <tr>\n",
       "      <th>4</th>\n",
       "      <td>5</td>\n",
       "      <td>46</td>\n",
       "      <td>Depósito B</td>\n",
       "      <td>128</td>\n",
       "      <td>l</td>\n",
       "      <td>Química El Cholo</td>\n",
       "      <td>2012-12-23</td>\n",
       "      <td>2014-12-23</td>\n",
       "    </tr>\n",
       "  </tbody>\n",
       "</table>\n",
       "</div>"
      ],
      "text/plain": [
       "   ID_STOCK_SUSTANCIAS  ID_SUSTANCIA   UBICACION  CANTIDAD UNIDAD  \\\n",
       "0                    1            12  Bajomesada       470      l   \n",
       "1                    2            42  Depósito A       199     kg   \n",
       "2                    3            10     Estante       438      g   \n",
       "3                    4             4  Depósito A       265     ml   \n",
       "4                    5            46  Depósito B       128      l   \n",
       "\n",
       "              MARCA FECHA_INGRESO FECHA_CADUCIDAD  \n",
       "0             Merke    2012-07-12      2014-07-12  \n",
       "1      WW Chemicals    2017-03-19      2019-03-19  \n",
       "2      WW Chemicals    2016-09-18      2018-09-18  \n",
       "3  Química El Cholo    2014-04-06      2016-04-05  \n",
       "4  Química El Cholo    2012-12-23      2014-12-23  "
      ]
     },
     "execution_count": 51,
     "metadata": {},
     "output_type": "execute_result"
    }
   ],
   "source": [
    "df_stock_sustancias = pd.read_csv('csv/09-Stock_sustancias.csv')\n",
    "df_stock_sustancias.head()"
   ]
  },
  {
   "cell_type": "markdown",
   "metadata": {},
   "source": [
    "<h2 style=\"color:#777\">10: STOCK_EQUIPOS</h2>"
   ]
  },
  {
   "cell_type": "code",
   "execution_count": 52,
   "metadata": {},
   "outputs": [],
   "source": [
    "# Encierro la lógica de la generación de cada tabla\n",
    "# en una función que devuelve un dataframe.\n",
    "# El template de la función es:\n",
    "\n",
    "def generateTableDf_STOCK_EQUIPOS(fkeys, count=20):\n",
    "    data = {}\n",
    "    \n",
    "    ubicaciones = ['Depósito A', 'Depósito B', 'Bajomesada', 'Estante']\n",
    "    \n",
    "    data['ID_STOCK_EQUIPOS'] = [ n+1 for n in range(count) ]\n",
    "    data['ID_EQUIPAMIENTO'] = [ random.choice( fkeys['ID_EQUIPAMIENTO'] ) for n in range(count) ]\n",
    "    data['UBICACION'] = [ random.choice(ubicaciones) for n in range(count) ]\n",
    "    data['CANTIDAD'] = [ fake.random_int(min=1, max=10) for n in range(count) ]\n",
    "    data['FECHA_INGRESO'] = [ fake.date_between( start_date=\"-10y\", end_date=\"now\" ) for n in range(count) ]\n",
    "    \n",
    "    df = pd.DataFrame(data)\n",
    "    \n",
    "    return df"
   ]
  },
  {
   "cell_type": "code",
   "execution_count": 53,
   "metadata": {},
   "outputs": [],
   "source": [
    "fkeys = {\n",
    "    'ID_EQUIPAMIENTO': list( df_equipamiento['ID_EQUIPAMIENTO'] )\n",
    "}"
   ]
  },
  {
   "cell_type": "code",
   "execution_count": 54,
   "metadata": {},
   "outputs": [],
   "source": [
    "# df_stock_equipos = generateTableDf_STOCK_EQUIPOS(fkeys)\n",
    "# df_stock_equipos.head()"
   ]
  },
  {
   "cell_type": "code",
   "execution_count": 55,
   "metadata": {},
   "outputs": [],
   "source": [
    "# Exportamos a csv\n",
    "# df_stock_equipos.to_csv('csv/10-Stock_equipos.csv', index=False)"
   ]
  },
  {
   "cell_type": "code",
   "execution_count": 56,
   "metadata": {
    "scrolled": true
   },
   "outputs": [
    {
     "data": {
      "text/html": [
       "<div>\n",
       "<style scoped>\n",
       "    .dataframe tbody tr th:only-of-type {\n",
       "        vertical-align: middle;\n",
       "    }\n",
       "\n",
       "    .dataframe tbody tr th {\n",
       "        vertical-align: top;\n",
       "    }\n",
       "\n",
       "    .dataframe thead th {\n",
       "        text-align: right;\n",
       "    }\n",
       "</style>\n",
       "<table border=\"1\" class=\"dataframe\">\n",
       "  <thead>\n",
       "    <tr style=\"text-align: right;\">\n",
       "      <th></th>\n",
       "      <th>ID_STOCK_EQUIPOS</th>\n",
       "      <th>ID_EQUIPAMIENTO</th>\n",
       "      <th>UBICACION</th>\n",
       "      <th>CANTIDAD</th>\n",
       "      <th>FECHA_INGRESO</th>\n",
       "    </tr>\n",
       "  </thead>\n",
       "  <tbody>\n",
       "    <tr>\n",
       "      <th>0</th>\n",
       "      <td>1</td>\n",
       "      <td>3</td>\n",
       "      <td>Estante</td>\n",
       "      <td>6</td>\n",
       "      <td>2018-02-06</td>\n",
       "    </tr>\n",
       "    <tr>\n",
       "      <th>1</th>\n",
       "      <td>2</td>\n",
       "      <td>1</td>\n",
       "      <td>Depósito B</td>\n",
       "      <td>1</td>\n",
       "      <td>2018-03-03</td>\n",
       "    </tr>\n",
       "    <tr>\n",
       "      <th>2</th>\n",
       "      <td>3</td>\n",
       "      <td>3</td>\n",
       "      <td>Bajomesada</td>\n",
       "      <td>7</td>\n",
       "      <td>2016-07-10</td>\n",
       "    </tr>\n",
       "    <tr>\n",
       "      <th>3</th>\n",
       "      <td>4</td>\n",
       "      <td>13</td>\n",
       "      <td>Depósito B</td>\n",
       "      <td>2</td>\n",
       "      <td>2014-10-07</td>\n",
       "    </tr>\n",
       "    <tr>\n",
       "      <th>4</th>\n",
       "      <td>5</td>\n",
       "      <td>17</td>\n",
       "      <td>Bajomesada</td>\n",
       "      <td>10</td>\n",
       "      <td>2014-03-30</td>\n",
       "    </tr>\n",
       "  </tbody>\n",
       "</table>\n",
       "</div>"
      ],
      "text/plain": [
       "   ID_STOCK_EQUIPOS  ID_EQUIPAMIENTO   UBICACION  CANTIDAD FECHA_INGRESO\n",
       "0                 1                3     Estante         6    2018-02-06\n",
       "1                 2                1  Depósito B         1    2018-03-03\n",
       "2                 3                3  Bajomesada         7    2016-07-10\n",
       "3                 4               13  Depósito B         2    2014-10-07\n",
       "4                 5               17  Bajomesada        10    2014-03-30"
      ]
     },
     "execution_count": 56,
     "metadata": {},
     "output_type": "execute_result"
    }
   ],
   "source": [
    "df_stock_equipos = pd.read_csv('csv/10-Stock_equipos.csv')\n",
    "df_stock_equipos.head()"
   ]
  },
  {
   "cell_type": "markdown",
   "metadata": {},
   "source": [
    "<h2 style=\"color:#777\">11: PROYECTO_EMPLEADO</h2>"
   ]
  },
  {
   "cell_type": "code",
   "execution_count": 57,
   "metadata": {},
   "outputs": [],
   "source": [
    "def generateTableDf_PROYECTO_EMPLEADO(fkeys, count=20, offspring=5):\n",
    "    \n",
    "    # offpring: nro de empleados por proyecto\n",
    "    # count: cantidad de pares empleado-proyecto a retornar\n",
    "    data = {}\n",
    "    \n",
    "    roles = [ 'Creador', 'Miembro', 'Invitado' ]\n",
    "    \n",
    "    # Generamos pares proyecto - empleado\n",
    "    # Por cada proyecto se asocian N empleados al azar, siendo N el valor indicado en offspring\n",
    "    # Los mismos empleados trabajan en muchos proyectos, pero no se repiten dentro de cada proyecto.\n",
    "    \n",
    "    pairs = generateParentChildPairs( fkeys['ID_PROYECTO'], fkeys['ID_EMPLEADO'], offspring )\n",
    "    \n",
    "    # Muestreamos sin reposición:\n",
    "    pairs = random.sample(pairs, count) \n",
    "    \n",
    "    data['ID_PROYECTO'] = [ pair[0] for pair in pairs ]\n",
    "    data['ID_EMPLEADO'] = [ pair[1] for pair in pairs ]\n",
    "    data['ROL'] = [ random.choice(roles) for n in range(count)  ]\n",
    "    df = pd.DataFrame(data)\n",
    "    \n",
    "    return df\n",
    "    "
   ]
  },
  {
   "cell_type": "code",
   "execution_count": 58,
   "metadata": {},
   "outputs": [],
   "source": [
    "fkeys = {\n",
    "    'ID_PROYECTO': list( df_proyecto['ID_PROYECTO'] ),\n",
    "    'ID_EMPLEADO': list( df_empleado['ID_EMPLEADO'] )\n",
    "}"
   ]
  },
  {
   "cell_type": "code",
   "execution_count": 59,
   "metadata": {},
   "outputs": [],
   "source": [
    "# df_proyecto_empleado = generateTableDf_PROYECTO_EMPLEADO(fkeys, count=50, offspring=10)\n",
    "# df_proyecto_empleado.head()"
   ]
  },
  {
   "cell_type": "code",
   "execution_count": 60,
   "metadata": {},
   "outputs": [],
   "source": [
    "# Exportamos a csv\n",
    "# df_empleado_proyecto.to_csv('csv/11-Proyecto_empleado.csv', index=False)"
   ]
  },
  {
   "cell_type": "code",
   "execution_count": 62,
   "metadata": {},
   "outputs": [
    {
     "data": {
      "text/html": [
       "<div>\n",
       "<style scoped>\n",
       "    .dataframe tbody tr th:only-of-type {\n",
       "        vertical-align: middle;\n",
       "    }\n",
       "\n",
       "    .dataframe tbody tr th {\n",
       "        vertical-align: top;\n",
       "    }\n",
       "\n",
       "    .dataframe thead th {\n",
       "        text-align: right;\n",
       "    }\n",
       "</style>\n",
       "<table border=\"1\" class=\"dataframe\">\n",
       "  <thead>\n",
       "    <tr style=\"text-align: right;\">\n",
       "      <th></th>\n",
       "      <th>ID_PROYECTO</th>\n",
       "      <th>ID_EMPLEADO</th>\n",
       "      <th>ROL</th>\n",
       "    </tr>\n",
       "  </thead>\n",
       "  <tbody>\n",
       "    <tr>\n",
       "      <th>0</th>\n",
       "      <td>1</td>\n",
       "      <td>7</td>\n",
       "      <td>Ejecutor</td>\n",
       "    </tr>\n",
       "    <tr>\n",
       "      <th>1</th>\n",
       "      <td>2</td>\n",
       "      <td>4</td>\n",
       "      <td>Revisor</td>\n",
       "    </tr>\n",
       "    <tr>\n",
       "      <th>2</th>\n",
       "      <td>3</td>\n",
       "      <td>11</td>\n",
       "      <td>Suepervisor</td>\n",
       "    </tr>\n",
       "    <tr>\n",
       "      <th>3</th>\n",
       "      <td>4</td>\n",
       "      <td>11</td>\n",
       "      <td>Suepervisor</td>\n",
       "    </tr>\n",
       "    <tr>\n",
       "      <th>4</th>\n",
       "      <td>3</td>\n",
       "      <td>3</td>\n",
       "      <td>Suepervisor</td>\n",
       "    </tr>\n",
       "  </tbody>\n",
       "</table>\n",
       "</div>"
      ],
      "text/plain": [
       "   ID_PROYECTO  ID_EMPLEADO          ROL\n",
       "0            1            7     Ejecutor\n",
       "1            2            4      Revisor\n",
       "2            3           11  Suepervisor\n",
       "3            4           11  Suepervisor\n",
       "4            3            3  Suepervisor"
      ]
     },
     "execution_count": 62,
     "metadata": {},
     "output_type": "execute_result"
    }
   ],
   "source": [
    "df_proyecto_empleado = pd.read_csv('csv/11-Proyecto_empleado.csv')\n",
    "df_proyecto_empleado.head()"
   ]
  },
  {
   "cell_type": "markdown",
   "metadata": {},
   "source": [
    "<h2 style=\"color:#777\">12: EXPERIMENTO_EMPLEADO</h2>"
   ]
  },
  {
   "cell_type": "code",
   "execution_count": 63,
   "metadata": {},
   "outputs": [],
   "source": [
    "def generateTableDf_EXPERIMENTO_EMPLEADO(fkeys, count=10, offspring=3):\n",
    "    # offpring: nro de empleados por proyecto\n",
    "    # count: cantidad de pares empleado-experimento a retornar\n",
    "    data = {}\n",
    "    \n",
    "    roles = [ 'Supervisor', 'Ejecutor', 'Responsable', 'Observador' ]\n",
    "    \n",
    "    # Generamos pares experimento - empleado\n",
    "    # Por cada experimento se asocian N empleados al azar, siendo N el valor indicado en offspring\n",
    "    # Los mismos empleados trabajan en muchos experimentos, pero no se repiten dentro de cada experimenmto.\n",
    "    \n",
    "    # Nota: dado que no está tomando en cuenta lo que pasa en la tabla proyecto_empleado,\n",
    "    # se van a generar pares experimento_empleado donde el empleado no forma parte del proyecto\n",
    "    # al cual corresponde el experimento. Dicho de otra forma,no existen restricciones en cuanto\n",
    "    # a la pertenencia a un proyecto, en los experimentos pueden trabajar\n",
    "    # 'invitados' que vienen de otros proyectos.\n",
    "    \n",
    "    pairs = generateParentChildPairs( fkeys['ID_EXPERIMENTO'], fkeys['ID_EMPLEADO'], offspring )\n",
    "    \n",
    "    # Muestreamos sin reposición:\n",
    "    pairs = random.sample(pairs, count) \n",
    "    \n",
    "    data['ID_EXPERIMENTO'] = [ pair[0] for pair in pairs ]\n",
    "    data['ID_EMPLEADO'] = [ pair[1] for pair in pairs ]\n",
    "    data['ROL'] = [ random.choice(roles) for n in range(count)  ]\n",
    "    df = pd.DataFrame(data)\n",
    "    \n",
    "    return df"
   ]
  },
  {
   "cell_type": "code",
   "execution_count": 64,
   "metadata": {},
   "outputs": [],
   "source": [
    "fkeys = {\n",
    "    'ID_EXPERIMENTO': list( df_experimento['ID_EXPERIMENTO'] ),\n",
    "    'ID_EMPLEADO': list( df_empleado['ID_EMPLEADO'] )\n",
    "}"
   ]
  },
  {
   "cell_type": "code",
   "execution_count": 65,
   "metadata": {},
   "outputs": [],
   "source": [
    "# df_experimento_empleado = generateTableDf_EXPERIMENTO_EMPLEADO(fkeys, count=100)\n",
    "# df_experimento_empleado.head()"
   ]
  },
  {
   "cell_type": "code",
   "execution_count": 66,
   "metadata": {},
   "outputs": [],
   "source": [
    "# Exportamos a csv\n",
    "# df_experimento_empleado.to_csv('csv/12-Experimento_empleado.csv', index=False)"
   ]
  },
  {
   "cell_type": "code",
   "execution_count": 67,
   "metadata": {},
   "outputs": [
    {
     "data": {
      "text/html": [
       "<div>\n",
       "<style scoped>\n",
       "    .dataframe tbody tr th:only-of-type {\n",
       "        vertical-align: middle;\n",
       "    }\n",
       "\n",
       "    .dataframe tbody tr th {\n",
       "        vertical-align: top;\n",
       "    }\n",
       "\n",
       "    .dataframe thead th {\n",
       "        text-align: right;\n",
       "    }\n",
       "</style>\n",
       "<table border=\"1\" class=\"dataframe\">\n",
       "  <thead>\n",
       "    <tr style=\"text-align: right;\">\n",
       "      <th></th>\n",
       "      <th>ID_EXPERIMENTO</th>\n",
       "      <th>ID_EMPLEADO</th>\n",
       "      <th>ROL</th>\n",
       "    </tr>\n",
       "  </thead>\n",
       "  <tbody>\n",
       "    <tr>\n",
       "      <th>0</th>\n",
       "      <td>15</td>\n",
       "      <td>10</td>\n",
       "      <td>Supervisor</td>\n",
       "    </tr>\n",
       "    <tr>\n",
       "      <th>1</th>\n",
       "      <td>11</td>\n",
       "      <td>8</td>\n",
       "      <td>Observador</td>\n",
       "    </tr>\n",
       "    <tr>\n",
       "      <th>2</th>\n",
       "      <td>20</td>\n",
       "      <td>5</td>\n",
       "      <td>Responsable</td>\n",
       "    </tr>\n",
       "    <tr>\n",
       "      <th>3</th>\n",
       "      <td>31</td>\n",
       "      <td>2</td>\n",
       "      <td>Ejecutor</td>\n",
       "    </tr>\n",
       "    <tr>\n",
       "      <th>4</th>\n",
       "      <td>39</td>\n",
       "      <td>13</td>\n",
       "      <td>Responsable</td>\n",
       "    </tr>\n",
       "  </tbody>\n",
       "</table>\n",
       "</div>"
      ],
      "text/plain": [
       "   ID_EXPERIMENTO  ID_EMPLEADO          ROL\n",
       "0              15           10   Supervisor\n",
       "1              11            8   Observador\n",
       "2              20            5  Responsable\n",
       "3              31            2     Ejecutor\n",
       "4              39           13  Responsable"
      ]
     },
     "execution_count": 67,
     "metadata": {},
     "output_type": "execute_result"
    }
   ],
   "source": [
    "df_experimento_empleado = pd.read_csv('csv/12-Experimento_empleado.csv')\n",
    "df_experimento_empleado.head()"
   ]
  },
  {
   "cell_type": "markdown",
   "metadata": {},
   "source": [
    "<h2 style=\"color:#777\">13: EXPERIMENTO_EQUIPAMIENTO</h2>"
   ]
  },
  {
   "cell_type": "code",
   "execution_count": 68,
   "metadata": {},
   "outputs": [],
   "source": [
    "def generateTableDf_EXPERIMENTO_EQUIPAMIENTO(fkeys, count=10, offspring=3):\n",
    "    # offpring: nro de empleados por proyecto\n",
    "    # count: cantidad de pares empleado-experimento a retornar\n",
    "    data = {}\n",
    "    \n",
    "    # Generamos pares experimento - equipos\n",
    "    # Por cada experimento se asocian N equipos al azar, siendo N el valor indicado en offspring\n",
    "    # Los mismos equipos se usan en muchos experimentos, pero no se repiten dentro de cada experimenmto.\n",
    "    \n",
    "    # cuidado con la cantidad: dado que no toma en cuenta lo que ocurre en la tabla stock, puede ser\n",
    "    # que la cantidad asignada al azar supere el stock\n",
    "        \n",
    "    pairs = generateParentChildPairs( fkeys['ID_EXPERIMENTO'], fkeys['ID_STOCK_EQUIPOS'], offspring )\n",
    "    \n",
    "    # Muestreamos sin reposición:\n",
    "    pairs = random.sample(pairs, count) \n",
    "    \n",
    "    data['ID_EXPERIMENTO'] = [ pair[0] for pair in pairs ]\n",
    "    data['ID_STOCK_EQUIPOS'] = [ pair[1] for pair in pairs ]\n",
    "    data['CANTIDAD'] = [ fake.random_int(min=1, max=2) for n in range(count)  ]\n",
    "    df = pd.DataFrame(data)\n",
    "    \n",
    "    return df"
   ]
  },
  {
   "cell_type": "code",
   "execution_count": 69,
   "metadata": {},
   "outputs": [],
   "source": [
    "fkeys = {\n",
    "    'ID_EXPERIMENTO': list( df_experimento['ID_EXPERIMENTO'] ),\n",
    "    'ID_STOCK_EQUIPOS': list( df_stock_equipos['ID_STOCK_EQUIPOS'] )\n",
    "}"
   ]
  },
  {
   "cell_type": "code",
   "execution_count": 70,
   "metadata": {},
   "outputs": [],
   "source": [
    "# df_experimento_equipamiento = generateTableDf_EXPERIMENTO_EQUIPAMIENTO(fkeys, count=10, offspring=3)\n",
    "# df_experimento_equipamiento.head()"
   ]
  },
  {
   "cell_type": "code",
   "execution_count": 71,
   "metadata": {},
   "outputs": [],
   "source": [
    "# Exportamos a csv:\n",
    "# df_experimento_equipamiento.to_csv('csv/13-Experimento_equipamiento.csv', index=False)"
   ]
  },
  {
   "cell_type": "code",
   "execution_count": 72,
   "metadata": {},
   "outputs": [
    {
     "data": {
      "text/html": [
       "<div>\n",
       "<style scoped>\n",
       "    .dataframe tbody tr th:only-of-type {\n",
       "        vertical-align: middle;\n",
       "    }\n",
       "\n",
       "    .dataframe tbody tr th {\n",
       "        vertical-align: top;\n",
       "    }\n",
       "\n",
       "    .dataframe thead th {\n",
       "        text-align: right;\n",
       "    }\n",
       "</style>\n",
       "<table border=\"1\" class=\"dataframe\">\n",
       "  <thead>\n",
       "    <tr style=\"text-align: right;\">\n",
       "      <th></th>\n",
       "      <th>ID_EXPERIMENTO</th>\n",
       "      <th>ID_STOCK_EQUIPOS</th>\n",
       "      <th>CANTIDAD</th>\n",
       "    </tr>\n",
       "  </thead>\n",
       "  <tbody>\n",
       "    <tr>\n",
       "      <th>0</th>\n",
       "      <td>38</td>\n",
       "      <td>16</td>\n",
       "      <td>2</td>\n",
       "    </tr>\n",
       "    <tr>\n",
       "      <th>1</th>\n",
       "      <td>30</td>\n",
       "      <td>20</td>\n",
       "      <td>1</td>\n",
       "    </tr>\n",
       "    <tr>\n",
       "      <th>2</th>\n",
       "      <td>27</td>\n",
       "      <td>11</td>\n",
       "      <td>2</td>\n",
       "    </tr>\n",
       "    <tr>\n",
       "      <th>3</th>\n",
       "      <td>38</td>\n",
       "      <td>19</td>\n",
       "      <td>1</td>\n",
       "    </tr>\n",
       "    <tr>\n",
       "      <th>4</th>\n",
       "      <td>48</td>\n",
       "      <td>18</td>\n",
       "      <td>1</td>\n",
       "    </tr>\n",
       "  </tbody>\n",
       "</table>\n",
       "</div>"
      ],
      "text/plain": [
       "   ID_EXPERIMENTO  ID_STOCK_EQUIPOS  CANTIDAD\n",
       "0              38                16         2\n",
       "1              30                20         1\n",
       "2              27                11         2\n",
       "3              38                19         1\n",
       "4              48                18         1"
      ]
     },
     "execution_count": 72,
     "metadata": {},
     "output_type": "execute_result"
    }
   ],
   "source": [
    "# Exportamos a csv:\n",
    "df_experimento_equipamiento = pd.read_csv('csv/13-Experimento_equipamiento.csv')\n",
    "df_experimento_equipamiento.head()"
   ]
  },
  {
   "cell_type": "markdown",
   "metadata": {},
   "source": [
    "<h2 style=\"color:#777\">14: EXPERIMENTO_SUSTANCIA</h2>"
   ]
  },
  {
   "cell_type": "code",
   "execution_count": 73,
   "metadata": {},
   "outputs": [],
   "source": [
    "def generateTableDf_EXPERIMENTO_SUSTANCIA(fkeys, count=100):\n",
    "    data = {}\n",
    "    \n",
    "    pairs = generateParentChildPairs( fkeys['ID_EXPERIMENTO'], fkeys['ID_SUSTANCIA'], offspring=5)\n",
    "    \n",
    "    # Muestreamos sin reposición:\n",
    "    pairs = random.sample(pairs, count)\n",
    "    \n",
    "    \n",
    "    data['ID_EXPERIMENTO'] = [ pair[0] for pair in pairs ]\n",
    "    data['ID_SUSTANCIA'] = [ pair[1] for pair in pairs ]\n",
    "    data['CANTIDAD'] = [ float(fake.random_int(min=100, max=700) + random.uniform(0,1)) for n in range(count)  ]\n",
    "    df = pd.DataFrame(data)\n",
    "    \n",
    "    return df"
   ]
  },
  {
   "cell_type": "code",
   "execution_count": 74,
   "metadata": {},
   "outputs": [],
   "source": [
    "fkeys = {\n",
    "    'ID_EXPERIMENTO': list( df_experimento['ID_EXPERIMENTO'] ),\n",
    "    'ID_SUSTANCIA': list( df_sustancia['ID_SUSTANCIA'] )\n",
    "}"
   ]
  },
  {
   "cell_type": "code",
   "execution_count": 75,
   "metadata": {},
   "outputs": [],
   "source": [
    "# df_experimento_sustancia = generateTableDf_EXPERIMENTO_SUSTANCIA(fkeys)\n",
    "# df_experimento_sustancia.head()"
   ]
  },
  {
   "cell_type": "code",
   "execution_count": 76,
   "metadata": {},
   "outputs": [],
   "source": [
    "# Exportamos a csv\n",
    "# df_experimento_sustancia.to_csv('csv/14-Experimento_sustancia.csv', index=False)"
   ]
  },
  {
   "cell_type": "code",
   "execution_count": 77,
   "metadata": {},
   "outputs": [
    {
     "data": {
      "text/html": [
       "<div>\n",
       "<style scoped>\n",
       "    .dataframe tbody tr th:only-of-type {\n",
       "        vertical-align: middle;\n",
       "    }\n",
       "\n",
       "    .dataframe tbody tr th {\n",
       "        vertical-align: top;\n",
       "    }\n",
       "\n",
       "    .dataframe thead th {\n",
       "        text-align: right;\n",
       "    }\n",
       "</style>\n",
       "<table border=\"1\" class=\"dataframe\">\n",
       "  <thead>\n",
       "    <tr style=\"text-align: right;\">\n",
       "      <th></th>\n",
       "      <th>ID_EXPERIMENTO</th>\n",
       "      <th>ID_SUSTANCIA</th>\n",
       "      <th>CANTIDAD</th>\n",
       "    </tr>\n",
       "  </thead>\n",
       "  <tbody>\n",
       "    <tr>\n",
       "      <th>0</th>\n",
       "      <td>35</td>\n",
       "      <td>11</td>\n",
       "      <td>388.573128</td>\n",
       "    </tr>\n",
       "    <tr>\n",
       "      <th>1</th>\n",
       "      <td>10</td>\n",
       "      <td>36</td>\n",
       "      <td>340.105112</td>\n",
       "    </tr>\n",
       "    <tr>\n",
       "      <th>2</th>\n",
       "      <td>19</td>\n",
       "      <td>50</td>\n",
       "      <td>433.197640</td>\n",
       "    </tr>\n",
       "    <tr>\n",
       "      <th>3</th>\n",
       "      <td>23</td>\n",
       "      <td>30</td>\n",
       "      <td>261.429803</td>\n",
       "    </tr>\n",
       "    <tr>\n",
       "      <th>4</th>\n",
       "      <td>42</td>\n",
       "      <td>43</td>\n",
       "      <td>571.882002</td>\n",
       "    </tr>\n",
       "  </tbody>\n",
       "</table>\n",
       "</div>"
      ],
      "text/plain": [
       "   ID_EXPERIMENTO  ID_SUSTANCIA    CANTIDAD\n",
       "0              35            11  388.573128\n",
       "1              10            36  340.105112\n",
       "2              19            50  433.197640\n",
       "3              23            30  261.429803\n",
       "4              42            43  571.882002"
      ]
     },
     "execution_count": 77,
     "metadata": {},
     "output_type": "execute_result"
    }
   ],
   "source": [
    "df_experimento_sustancia = pd.read_csv('csv/14-Experimento_sustancia.csv')\n",
    "df_experimento_sustancia.head()"
   ]
  },
  {
   "cell_type": "markdown",
   "metadata": {},
   "source": [
    "<h2 style=\"color:#777\">15: MOVIMIENTO_SUSTANCIAS</h2>"
   ]
  },
  {
   "cell_type": "code",
   "execution_count": 78,
   "metadata": {},
   "outputs": [],
   "source": [
    "def generateOperationDate(reference_date):\n",
    "    if reference_date > datetime.today():\n",
    "        return reference_date\n",
    "\n",
    "    days = (datetime.today() - reference_date).days\n",
    "\n",
    "    if days == 0:\n",
    "        return reference_date\n",
    "\n",
    "    random_delta = fake.random_int(min=0, max=days)\n",
    "\n",
    "    date = calculateEndTime(reference_date, days= random_delta)\n",
    "\n",
    "    return date\n",
    "    \n",
    "    \n",
    "    "
   ]
  },
  {
   "cell_type": "code",
   "execution_count": 79,
   "metadata": {},
   "outputs": [],
   "source": [
    "def generateTableDf_MOVIMIENTO_SUSTANCIAS(fkeys, count=10):\n",
    "    data = {}\n",
    "    \n",
    "    operaciones = ['Ingreso', 'Consumo']\n",
    "    \n",
    "    data['ID_MOVIMIENTO_SUSTANCIAS'] = [ n+1 for n in range(count) ]\n",
    "    data['ID_STOCK_SUSTANCIAS'] = [ random.choice( fkeys['ID_STOCK_SUSTANCIAS'] ) for n in range(count) ]\n",
    "    data['ID_EMPLEADO'] = [ random.choice( fkeys['ID_EMPLEADO'] ) for n in range(count) ]\n",
    "    data['OPERACION'] = [ random.choice( operaciones ) for n in range(count) ]\n",
    "    data['CANTIDAD'] = [ float(fake.random_int(min=100, max=500) + random.uniform(0,1)) for n in range(count) ]\n",
    "    \n",
    "   \n",
    "    df = pd.DataFrame(data)\n",
    "    \n",
    "    # Columna auxiliar con las fechas de referencia\n",
    "    df['FECHA'] = df['ID_STOCK_SUSTANCIAS'].apply(lambda x: df_stock_sustancias['FECHA_INGRESO'][x])\n",
    "\n",
    "    # Calculo la fecha de operación entre algún momento y ahora\n",
    "    df['FECHA_OPERACION'] = df['FECHA'].apply(lambda x: generateOperationDate(datetime.strptime(x, '%Y-%m-%d')))\n",
    "    \n",
    "    df = df.drop('FECHA', axis=1)\n",
    "    \n",
    "    return df"
   ]
  },
  {
   "cell_type": "code",
   "execution_count": 80,
   "metadata": {},
   "outputs": [],
   "source": [
    "fkeys = {\n",
    "    'ID_STOCK_SUSTANCIAS': list( df_stock_sustancias['ID_STOCK_SUSTANCIAS'] ),\n",
    "    'ID_EMPLEADO': list( df_empleado['ID_EMPLEADO'] )\n",
    "}"
   ]
  },
  {
   "cell_type": "code",
   "execution_count": 81,
   "metadata": {},
   "outputs": [],
   "source": [
    "# df_movimiento_sustancias = generateTableDf_MOVIMIENTO_SUSTANCIAS(fkeys, count=50)"
   ]
  },
  {
   "cell_type": "code",
   "execution_count": 82,
   "metadata": {},
   "outputs": [],
   "source": [
    "# Exportamos a csv\n",
    "# df_movimiento_sustancias.to_csv('csv/15-Movimiento_sustancias.csv', index=False)"
   ]
  },
  {
   "cell_type": "code",
   "execution_count": 83,
   "metadata": {},
   "outputs": [
    {
     "data": {
      "text/html": [
       "<div>\n",
       "<style scoped>\n",
       "    .dataframe tbody tr th:only-of-type {\n",
       "        vertical-align: middle;\n",
       "    }\n",
       "\n",
       "    .dataframe tbody tr th {\n",
       "        vertical-align: top;\n",
       "    }\n",
       "\n",
       "    .dataframe thead th {\n",
       "        text-align: right;\n",
       "    }\n",
       "</style>\n",
       "<table border=\"1\" class=\"dataframe\">\n",
       "  <thead>\n",
       "    <tr style=\"text-align: right;\">\n",
       "      <th></th>\n",
       "      <th>ID_MOVIMIENTO_SUSTANCIAS</th>\n",
       "      <th>ID_STOCK_SUSTANCIAS</th>\n",
       "      <th>ID_EMPLEADO</th>\n",
       "      <th>OPERACION</th>\n",
       "      <th>CANTIDAD</th>\n",
       "      <th>FECHA_OPERACION</th>\n",
       "    </tr>\n",
       "  </thead>\n",
       "  <tbody>\n",
       "    <tr>\n",
       "      <th>0</th>\n",
       "      <td>1</td>\n",
       "      <td>35</td>\n",
       "      <td>18</td>\n",
       "      <td>Consumo</td>\n",
       "      <td>174.190337</td>\n",
       "      <td>2015-11-29</td>\n",
       "    </tr>\n",
       "    <tr>\n",
       "      <th>1</th>\n",
       "      <td>2</td>\n",
       "      <td>172</td>\n",
       "      <td>3</td>\n",
       "      <td>Ingreso</td>\n",
       "      <td>168.686407</td>\n",
       "      <td>2018-02-08</td>\n",
       "    </tr>\n",
       "    <tr>\n",
       "      <th>2</th>\n",
       "      <td>3</td>\n",
       "      <td>13</td>\n",
       "      <td>5</td>\n",
       "      <td>Ingreso</td>\n",
       "      <td>394.131921</td>\n",
       "      <td>2017-05-04</td>\n",
       "    </tr>\n",
       "    <tr>\n",
       "      <th>3</th>\n",
       "      <td>4</td>\n",
       "      <td>144</td>\n",
       "      <td>20</td>\n",
       "      <td>Ingreso</td>\n",
       "      <td>329.104693</td>\n",
       "      <td>2019-06-20</td>\n",
       "    </tr>\n",
       "    <tr>\n",
       "      <th>4</th>\n",
       "      <td>5</td>\n",
       "      <td>66</td>\n",
       "      <td>14</td>\n",
       "      <td>Consumo</td>\n",
       "      <td>492.035348</td>\n",
       "      <td>2015-01-08</td>\n",
       "    </tr>\n",
       "  </tbody>\n",
       "</table>\n",
       "</div>"
      ],
      "text/plain": [
       "   ID_MOVIMIENTO_SUSTANCIAS  ID_STOCK_SUSTANCIAS  ID_EMPLEADO OPERACION  \\\n",
       "0                         1                   35           18   Consumo   \n",
       "1                         2                  172            3   Ingreso   \n",
       "2                         3                   13            5   Ingreso   \n",
       "3                         4                  144           20   Ingreso   \n",
       "4                         5                   66           14   Consumo   \n",
       "\n",
       "     CANTIDAD FECHA_OPERACION  \n",
       "0  174.190337      2015-11-29  \n",
       "1  168.686407      2018-02-08  \n",
       "2  394.131921      2017-05-04  \n",
       "3  329.104693      2019-06-20  \n",
       "4  492.035348      2015-01-08  "
      ]
     },
     "execution_count": 83,
     "metadata": {},
     "output_type": "execute_result"
    }
   ],
   "source": [
    "df_movimiento_sustancias = df_movimiento_sustancias = pd.read_csv('csv/15-Movimiento_sustancias.csv')\n",
    "df_movimiento_sustancias.head()"
   ]
  },
  {
   "cell_type": "markdown",
   "metadata": {},
   "source": [
    "<h2 style=\"color:#777\">16: MOVIMIENTO_EQUIPOS</h2>"
   ]
  },
  {
   "cell_type": "code",
   "execution_count": 84,
   "metadata": {},
   "outputs": [],
   "source": [
    "def generateTableDf_MOVIMIENTO_EQUIPOS(fkeys, count=10):\n",
    "    data = {}\n",
    "    \n",
    "    operaciones = ['Alta', 'Baja']\n",
    "    \n",
    "    data['ID_MOVIMIENTO_EQUIPOS'] = [ n+1 for n in range(count) ]\n",
    "    data['ID_STOCK_EQUIPOS'] = [ random.choice( fkeys['ID_STOCK_EQUIPOS'] ) for n in range(count) ]\n",
    "    data['ID_EMPLEADO'] = [ random.choice( fkeys['ID_EMPLEADO'] ) for n in range(count) ]\n",
    "    data['OPERACION'] = [ random.choice( operaciones ) for n in range(count) ]\n",
    "    data['CANTIDAD'] = [ fake.random_int(min=1, max=3) for n in range(count) ]\n",
    "    \n",
    "   \n",
    "    df = pd.DataFrame(data)\n",
    "    \n",
    "    # Columna auxiliar con las fechas de referencia\n",
    "    df['FECHA'] = df['ID_STOCK_EQUIPOS'].apply(lambda x: df_stock_equipos['FECHA_INGRESO'][x])\n",
    "\n",
    "    # Calculo la fecha de operación entre algún momento y ahora\n",
    "    df['FECHA_OPERACION'] = df['FECHA'].apply(lambda x: generateOperationDate(datetime.strptime(x, '%Y-%m-%d')))\n",
    "    \n",
    "    df = df.drop('FECHA', axis=1)\n",
    "    \n",
    "    return df"
   ]
  },
  {
   "cell_type": "code",
   "execution_count": 85,
   "metadata": {},
   "outputs": [],
   "source": [
    "fkeys = {\n",
    "    'ID_STOCK_EQUIPOS': list( df_stock_equipos['ID_STOCK_EQUIPOS'] ),\n",
    "    'ID_EMPLEADO': list( df_empleado['ID_EMPLEADO'] )\n",
    "}"
   ]
  },
  {
   "cell_type": "code",
   "execution_count": 86,
   "metadata": {},
   "outputs": [],
   "source": [
    "# df_movimiento_equipos = generateTableDf_MOVIMIENTO_EQUIPOS(fkeys, count=50)"
   ]
  },
  {
   "cell_type": "code",
   "execution_count": 88,
   "metadata": {},
   "outputs": [],
   "source": [
    "# Exportamos a csv\n",
    "# df_movimiento_equipos.to_csv('csv/16-Movimiento_equipos.csv', index=False)"
   ]
  },
  {
   "cell_type": "code",
   "execution_count": 89,
   "metadata": {},
   "outputs": [
    {
     "data": {
      "text/html": [
       "<div>\n",
       "<style scoped>\n",
       "    .dataframe tbody tr th:only-of-type {\n",
       "        vertical-align: middle;\n",
       "    }\n",
       "\n",
       "    .dataframe tbody tr th {\n",
       "        vertical-align: top;\n",
       "    }\n",
       "\n",
       "    .dataframe thead th {\n",
       "        text-align: right;\n",
       "    }\n",
       "</style>\n",
       "<table border=\"1\" class=\"dataframe\">\n",
       "  <thead>\n",
       "    <tr style=\"text-align: right;\">\n",
       "      <th></th>\n",
       "      <th>ID_MOVIMIENTO_EQUIPOS</th>\n",
       "      <th>ID_STOCK_EQUIPOS</th>\n",
       "      <th>ID_EMPLEADO</th>\n",
       "      <th>OPERACION</th>\n",
       "      <th>CANTIDAD</th>\n",
       "      <th>FECHA_OPERACION</th>\n",
       "    </tr>\n",
       "  </thead>\n",
       "  <tbody>\n",
       "    <tr>\n",
       "      <th>0</th>\n",
       "      <td>1</td>\n",
       "      <td>14</td>\n",
       "      <td>8</td>\n",
       "      <td>Baja</td>\n",
       "      <td>1</td>\n",
       "      <td>2021-09-16</td>\n",
       "    </tr>\n",
       "    <tr>\n",
       "      <th>1</th>\n",
       "      <td>2</td>\n",
       "      <td>2</td>\n",
       "      <td>18</td>\n",
       "      <td>Baja</td>\n",
       "      <td>2</td>\n",
       "      <td>2020-05-29</td>\n",
       "    </tr>\n",
       "    <tr>\n",
       "      <th>2</th>\n",
       "      <td>3</td>\n",
       "      <td>3</td>\n",
       "      <td>10</td>\n",
       "      <td>Alta</td>\n",
       "      <td>3</td>\n",
       "      <td>2021-08-20</td>\n",
       "    </tr>\n",
       "    <tr>\n",
       "      <th>3</th>\n",
       "      <td>4</td>\n",
       "      <td>15</td>\n",
       "      <td>3</td>\n",
       "      <td>Alta</td>\n",
       "      <td>2</td>\n",
       "      <td>2020-08-18</td>\n",
       "    </tr>\n",
       "    <tr>\n",
       "      <th>4</th>\n",
       "      <td>5</td>\n",
       "      <td>2</td>\n",
       "      <td>9</td>\n",
       "      <td>Baja</td>\n",
       "      <td>3</td>\n",
       "      <td>2020-10-03</td>\n",
       "    </tr>\n",
       "  </tbody>\n",
       "</table>\n",
       "</div>"
      ],
      "text/plain": [
       "   ID_MOVIMIENTO_EQUIPOS  ID_STOCK_EQUIPOS  ID_EMPLEADO OPERACION  CANTIDAD  \\\n",
       "0                      1                14            8      Baja         1   \n",
       "1                      2                 2           18      Baja         2   \n",
       "2                      3                 3           10      Alta         3   \n",
       "3                      4                15            3      Alta         2   \n",
       "4                      5                 2            9      Baja         3   \n",
       "\n",
       "  FECHA_OPERACION  \n",
       "0      2021-09-16  \n",
       "1      2020-05-29  \n",
       "2      2021-08-20  \n",
       "3      2020-08-18  \n",
       "4      2020-10-03  "
      ]
     },
     "execution_count": 89,
     "metadata": {},
     "output_type": "execute_result"
    }
   ],
   "source": [
    "df_movimiento_equipos = pd.read_csv('csv/16-Movimiento_equipos.csv')\n",
    "df_movimiento_equipos.head()"
   ]
  },
  {
   "cell_type": "code",
   "execution_count": null,
   "metadata": {},
   "outputs": [],
   "source": []
  }
 ],
 "metadata": {
  "kernelspec": {
   "display_name": "Python 3 (ipykernel)",
   "language": "python",
   "name": "python3"
  },
  "language_info": {
   "codemirror_mode": {
    "name": "ipython",
    "version": 3
   },
   "file_extension": ".py",
   "mimetype": "text/x-python",
   "name": "python",
   "nbconvert_exporter": "python",
   "pygments_lexer": "ipython3",
   "version": "3.9.7"
  }
 },
 "nbformat": 4,
 "nbformat_minor": 2
}

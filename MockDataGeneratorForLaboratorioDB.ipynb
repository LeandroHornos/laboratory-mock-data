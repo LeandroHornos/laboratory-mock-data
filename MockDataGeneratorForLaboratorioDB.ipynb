{
 "cells": [
  {
   "cell_type": "markdown",
   "metadata": {},
   "source": [
    "<h1 style=\"color:#555; font-size:3em\">Generador de fake data para la base de datos 'Laboratorio'</h1>\n",
    "<h2 style=\"color:#555\">Curso de SQL de CoderHouse</h2>"
   ]
  },
  {
   "cell_type": "code",
   "execution_count": 1,
   "metadata": {},
   "outputs": [],
   "source": [
    "import pandas as pd\n",
    "import datetime\n",
    "import random\n",
    "\n",
    "from faker import Faker\n",
    "from faker.providers import person\n",
    "\n",
    "from deep_translator import GoogleTranslator"
   ]
  },
  {
   "cell_type": "code",
   "execution_count": 2,
   "metadata": {},
   "outputs": [],
   "source": [
    "# set the seed\n",
    "Faker.seed(100)\n",
    "\n",
    "# Uso el locale en español de España\n",
    "fake = Faker('es_ES')\n",
    "\n",
    "# El locale solo tiene algunas cosas, por ejemplo el lorem queda en latin\n",
    "# para los casos en que necesito explícitamente indicar que use faker en inglés\n",
    "# genero una segunda instancia de faker en ingles.\n",
    "fake_en = Faker('en_US')"
   ]
  },
  {
   "cell_type": "markdown",
   "metadata": {},
   "source": [
    "**Funciones generales**"
   ]
  },
  {
   "cell_type": "code",
   "execution_count": 3,
   "metadata": {},
   "outputs": [],
   "source": [
    "def toSpanish(text):\n",
    "    try:\n",
    "        translated = GoogleTranslator(source='auto', target='es').translate(text)\n",
    "    except Exception as e:\n",
    "        print(e)\n",
    "        return text\n",
    "    return translated"
   ]
  },
  {
   "cell_type": "markdown",
   "metadata": {},
   "source": [
    "<h2>0: NIVEL_ACCESO</h2>"
   ]
  },
  {
   "cell_type": "code",
   "execution_count": 4,
   "metadata": {},
   "outputs": [],
   "source": [
    "data = {}\n",
    "\n",
    "# Indicar en <count> el número de filas que se quiere generar\n",
    "\n",
    "count = 3\n",
    "\n",
    "data['ID_NIVEL_ACCESO'] = [n+1 for n in range(count)]\n",
    "data['NIVEL'] = [random.choice(['A','B','C']) for n in range(count)]\n",
    "data['DESCRIPCION_NIVEL'] = [toSpanish(fake.catch_phrase()).title() for n in range(count)]"
   ]
  },
  {
   "cell_type": "code",
   "execution_count": 5,
   "metadata": {},
   "outputs": [
    {
     "data": {
      "text/html": [
       "<div>\n",
       "<style scoped>\n",
       "    .dataframe tbody tr th:only-of-type {\n",
       "        vertical-align: middle;\n",
       "    }\n",
       "\n",
       "    .dataframe tbody tr th {\n",
       "        vertical-align: top;\n",
       "    }\n",
       "\n",
       "    .dataframe thead th {\n",
       "        text-align: right;\n",
       "    }\n",
       "</style>\n",
       "<table border=\"1\" class=\"dataframe\">\n",
       "  <thead>\n",
       "    <tr style=\"text-align: right;\">\n",
       "      <th></th>\n",
       "      <th>ID_NIVEL_ACCESO</th>\n",
       "      <th>NIVEL</th>\n",
       "      <th>DESCRIPCION_NIVEL</th>\n",
       "    </tr>\n",
       "  </thead>\n",
       "  <tbody>\n",
       "    <tr>\n",
       "      <th>0</th>\n",
       "      <td>1</td>\n",
       "      <td>A</td>\n",
       "      <td>Base De Conocimiento Logística Digitalizada</td>\n",
       "    </tr>\n",
       "    <tr>\n",
       "      <th>1</th>\n",
       "      <td>2</td>\n",
       "      <td>C</td>\n",
       "      <td>Estrategia Visionaria Sensible Al Contexto</td>\n",
       "    </tr>\n",
       "    <tr>\n",
       "      <th>2</th>\n",
       "      <td>3</td>\n",
       "      <td>C</td>\n",
       "      <td>Hardware De Tendencia Ascendente Basado En Obj...</td>\n",
       "    </tr>\n",
       "  </tbody>\n",
       "</table>\n",
       "</div>"
      ],
      "text/plain": [
       "   ID_NIVEL_ACCESO NIVEL                                  DESCRIPCION_NIVEL\n",
       "0                1     A        Base De Conocimiento Logística Digitalizada\n",
       "1                2     C         Estrategia Visionaria Sensible Al Contexto\n",
       "2                3     C  Hardware De Tendencia Ascendente Basado En Obj..."
      ]
     },
     "execution_count": 5,
     "metadata": {},
     "output_type": "execute_result"
    }
   ],
   "source": [
    "df_nivel_acceso = pd.DataFrame(data)\n",
    "df_nivel_acceso"
   ]
  },
  {
   "cell_type": "markdown",
   "metadata": {},
   "source": [
    "**Salida a CSV**"
   ]
  },
  {
   "cell_type": "code",
   "execution_count": 6,
   "metadata": {},
   "outputs": [],
   "source": [
    "df_nivel_acceso.to_csv('csv/00-Nivel_Acceso.csv')"
   ]
  },
  {
   "cell_type": "markdown",
   "metadata": {},
   "source": [
    "<h2 style=\"color:#777\">1: EMPLEADO</h2>"
   ]
  },
  {
   "cell_type": "markdown",
   "metadata": {},
   "source": [
    "**Funciones**"
   ]
  },
  {
   "cell_type": "code",
   "execution_count": 7,
   "metadata": {},
   "outputs": [],
   "source": [
    "def generateFakeDNI(min=2, max=3):\n",
    "    M = fake.random_int(min, max)\n",
    "    rest = fake.numerify(text='#.###.###')\n",
    "    return (f'{M}{rest}')\n",
    "\n",
    "def generateFakeGender(nb_threshold = 0.05):\n",
    "    choice = random.uniform(0, 1)\n",
    "    \n",
    "    if(choice < nb_threshold):\n",
    "        return 'x'\n",
    "    if(choice < 0.5):\n",
    "        return 'M'\n",
    "    else:\n",
    "        return 'F'\n",
    "\n",
    "def generateProfession():\n",
    "    options = [\"Técnico Químico\", \"Ingeniero Químico\", \"Licenciado en Química\", \"Bioquímico\", \"Farmacéutico\", \"Biotecnólogo\"]\n",
    "    return random.choice(options)\n",
    "\n",
    "def generateGenderedName(gender):\n",
    "    if gender == 'M':\n",
    "        return fake.first_name_male()\n",
    "    if gender == 'F':\n",
    "        return fake.first_name_female()\n",
    "    else:\n",
    "        return fake.first_name_nonbinary()\n",
    "    \n",
    "    \n",
    "def generateEmailFromName(first_name=\"john\", last_name=\"doe\"):\n",
    "    provs = ['fakemail', 'truchomail', 'altomail','repiolamail']\n",
    "    email = f'{first_name.lower()}.{last_name.lower()}{str(fake.random_int(min=100, max=999))}@{random.choice(provs)}.com'\n",
    "    return email\n"
   ]
  },
  {
   "cell_type": "markdown",
   "metadata": {},
   "source": [
    "**Generación de datos**"
   ]
  },
  {
   "cell_type": "code",
   "execution_count": 8,
   "metadata": {},
   "outputs": [],
   "source": [
    "data = {}\n",
    "\n",
    "# Indicar en <count> el número de filas que se quiere generar\n",
    "\n",
    "count = 20\n",
    "\n",
    "# Generamos la información básica de cada empleado\n",
    "\n",
    "data['ID_EMPLEADO'] = [n+1 for n in range(count)]\n",
    "data['APELLIDO'] = [fake.last_name() for n in range(count)]\n",
    "data['DNI'] = [generateFakeDNI() for n in range(count)]\n",
    "data['GENERO'] = [generateFakeGender() for n in range(count)]\n",
    "data['TELEFONO_MOVIL'] = [fake.phone_number() for n in range(count)]\n",
    "data['FECHA_NACIMIENTO'] =[fake.date_between(start_date = \"-65y\", end_date = \"-18y\") for n in range(count)]\n",
    "data['TITULO_UNIVERSITARIO'] = [generateProfession() for n in range(count)]\n",
    "data['DIRECCION'] = [fake.address() for n in range(count)]\n",
    "data['FECHA_CONTRATACION'] =[fake.date_between(start_date = \"-10y\", end_date = \"-1y\") for n in range(count)]\n",
    "data['ID_NIVEL_ACCESO'] = [fake.random_int(min=1, max=3) for n in range(count)]"
   ]
  },
  {
   "cell_type": "code",
   "execution_count": 9,
   "metadata": {
    "scrolled": true
   },
   "outputs": [],
   "source": [
    "# Guardamos la data en un dataframe\n",
    "df_empleado = pd.DataFrame(data)"
   ]
  },
  {
   "cell_type": "markdown",
   "metadata": {},
   "source": [
    "**Información secundaria**<br>\n",
    "A continuación completamos los campos con informacón que debe ser generada a partir de la data existente. El nombre de pila se elige a partir del género, mientras que el email se construye a partir del nombre y apellido."
   ]
  },
  {
   "cell_type": "code",
   "execution_count": 10,
   "metadata": {
    "scrolled": true
   },
   "outputs": [
    {
     "data": {
      "text/html": [
       "<div>\n",
       "<style scoped>\n",
       "    .dataframe tbody tr th:only-of-type {\n",
       "        vertical-align: middle;\n",
       "    }\n",
       "\n",
       "    .dataframe tbody tr th {\n",
       "        vertical-align: top;\n",
       "    }\n",
       "\n",
       "    .dataframe thead th {\n",
       "        text-align: right;\n",
       "    }\n",
       "</style>\n",
       "<table border=\"1\" class=\"dataframe\">\n",
       "  <thead>\n",
       "    <tr style=\"text-align: right;\">\n",
       "      <th></th>\n",
       "      <th>APELLIDO</th>\n",
       "      <th>DIRECCION</th>\n",
       "      <th>DNI</th>\n",
       "      <th>EMAIL</th>\n",
       "      <th>FECHA_CONTRATACION</th>\n",
       "      <th>FECHA_NACIMIENTO</th>\n",
       "      <th>GENERO</th>\n",
       "      <th>ID_EMPLEADO</th>\n",
       "      <th>ID_NIVEL_ACCESO</th>\n",
       "      <th>NOMBRE</th>\n",
       "      <th>TELEFONO_MOVIL</th>\n",
       "      <th>TITULO_UNIVERSITARIO</th>\n",
       "    </tr>\n",
       "  </thead>\n",
       "  <tbody>\n",
       "    <tr>\n",
       "      <th>0</th>\n",
       "      <td>Rosselló</td>\n",
       "      <td>Acceso de Moreno Criado 62 Piso 6 ; Ciudad, 18321</td>\n",
       "      <td>37.846.212</td>\n",
       "      <td>eulalia.rosselló181@altomail.com</td>\n",
       "      <td>2018-08-01</td>\n",
       "      <td>1989-06-25</td>\n",
       "      <td>F</td>\n",
       "      <td>1</td>\n",
       "      <td>3</td>\n",
       "      <td>Eulalia</td>\n",
       "      <td>+34973 329 984</td>\n",
       "      <td>Ingeniero Químico</td>\n",
       "    </tr>\n",
       "    <tr>\n",
       "      <th>1</th>\n",
       "      <td>Vendrell</td>\n",
       "      <td>Callejón Perlita Tolosa 75; Pontevedra, 75518</td>\n",
       "      <td>29.629.232</td>\n",
       "      <td>teobaldo.vendrell137@repiolamail.com</td>\n",
       "      <td>2012-10-01</td>\n",
       "      <td>1982-07-13</td>\n",
       "      <td>M</td>\n",
       "      <td>2</td>\n",
       "      <td>2</td>\n",
       "      <td>Teobaldo</td>\n",
       "      <td>+34 727 269 981</td>\n",
       "      <td>Bioquímico</td>\n",
       "    </tr>\n",
       "    <tr>\n",
       "      <th>2</th>\n",
       "      <td>Canet</td>\n",
       "      <td>Cañada de Joaquín Quintanilla 10; Ávila, 46784</td>\n",
       "      <td>23.762.980</td>\n",
       "      <td>claudio.canet422@truchomail.com</td>\n",
       "      <td>2017-06-11</td>\n",
       "      <td>1971-11-21</td>\n",
       "      <td>M</td>\n",
       "      <td>3</td>\n",
       "      <td>2</td>\n",
       "      <td>Claudio</td>\n",
       "      <td>+34842 19 93 06</td>\n",
       "      <td>Bioquímico</td>\n",
       "    </tr>\n",
       "    <tr>\n",
       "      <th>3</th>\n",
       "      <td>Carrión</td>\n",
       "      <td>Rambla de Chema Botella 49 Puerta 1 ; Salamanc...</td>\n",
       "      <td>29.849.585</td>\n",
       "      <td>amado.carrión779@repiolamail.com</td>\n",
       "      <td>2021-04-26</td>\n",
       "      <td>2002-05-07</td>\n",
       "      <td>M</td>\n",
       "      <td>4</td>\n",
       "      <td>3</td>\n",
       "      <td>Amado</td>\n",
       "      <td>+34736 511 076</td>\n",
       "      <td>Bioquímico</td>\n",
       "    </tr>\n",
       "    <tr>\n",
       "      <th>4</th>\n",
       "      <td>Bernat</td>\n",
       "      <td>Urbanización de Morena Bernat 15; Las Palmas, ...</td>\n",
       "      <td>37.601.464</td>\n",
       "      <td>marciano.bernat278@altomail.com</td>\n",
       "      <td>2020-09-11</td>\n",
       "      <td>1992-08-06</td>\n",
       "      <td>M</td>\n",
       "      <td>5</td>\n",
       "      <td>3</td>\n",
       "      <td>Marciano</td>\n",
       "      <td>+34 892 711 418</td>\n",
       "      <td>Técnico Químico</td>\n",
       "    </tr>\n",
       "  </tbody>\n",
       "</table>\n",
       "</div>"
      ],
      "text/plain": [
       "   APELLIDO                                          DIRECCION         DNI  \\\n",
       "0  Rosselló  Acceso de Moreno Criado 62 Piso 6 ; Ciudad, 18321  37.846.212   \n",
       "1  Vendrell      Callejón Perlita Tolosa 75; Pontevedra, 75518  29.629.232   \n",
       "2     Canet     Cañada de Joaquín Quintanilla 10; Ávila, 46784  23.762.980   \n",
       "3   Carrión  Rambla de Chema Botella 49 Puerta 1 ; Salamanc...  29.849.585   \n",
       "4    Bernat  Urbanización de Morena Bernat 15; Las Palmas, ...  37.601.464   \n",
       "\n",
       "                                  EMAIL FECHA_CONTRATACION FECHA_NACIMIENTO  \\\n",
       "0      eulalia.rosselló181@altomail.com         2018-08-01       1989-06-25   \n",
       "1  teobaldo.vendrell137@repiolamail.com         2012-10-01       1982-07-13   \n",
       "2       claudio.canet422@truchomail.com         2017-06-11       1971-11-21   \n",
       "3      amado.carrión779@repiolamail.com         2021-04-26       2002-05-07   \n",
       "4       marciano.bernat278@altomail.com         2020-09-11       1992-08-06   \n",
       "\n",
       "  GENERO  ID_EMPLEADO  ID_NIVEL_ACCESO    NOMBRE   TELEFONO_MOVIL  \\\n",
       "0      F            1                3   Eulalia   +34973 329 984   \n",
       "1      M            2                2  Teobaldo  +34 727 269 981   \n",
       "2      M            3                2   Claudio  +34842 19 93 06   \n",
       "3      M            4                3     Amado   +34736 511 076   \n",
       "4      M            5                3  Marciano  +34 892 711 418   \n",
       "\n",
       "  TITULO_UNIVERSITARIO  \n",
       "0    Ingeniero Químico  \n",
       "1           Bioquímico  \n",
       "2           Bioquímico  \n",
       "3           Bioquímico  \n",
       "4      Técnico Químico  "
      ]
     },
     "execution_count": 10,
     "metadata": {},
     "output_type": "execute_result"
    }
   ],
   "source": [
    "# Sacamos los saltos de línea en la dirección:\n",
    "df_empleado['DIRECCION'] = df_empleado['DIRECCION'].apply(lambda x: x.replace('\\n', '; '))\n",
    "\n",
    "# Generamos el nombre sabiendo el género\n",
    "df_empleado['NOMBRE'] = df_empleado.apply(lambda row: generateGenderedName(row['GENERO']), axis=1)\n",
    "\n",
    "# General el email sabiendo nombre y appellido\n",
    "df_empleado['EMAIL'] = df_empleado.apply(lambda row: generateEmailFromName(row['NOMBRE'], row['APELLIDO']), axis=1)\n",
    "\n",
    "# Ordenamos alfabeticamente las columnas\n",
    "df_empleado = df_empleado.reindex(sorted(df_empleado.columns), axis=1)\n",
    "\n",
    "# Vemos el resultado\n",
    "df_empleado.head()"
   ]
  },
  {
   "cell_type": "markdown",
   "metadata": {},
   "source": [
    "**Salida a csv**"
   ]
  },
  {
   "cell_type": "code",
   "execution_count": 11,
   "metadata": {},
   "outputs": [],
   "source": [
    "df_empleado.to_csv('csv/01-Empleado.csv', index=False)"
   ]
  },
  {
   "cell_type": "markdown",
   "metadata": {},
   "source": [
    "<h2 style=\"color:#777\">2: PROYECTO</h2>"
   ]
  },
  {
   "cell_type": "code",
   "execution_count": 12,
   "metadata": {},
   "outputs": [
    {
     "data": {
      "text/plain": [
       "'Colaboración Compartible'"
      ]
     },
     "execution_count": 12,
     "metadata": {},
     "output_type": "execute_result"
    }
   ],
   "source": [
    "def generateProjectTitle():\n",
    "    phrase = toSpanish(fake.catch_phrase())\n",
    "    words = phrase.split()\n",
    "    title =(f'{words[0]} {words[-1]}').title()\n",
    "    return title\n",
    "\n",
    "generateProjectTitle()"
   ]
  },
  {
   "cell_type": "markdown",
   "metadata": {},
   "source": [
    "**Generación de datos**"
   ]
  },
  {
   "cell_type": "code",
   "execution_count": 13,
   "metadata": {
    "scrolled": true
   },
   "outputs": [],
   "source": [
    "data = {}\n",
    "\n",
    "# Indicar en <count> el número de filas que se quiere generar\n",
    "count = 5\n",
    "\n",
    "# Generamos la información básica de cada proyecto\n",
    "data['ID_PROYECTO'] = [n+1 for n in range(count)]\n",
    "data['NOMBRE_PROYECTO'] = [generateProjectTitle() for n in range(count)]\n",
    "data['FECHA_CREACION'] =[fake.date_between(start_date = \"-10y\", end_date = \"now\") for n in range(count)]\n",
    "\n",
    "data['DESCRIPCION'] = [toSpanish(fake_en.paragraph(nb_sentences=10)) for n in range(count)]"
   ]
  },
  {
   "cell_type": "code",
   "execution_count": 14,
   "metadata": {},
   "outputs": [
    {
     "data": {
      "text/html": [
       "<div>\n",
       "<style scoped>\n",
       "    .dataframe tbody tr th:only-of-type {\n",
       "        vertical-align: middle;\n",
       "    }\n",
       "\n",
       "    .dataframe tbody tr th {\n",
       "        vertical-align: top;\n",
       "    }\n",
       "\n",
       "    .dataframe thead th {\n",
       "        text-align: right;\n",
       "    }\n",
       "</style>\n",
       "<table border=\"1\" class=\"dataframe\">\n",
       "  <thead>\n",
       "    <tr style=\"text-align: right;\">\n",
       "      <th></th>\n",
       "      <th>ID_PROYECTO</th>\n",
       "      <th>NOMBRE_PROYECTO</th>\n",
       "      <th>FECHA_CREACION</th>\n",
       "      <th>DESCRIPCION</th>\n",
       "    </tr>\n",
       "  </thead>\n",
       "  <tbody>\n",
       "    <tr>\n",
       "      <th>0</th>\n",
       "      <td>1</td>\n",
       "      <td>Soporte Adecuado</td>\n",
       "      <td>2012-07-29</td>\n",
       "      <td>Incendio ambiental después. Meta etapa número ...</td>\n",
       "    </tr>\n",
       "    <tr>\n",
       "      <th>1</th>\n",
       "      <td>2</td>\n",
       "      <td>Usuario Terciario</td>\n",
       "      <td>2019-10-09</td>\n",
       "      <td>Esos determinan el desafío del campo ambiental...</td>\n",
       "    </tr>\n",
       "    <tr>\n",
       "      <th>2</th>\n",
       "      <td>3</td>\n",
       "      <td>Capacidad Asegurada</td>\n",
       "      <td>2015-06-25</td>\n",
       "      <td>El tratamiento del pase de discusión probablem...</td>\n",
       "    </tr>\n",
       "    <tr>\n",
       "      <th>3</th>\n",
       "      <td>4</td>\n",
       "      <td>Estandarización Realineada</td>\n",
       "      <td>2017-05-18</td>\n",
       "      <td>Permitir que la causa registre el tema de la c...</td>\n",
       "    </tr>\n",
       "    <tr>\n",
       "      <th>4</th>\n",
       "      <td>5</td>\n",
       "      <td>Funcionalidades Multiplataforma</td>\n",
       "      <td>2016-04-30</td>\n",
       "      <td>Experto celular correr hombre volar primavera ...</td>\n",
       "    </tr>\n",
       "  </tbody>\n",
       "</table>\n",
       "</div>"
      ],
      "text/plain": [
       "   ID_PROYECTO                  NOMBRE_PROYECTO FECHA_CREACION  \\\n",
       "0            1                 Soporte Adecuado     2012-07-29   \n",
       "1            2                Usuario Terciario     2019-10-09   \n",
       "2            3              Capacidad Asegurada     2015-06-25   \n",
       "3            4       Estandarización Realineada     2017-05-18   \n",
       "4            5  Funcionalidades Multiplataforma     2016-04-30   \n",
       "\n",
       "                                         DESCRIPCION  \n",
       "0  Incendio ambiental después. Meta etapa número ...  \n",
       "1  Esos determinan el desafío del campo ambiental...  \n",
       "2  El tratamiento del pase de discusión probablem...  \n",
       "3  Permitir que la causa registre el tema de la c...  \n",
       "4  Experto celular correr hombre volar primavera ...  "
      ]
     },
     "execution_count": 14,
     "metadata": {},
     "output_type": "execute_result"
    }
   ],
   "source": [
    "# Guardamos la data en un dataframe\n",
    "df_proyecto = pd.DataFrame(data)\n",
    "df_proyecto.head()"
   ]
  },
  {
   "cell_type": "code",
   "execution_count": 15,
   "metadata": {},
   "outputs": [],
   "source": [
    "df_proyecto.to_csv('csv/02-Proyecto.csv', index=False)"
   ]
  },
  {
   "cell_type": "markdown",
   "metadata": {},
   "source": [
    "<h2 style=\"color:#777\">3: SUSTANCIA</h2>"
   ]
  },
  {
   "cell_type": "markdown",
   "metadata": {},
   "source": [
    "**Funciones**"
   ]
  },
  {
   "cell_type": "code",
   "execution_count": 16,
   "metadata": {},
   "outputs": [],
   "source": [
    "def generateSmiles(threshold=0.3):\n",
    "    atoms = ['C','n','o','O','s','S','Cl','Br','I','F','(c)','(C)','(n)','(o)','(O)','(s)','(S)']\n",
    "    length = fake.random_int(min=10, max=30)\n",
    "    smiles_list = []\n",
    "    for n in range(length):\n",
    "        choice = random.uniform(0,1)\n",
    "        if choice < threshold:\n",
    "            smiles_list.append(random.choice(atoms))\n",
    "        else:\n",
    "            smiles_list.append('c')\n",
    "    smiles = ''.join(smiles_list)\n",
    "    return(smiles)\n"
   ]
  },
  {
   "cell_type": "markdown",
   "metadata": {},
   "source": [
    "**Generación de datos**"
   ]
  },
  {
   "cell_type": "code",
   "execution_count": 17,
   "metadata": {},
   "outputs": [],
   "source": [
    "filename = 'sustancias.txt'\n",
    "\n",
    "with open(filename, encoding='utf-8') as file:\n",
    "    susts = file.readlines()\n",
    "    susts = [sust.rstrip() for sust in susts]\n",
    "\n",
    "\n",
    "data = {}\n",
    "\n",
    "# Foreing Keys\n",
    "id_nivel_acceso = list(df_nivel_acceso['ID_NIVEL_ACCESO'])\n",
    "\n",
    "# Indicar en <count> el número de filas que se quiere generar\n",
    "count = 50\n",
    "\n",
    "sustancias = [random.choice(susts) for n in range(count)]\n",
    "\n",
    "# Generamos la data\n",
    "data['ID_SUSTANCIA'] = [n+1 for n in range(count)]\n",
    "data['ID_NIVEL_ACCESO'] = [random.choice(id_nivel_acceso) for n in range(count)]\n",
    "data['NOMBRE_COMUN'] = sustancias\n",
    "data['NRO_CAS'] = [fake.numerify(text='##-###-###') for n in range(count)]\n",
    "data['NOMBRE_IUPAC'] = [sust.lower().replace(' ','-') for sust in sustancias]\n",
    "data['SMILES'] = [generateSmiles() for n in range(count) ]\n",
    "data['PESO_MOLECULAR'] = [ float(fake.random_int(min=100, max=700) + random.uniform(0,1)) for n in range(count)  ]"
   ]
  },
  {
   "cell_type": "code",
   "execution_count": 18,
   "metadata": {},
   "outputs": [],
   "source": [
    "#Guardamos la data en un dataframe\n",
    "df_sustancia = pd.DataFrame(data)"
   ]
  },
  {
   "cell_type": "code",
   "execution_count": 19,
   "metadata": {},
   "outputs": [],
   "source": [
    "# Exportamos a csv\n",
    "df_sustancia.to_csv('csv/03-Sustancia.csv', index=False)"
   ]
  },
  {
   "cell_type": "markdown",
   "metadata": {},
   "source": [
    "<h2 style=\"color:#777\">4: EXPERIMENTO</h2>"
   ]
  },
  {
   "cell_type": "markdown",
   "metadata": {},
   "source": [
    "**Funciones**"
   ]
  },
  {
   "cell_type": "code",
   "execution_count": 20,
   "metadata": {},
   "outputs": [],
   "source": [
    "def calculateEndTime(start):\n",
    "    end = start + datetime.timedelta(days=1)\n",
    "    return end\n",
    "    "
   ]
  },
  {
   "cell_type": "markdown",
   "metadata": {},
   "source": [
    "**Generación de datos**"
   ]
  },
  {
   "cell_type": "code",
   "execution_count": 21,
   "metadata": {},
   "outputs": [],
   "source": [
    "data = {}\n",
    "\n",
    "# Número de experimentos a generar:\n",
    "count = 2\n",
    "\n",
    "# Generamos la data principal\n",
    "data['ID_EXPERIMENTO'] = [n+1 for n in range(count)]\n",
    "data['ID_PROYECTO'] = [random.choice(list(df_proyecto['ID_PROYECTO'])) for n in range(count)]\n",
    "data['TITULO_EXPERIMENTO'] =[toSpanish(fake.bs()).title() for n in range(count)]\n",
    "data['OBJETIVO'] = [toSpanish(fake_en.paragraph(nb_sentences=5)) for n in range(count)]\n",
    "data['DESCRIPCION_EXPERIMENTO'] = [toSpanish(fake_en.paragraph(nb_sentences=10)) for n in range(count)]\n",
    "data['CONCLUSION'] = [toSpanish(fake_en.paragraph(nb_sentences=5)) for n in range(count)]\n",
    "data['FECHA_INICIO'] = [fake.date_time_between(start_date = \"-10y\", end_date = \"now\") for n in range(count)]"
   ]
  },
  {
   "cell_type": "code",
   "execution_count": 22,
   "metadata": {},
   "outputs": [
    {
     "data": {
      "text/html": [
       "<div>\n",
       "<style scoped>\n",
       "    .dataframe tbody tr th:only-of-type {\n",
       "        vertical-align: middle;\n",
       "    }\n",
       "\n",
       "    .dataframe tbody tr th {\n",
       "        vertical-align: top;\n",
       "    }\n",
       "\n",
       "    .dataframe thead th {\n",
       "        text-align: right;\n",
       "    }\n",
       "</style>\n",
       "<table border=\"1\" class=\"dataframe\">\n",
       "  <thead>\n",
       "    <tr style=\"text-align: right;\">\n",
       "      <th></th>\n",
       "      <th>ID_EXPERIMENTO</th>\n",
       "      <th>ID_PROYECTO</th>\n",
       "      <th>TITULO_EXPERIMENTO</th>\n",
       "      <th>OBJETIVO</th>\n",
       "      <th>DESCRIPCION_EXPERIMENTO</th>\n",
       "      <th>CONCLUSION</th>\n",
       "      <th>FECHA_INICIO</th>\n",
       "    </tr>\n",
       "  </thead>\n",
       "  <tbody>\n",
       "    <tr>\n",
       "      <th>0</th>\n",
       "      <td>1</td>\n",
       "      <td>3</td>\n",
       "      <td>Aprovechar Usuarios Dinámicos</td>\n",
       "      <td>Amenaza sí noticias generalmente gobierno. El ...</td>\n",
       "      <td>Resto PM probar ancho. Crimen por qué color co...</td>\n",
       "      <td>Ya gire a tomar el patio del centro de la naci...</td>\n",
       "      <td>2015-04-16 16:32:02</td>\n",
       "    </tr>\n",
       "    <tr>\n",
       "      <th>1</th>\n",
       "      <td>2</td>\n",
       "      <td>4</td>\n",
       "      <td>Optimizar Métricas Dinámicas</td>\n",
       "      <td>Descubre un récord previene a la escritora de ...</td>\n",
       "      <td>Así que el crimen es probable. Patrón afecta a...</td>\n",
       "      <td>Su experiencia de trato de compra posible cora...</td>\n",
       "      <td>2018-11-03 05:16:03</td>\n",
       "    </tr>\n",
       "    <tr>\n",
       "      <th>2</th>\n",
       "      <td>3</td>\n",
       "      <td>1</td>\n",
       "      <td>Ingeniero De Comercio Electrónico B2B</td>\n",
       "      <td>Establezca la respuesta de la comunidad en el ...</td>\n",
       "      <td>Guardar niño. Enfréntate a un proyecto de ley ...</td>\n",
       "      <td>Cuerpo religioso duro amor de plomo. Opción ga...</td>\n",
       "      <td>2018-01-28 08:40:09</td>\n",
       "    </tr>\n",
       "    <tr>\n",
       "      <th>3</th>\n",
       "      <td>4</td>\n",
       "      <td>2</td>\n",
       "      <td>Funcionalidades Escalables De Morph</td>\n",
       "      <td>Fondo imagine tienda también desde asiento. Es...</td>\n",
       "      <td>Exactamente mensaje de ataque llamar a alguien...</td>\n",
       "      <td>Condición de drogas aún alcanzar. El enfoque d...</td>\n",
       "      <td>2017-02-10 00:46:44</td>\n",
       "    </tr>\n",
       "    <tr>\n",
       "      <th>4</th>\n",
       "      <td>5</td>\n",
       "      <td>1</td>\n",
       "      <td>Tecnologías Personalizadas Desintermedias</td>\n",
       "      <td>Recuerde que el gas de recogida de mosca de vi...</td>\n",
       "      <td>Conduciría la mención anterior al ser anterior...</td>\n",
       "      <td>Problema de desempeño del abogado del oficial ...</td>\n",
       "      <td>2016-06-07 08:55:06</td>\n",
       "    </tr>\n",
       "  </tbody>\n",
       "</table>\n",
       "</div>"
      ],
      "text/plain": [
       "   ID_EXPERIMENTO  ID_PROYECTO                         TITULO_EXPERIMENTO  \\\n",
       "0               1            3              Aprovechar Usuarios Dinámicos   \n",
       "1               2            4               Optimizar Métricas Dinámicas   \n",
       "2               3            1      Ingeniero De Comercio Electrónico B2B   \n",
       "3               4            2        Funcionalidades Escalables De Morph   \n",
       "4               5            1  Tecnologías Personalizadas Desintermedias   \n",
       "\n",
       "                                            OBJETIVO  \\\n",
       "0  Amenaza sí noticias generalmente gobierno. El ...   \n",
       "1  Descubre un récord previene a la escritora de ...   \n",
       "2  Establezca la respuesta de la comunidad en el ...   \n",
       "3  Fondo imagine tienda también desde asiento. Es...   \n",
       "4  Recuerde que el gas de recogida de mosca de vi...   \n",
       "\n",
       "                             DESCRIPCION_EXPERIMENTO  \\\n",
       "0  Resto PM probar ancho. Crimen por qué color co...   \n",
       "1  Así que el crimen es probable. Patrón afecta a...   \n",
       "2  Guardar niño. Enfréntate a un proyecto de ley ...   \n",
       "3  Exactamente mensaje de ataque llamar a alguien...   \n",
       "4  Conduciría la mención anterior al ser anterior...   \n",
       "\n",
       "                                          CONCLUSION        FECHA_INICIO  \n",
       "0  Ya gire a tomar el patio del centro de la naci... 2015-04-16 16:32:02  \n",
       "1  Su experiencia de trato de compra posible cora... 2018-11-03 05:16:03  \n",
       "2  Cuerpo religioso duro amor de plomo. Opción ga... 2018-01-28 08:40:09  \n",
       "3  Condición de drogas aún alcanzar. El enfoque d... 2017-02-10 00:46:44  \n",
       "4  Problema de desempeño del abogado del oficial ... 2016-06-07 08:55:06  "
      ]
     },
     "execution_count": 22,
     "metadata": {},
     "output_type": "execute_result"
    }
   ],
   "source": [
    "# Guardamos la data en un dataframe\n",
    "df_experimento = pd.DataFrame(data)\n",
    "df_experimento.head()"
   ]
  },
  {
   "cell_type": "markdown",
   "metadata": {},
   "source": [
    "**Información derivada**"
   ]
  },
  {
   "cell_type": "code",
   "execution_count": 23,
   "metadata": {},
   "outputs": [
    {
     "data": {
      "text/html": [
       "<div>\n",
       "<style scoped>\n",
       "    .dataframe tbody tr th:only-of-type {\n",
       "        vertical-align: middle;\n",
       "    }\n",
       "\n",
       "    .dataframe tbody tr th {\n",
       "        vertical-align: top;\n",
       "    }\n",
       "\n",
       "    .dataframe thead th {\n",
       "        text-align: right;\n",
       "    }\n",
       "</style>\n",
       "<table border=\"1\" class=\"dataframe\">\n",
       "  <thead>\n",
       "    <tr style=\"text-align: right;\">\n",
       "      <th></th>\n",
       "      <th>ID_EXPERIMENTO</th>\n",
       "      <th>ID_PROYECTO</th>\n",
       "      <th>TITULO_EXPERIMENTO</th>\n",
       "      <th>OBJETIVO</th>\n",
       "      <th>DESCRIPCION_EXPERIMENTO</th>\n",
       "      <th>CONCLUSION</th>\n",
       "      <th>FECHA_INICIO</th>\n",
       "      <th>FECHA_FINALIZACION</th>\n",
       "    </tr>\n",
       "  </thead>\n",
       "  <tbody>\n",
       "    <tr>\n",
       "      <th>0</th>\n",
       "      <td>1</td>\n",
       "      <td>3</td>\n",
       "      <td>Aprovechar Usuarios Dinámicos</td>\n",
       "      <td>Amenaza sí noticias generalmente gobierno. El ...</td>\n",
       "      <td>Resto PM probar ancho. Crimen por qué color co...</td>\n",
       "      <td>Ya gire a tomar el patio del centro de la naci...</td>\n",
       "      <td>2015-04-16 16:32:02</td>\n",
       "      <td>2015-04-17 16:32:02</td>\n",
       "    </tr>\n",
       "    <tr>\n",
       "      <th>1</th>\n",
       "      <td>2</td>\n",
       "      <td>4</td>\n",
       "      <td>Optimizar Métricas Dinámicas</td>\n",
       "      <td>Descubre un récord previene a la escritora de ...</td>\n",
       "      <td>Así que el crimen es probable. Patrón afecta a...</td>\n",
       "      <td>Su experiencia de trato de compra posible cora...</td>\n",
       "      <td>2018-11-03 05:16:03</td>\n",
       "      <td>2018-11-04 05:16:03</td>\n",
       "    </tr>\n",
       "    <tr>\n",
       "      <th>2</th>\n",
       "      <td>3</td>\n",
       "      <td>1</td>\n",
       "      <td>Ingeniero De Comercio Electrónico B2B</td>\n",
       "      <td>Establezca la respuesta de la comunidad en el ...</td>\n",
       "      <td>Guardar niño. Enfréntate a un proyecto de ley ...</td>\n",
       "      <td>Cuerpo religioso duro amor de plomo. Opción ga...</td>\n",
       "      <td>2018-01-28 08:40:09</td>\n",
       "      <td>2018-01-29 08:40:09</td>\n",
       "    </tr>\n",
       "    <tr>\n",
       "      <th>3</th>\n",
       "      <td>4</td>\n",
       "      <td>2</td>\n",
       "      <td>Funcionalidades Escalables De Morph</td>\n",
       "      <td>Fondo imagine tienda también desde asiento. Es...</td>\n",
       "      <td>Exactamente mensaje de ataque llamar a alguien...</td>\n",
       "      <td>Condición de drogas aún alcanzar. El enfoque d...</td>\n",
       "      <td>2017-02-10 00:46:44</td>\n",
       "      <td>2017-02-11 00:46:44</td>\n",
       "    </tr>\n",
       "    <tr>\n",
       "      <th>4</th>\n",
       "      <td>5</td>\n",
       "      <td>1</td>\n",
       "      <td>Tecnologías Personalizadas Desintermedias</td>\n",
       "      <td>Recuerde que el gas de recogida de mosca de vi...</td>\n",
       "      <td>Conduciría la mención anterior al ser anterior...</td>\n",
       "      <td>Problema de desempeño del abogado del oficial ...</td>\n",
       "      <td>2016-06-07 08:55:06</td>\n",
       "      <td>2016-06-08 08:55:06</td>\n",
       "    </tr>\n",
       "  </tbody>\n",
       "</table>\n",
       "</div>"
      ],
      "text/plain": [
       "   ID_EXPERIMENTO  ID_PROYECTO                         TITULO_EXPERIMENTO  \\\n",
       "0               1            3              Aprovechar Usuarios Dinámicos   \n",
       "1               2            4               Optimizar Métricas Dinámicas   \n",
       "2               3            1      Ingeniero De Comercio Electrónico B2B   \n",
       "3               4            2        Funcionalidades Escalables De Morph   \n",
       "4               5            1  Tecnologías Personalizadas Desintermedias   \n",
       "\n",
       "                                            OBJETIVO  \\\n",
       "0  Amenaza sí noticias generalmente gobierno. El ...   \n",
       "1  Descubre un récord previene a la escritora de ...   \n",
       "2  Establezca la respuesta de la comunidad en el ...   \n",
       "3  Fondo imagine tienda también desde asiento. Es...   \n",
       "4  Recuerde que el gas de recogida de mosca de vi...   \n",
       "\n",
       "                             DESCRIPCION_EXPERIMENTO  \\\n",
       "0  Resto PM probar ancho. Crimen por qué color co...   \n",
       "1  Así que el crimen es probable. Patrón afecta a...   \n",
       "2  Guardar niño. Enfréntate a un proyecto de ley ...   \n",
       "3  Exactamente mensaje de ataque llamar a alguien...   \n",
       "4  Conduciría la mención anterior al ser anterior...   \n",
       "\n",
       "                                          CONCLUSION        FECHA_INICIO  \\\n",
       "0  Ya gire a tomar el patio del centro de la naci... 2015-04-16 16:32:02   \n",
       "1  Su experiencia de trato de compra posible cora... 2018-11-03 05:16:03   \n",
       "2  Cuerpo religioso duro amor de plomo. Opción ga... 2018-01-28 08:40:09   \n",
       "3  Condición de drogas aún alcanzar. El enfoque d... 2017-02-10 00:46:44   \n",
       "4  Problema de desempeño del abogado del oficial ... 2016-06-07 08:55:06   \n",
       "\n",
       "   FECHA_FINALIZACION  \n",
       "0 2015-04-17 16:32:02  \n",
       "1 2018-11-04 05:16:03  \n",
       "2 2018-01-29 08:40:09  \n",
       "3 2017-02-11 00:46:44  \n",
       "4 2016-06-08 08:55:06  "
      ]
     },
     "execution_count": 23,
     "metadata": {},
     "output_type": "execute_result"
    }
   ],
   "source": [
    "# Se calcula la fecha de finalización como un día después del inicio\n",
    "df_experimento['FECHA_FINALIZACION'] = df_experimento['FECHA_INICIO'].apply(lambda x: calculateEndTime(x))\n",
    "df_experimento.head()"
   ]
  },
  {
   "cell_type": "code",
   "execution_count": 24,
   "metadata": {},
   "outputs": [],
   "source": [
    "# Exportamos a csv\n",
    "# df_sustancia.to_csv('csv/04-Experimento.csv', index=False)"
   ]
  }
 ],
 "metadata": {
  "kernelspec": {
   "display_name": "Python 3 (ipykernel)",
   "language": "python",
   "name": "python3"
  },
  "language_info": {
   "codemirror_mode": {
    "name": "ipython",
    "version": 3
   },
   "file_extension": ".py",
   "mimetype": "text/x-python",
   "name": "python",
   "nbconvert_exporter": "python",
   "pygments_lexer": "ipython3",
   "version": "3.9.7"
  }
 },
 "nbformat": 4,
 "nbformat_minor": 2
}
